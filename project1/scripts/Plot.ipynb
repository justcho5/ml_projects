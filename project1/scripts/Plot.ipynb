{
 "cells": [
  {
   "cell_type": "code",
   "execution_count": 2,
   "metadata": {},
   "outputs": [],
   "source": [
    "from run import run_all"
   ]
  },
  {
   "cell_type": "code",
   "execution_count": null,
   "metadata": {},
   "outputs": [
    {
     "name": "stdout",
     "output_type": "stream",
     "text": [
      "Load CSV file\n",
      "Pre process: initial (250000, 30), after cleaning (250000, 27)\n",
      "Try different models\n",
      "Start Degree =  8\n",
      "8 Run Ridge Regression\n",
      "Start Degree =  8\n",
      "8 Run Ridge Regression\n",
      "Start Degree =  8\n",
      "8 Run Ridge Regression\n",
      "Start Degree =  8\n",
      "8 Run Ridge Regression\n",
      "Start Degree =  8\n",
      "8 Run Ridge Regression\n",
      "Start Degree =  8\n",
      "8 Run Ridge Regression\n",
      "Start Degree =  8\n",
      "8 Run Ridge Regression\n",
      "Start Degree =  8\n",
      "8 Run Ridge Regression\n"
     ]
    }
   ],
   "source": [
    "abc = run_all()"
   ]
  },
  {
   "cell_type": "code",
   "execution_count": null,
   "metadata": {},
   "outputs": [],
   "source": [
    "for i in abc:\n",
    "    print(i.loss_training, i._lambda)"
   ]
  },
  {
   "cell_type": "code",
   "execution_count": null,
   "metadata": {},
   "outputs": [],
   "source": [
    "import matplotlib.pyplot as plt\n",
    "import numpy as np\n",
    "\n",
    "lambds = list(map(lambda x: x._lambda, abc))\n",
    "mse_tr = list(map(lambda x: x.loss_training, abc))\n",
    "mse_te = list(map(lambda x: x.loss_test, abc))\n",
    "degree = 1\n",
    "\n",
    "\"\"\"visualization the curves of mse_tr and mse_te.\"\"\"\n",
    "plt.semilogx(lambds, mse_tr, marker=\".\", color='b', label='train error')\n",
    "plt.semilogx(lambds, mse_te, marker=\".\", color='r', label='test error')\n",
    "plt.xlabel(\"lambda\")\n",
    "plt.ylabel(\"rmse\")\n",
    "plt.title(\"cross validation degree {}\".format(degree))\n",
    "plt.legend(loc=2)\n",
    "plt.grid(True)\n",
    "plt.savefig(\"cross_validation_deg_{}\".format(degree))"
   ]
  },
  {
   "cell_type": "code",
   "execution_count": null,
   "metadata": {},
   "outputs": [],
   "source": []
  },
  {
   "cell_type": "code",
   "execution_count": null,
   "metadata": {},
   "outputs": [],
   "source": []
  },
  {
   "cell_type": "code",
   "execution_count": null,
   "metadata": {},
   "outputs": [],
   "source": [
    "\n",
    " \n",
    "degree = list(map(lambda x: str(x[0]), abc))\n",
    "train = list(map(lambda x: str(x[1]), abc))\n",
    "test = list(map(lambda x: str(x[2]), abc))\n",
    "\n",
    "fig, ax1 = plt.subplots()\n",
    "\n",
    "ax1.plot(degree, test, 'b-')\n",
    "ax1.set_xlabel('degree')\n",
    "# Make the y-axis label, ticks and tick labels match the line color.\n",
    "ax1.set_ylabel('test-error', color='b')\n",
    "\n",
    "ax2 = ax1.twinx()\n",
    "ax2.plot(degree, train, 'r-')\n",
    "ax2.set_ylabel('train-error', color='r')\n",
    "plt.show()"
   ]
  },
  {
   "cell_type": "code",
   "execution_count": null,
   "metadata": {},
   "outputs": [],
   "source": [
    "y_te, x_te, ids_te = load_csv_data(\"../data/train.csv\")"
   ]
  },
  {
   "cell_type": "code",
   "execution_count": null,
   "metadata": {},
   "outputs": [],
   "source": [
    "plt.hist(x_te[:, 1], 100, density=True, facecolor='g', alpha=0.75, log=True)\n",
    "np.var(x_te[:, 1])"
   ]
  },
  {
   "cell_type": "code",
   "execution_count": null,
   "metadata": {},
   "outputs": [],
   "source": []
  }
 ],
 "metadata": {
  "kernelspec": {
   "display_name": "Python 3",
   "language": "python",
   "name": "python3"
  }
 },
 "nbformat": 4,
 "nbformat_minor": 2
}
