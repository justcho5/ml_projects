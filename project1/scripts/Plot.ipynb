{
 "cells": [
  {
   "cell_type": "code",
   "execution_count": null,
   "metadata": {},
   "outputs": [],
   "source": [
    "%load_ext autoreload\n",
    "%autoreload 2\n",
    "%matplotlib inline "
   ]
  },
  {
   "cell_type": "code",
   "execution_count": null,
   "metadata": {},
   "outputs": [],
   "source": [
    "import matplotlib.pyplot as plt\n",
    "import numpy as np"
   ]
  },
  {
   "cell_type": "code",
   "execution_count": null,
   "metadata": {},
   "outputs": [],
   "source": [
    "from run import do_training_for_configuration"
   ]
  },
  {
   "cell_type": "markdown",
   "metadata": {},
   "source": [
    "### Plot F1 Score for different degrees"
   ]
  },
  {
   "cell_type": "code",
   "execution_count": null,
   "metadata": {},
   "outputs": [],
   "source": [
    "values_degrees = do_training_for_configuration(range(1, 21), [10e-15])"
   ]
  },
  {
   "cell_type": "code",
   "execution_count": null,
   "metadata": {},
   "outputs": [],
   "source": [
    "for x in values_degrees[0]:\n",
    "    print(x.average_score())"
   ]
  },
  {
   "cell_type": "code",
   "execution_count": null,
   "metadata": {
    "scrolled": true
   },
   "outputs": [],
   "source": [
    "import matplotlib.patches as mpatches\n",
    "def plot(data):\n",
    "    fig1, ax1 = plt.subplots(1,1, figsize=(15,10))\n",
    "    ax1.set_title(\"F1 Score with different Degree\", fontsize=22)\n",
    "    ax1.set_xlabel('Degree', fontsize=22)\n",
    "    ax1.set_ylabel('F1 Score', fontsize=22)\n",
    "    ax1.boxplot(data, showfliers=False, meanline=True, showmeans=True)\n",
    "    ax1.tick_params(axis = 'both', labelsize = 18)\n",
    "    ax1.set_xticklabels(list(map(lambda x: str(x), range(10,21))))\n",
    "    \n",
    "    plt.legend(fontsize = 16, loc = 3, handles = [mpatches.Patch(color='orange', label = 'Median'), mpatches.Patch(color='green', label = 'Mean')])\n",
    "    plt.figure(figsize=(10, 10))\n",
    "    plt.show()\n",
    "    fig1.savefig('plot_10-20.png')   # save the figure to file\n",
    "    plt.close(fig1)  "
   ]
  },
  {
   "cell_type": "code",
   "execution_count": null,
   "metadata": {},
   "outputs": [],
   "source": [
    "f1_scores = list(map(lambda x: x.f1_scores, values_degrees[0]))\n",
    "plot(f1_scores)\n",
    "print(\"Max\", np.max(np.average(f1_scores, axis=1)))\n",
    "print(\"Argmax\", np.argmax(np.average(f1_scores, axis=1)))\n",
    "print(\"Average\", np.average(f1_scores, axis=1))"
   ]
  },
  {
   "cell_type": "markdown",
   "metadata": {},
   "source": [
    "### Plot different degree and lambda"
   ]
  },
  {
   "cell_type": "code",
   "execution_count": null,
   "metadata": {},
   "outputs": [],
   "source": [
    "lambdas_grid_search = do_training_for_configuration([2], np.logspace(-10, -5, 5))"
   ]
  },
  {
   "cell_type": "code",
   "execution_count": null,
   "metadata": {},
   "outputs": [],
   "source": [
    "f1_scores = list(map(lambda x: x.f1_scores, lambdas_grid_search[0]))\n",
    "lambdas = list(map(lambda x: x.lambda_, lambdas_grid_search[0]))\n",
    "\n",
    "print(lambdas)\n",
    "print(np.argmax(np.average(f1_scores, axis=1)))\n",
    "\n",
    "fig1, ax1 = plt.subplots(1,1, figsize=(15,10))\n",
    "ax1.set_title(\"Lambda Grid Search\", fontsize = 22)\n",
    "ax1.set_xlabel('Lambda', fontsize=22)\n",
    "ax1.set_ylabel('F1 Score', fontsize=22)\n",
    "ax1.boxplot(f1_scores, showfliers=False, showmeans=True, meanline=True)\n",
    "ax1.tick_params(axis = 'both', labelsize = 18)\n",
    "ax1.set_xticklabels(lambdas)\n",
    "plt.legend(fontsize = 16, loc = 4, handles = [mpatches.Patch(color='orange', label = 'Median'), mpatches.Patch(color='green', label = 'Mean')])\n",
    "\n",
    "plt.xticks(rotation=45)\n",
    "plt.figure(figsize=(10, 10))\n",
    "plt.show()\n",
    "fig1.savefig('plot_lambda_all.png')   # save the figure to file\n",
    "plt.close(fig1)"
   ]
  }
 ],
 "metadata": {
  "kernelspec": {
   "display_name": "Python 3",
   "language": "python",
   "name": "python3"
  },
  "language_info": {
   "codemirror_mode": {
    "name": "ipython",
    "version": 3
   },
   "file_extension": ".py",
   "mimetype": "text/x-python",
   "name": "python",
   "nbconvert_exporter": "python",
   "pygments_lexer": "ipython3",
   "version": "3.6.6"
  }
 },
 "nbformat": 4,
 "nbformat_minor": 2
}
