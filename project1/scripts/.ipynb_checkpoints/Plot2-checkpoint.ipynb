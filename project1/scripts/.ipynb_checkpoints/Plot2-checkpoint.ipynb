{
 "cells": [
  {
   "cell_type": "code",
   "execution_count": 2,
   "metadata": {},
   "outputs": [
    {
     "name": "stdout",
     "output_type": "stream",
     "text": [
      "The autoreload extension is already loaded. To reload it, use:\n",
      "  %reload_ext autoreload\n"
     ]
    }
   ],
   "source": [
    "%load_ext autoreload\n",
    "%autoreload 2"
   ]
  },
  {
   "cell_type": "code",
   "execution_count": 3,
   "metadata": {},
   "outputs": [
    {
     "name": "stdout",
     "output_type": "stream",
     "text": [
      "Load CSV file\n"
     ]
    }
   ],
   "source": [
    "from test import call_all"
   ]
  },
  {
   "cell_type": "code",
   "execution_count": 119,
   "metadata": {},
   "outputs": [
    {
     "name": "stdout",
     "output_type": "stream",
     "text": [
      "Load CSV file\n",
      "deg 1 lambda 1e-15\n",
      "Degree 1, lambda 1e-15, Average loss training:  148252.016803\n",
      "Degree 1, lambda 1e-15, Average loss test:  16485.7334571\n",
      "Degree 1, lambda 1e-15, Average f1_score:  0.629941660517\n",
      "deg 2 lambda 1e-15\n",
      "Degree 2, lambda 1e-15, Average loss training:  135875.479112\n",
      "Degree 2, lambda 1e-15, Average loss test:  63689.4343082\n",
      "Degree 2, lambda 1e-15, Average f1_score:  0.677222254851\n",
      "deg 3 lambda 1e-15\n",
      "Degree 3, lambda 1e-15, Average loss training:  131595.056077\n",
      "Degree 3, lambda 1e-15, Average loss test:  28550.4115678\n",
      "Degree 3, lambda 1e-15, Average f1_score:  0.691328107297\n",
      "deg 4 lambda 1e-15\n",
      "Degree 4, lambda 1e-15, Average loss training:  129541.342109\n",
      "Degree 4, lambda 1e-15, Average loss test:  793460125299.0\n",
      "Degree 4, lambda 1e-15, Average f1_score:  0.69968422528\n",
      "deg 5 lambda 1e-15\n",
      "Degree 5, lambda 1e-15, Average loss training:  127369.212297\n",
      "Degree 5, lambda 1e-15, Average loss test:  2.1737969148e+16\n",
      "Degree 5, lambda 1e-15, Average f1_score:  0.708032777977\n",
      "deg 6 lambda 1e-15\n",
      "Degree 6, lambda 1e-15, Average loss training:  124424.264288\n",
      "Degree 6, lambda 1e-15, Average loss test:  1.18644834146e+19\n",
      "Degree 6, lambda 1e-15, Average f1_score:  0.71835968889\n",
      "deg 7 lambda 1e-15\n",
      "Degree 7, lambda 1e-15, Average loss training:  602951.679758\n",
      "Degree 7, lambda 1e-15, Average loss test:  4.25807001891e+21\n",
      "Degree 7, lambda 1e-15, Average f1_score:  0.717409563448\n",
      "deg 8 lambda 1e-15\n",
      "Degree 8, lambda 1e-15, Average loss training:  119691.979804\n",
      "Degree 8, lambda 1e-15, Average loss test:  6.44917898455e+24\n",
      "Degree 8, lambda 1e-15, Average f1_score:  0.735056981963\n",
      "deg 9 lambda 1e-15\n",
      "Degree 9, lambda 1e-15, Average loss training:  118795.724618\n",
      "Degree 9, lambda 1e-15, Average loss test:  3.33017929312e+31\n",
      "Degree 9, lambda 1e-15, Average f1_score:  0.737585580938\n",
      "deg 10 lambda 1e-15\n",
      "Degree 10, lambda 1e-15, Average loss training:  117586.302811\n",
      "Degree 10, lambda 1e-15, Average loss test:  4.29130032678e+34\n",
      "Degree 10, lambda 1e-15, Average f1_score:  0.73944821137\n",
      "deg 11 lambda 1e-15\n",
      "Degree 11, lambda 1e-15, Average loss training:  115791.15942\n",
      "Degree 11, lambda 1e-15, Average loss test:  4.09347749738e+38\n",
      "Degree 11, lambda 1e-15, Average f1_score:  0.741987513401\n",
      "deg 12 lambda 1e-15\n",
      "Degree 12, lambda 1e-15, Average loss training:  119400.426841\n",
      "Degree 12, lambda 1e-15, Average loss test:  5.31126674602e+42\n",
      "Degree 12, lambda 1e-15, Average f1_score:  0.739425732841\n",
      "deg 13 lambda 1e-15\n",
      "Degree 13, lambda 1e-15, Average loss training:  119392.139531\n",
      "Degree 13, lambda 1e-15, Average loss test:  3.92836978839e+45\n",
      "Degree 13, lambda 1e-15, Average f1_score:  0.738218289077\n",
      "deg 14 lambda 1e-15\n",
      "Degree 14, lambda 1e-15, Average loss training:  115040.008218\n",
      "Degree 14, lambda 1e-15, Average loss test:  6.84612005991e+49\n",
      "Degree 14, lambda 1e-15, Average f1_score:  0.743464374899\n",
      "deg 15 lambda 1e-15\n",
      "Degree 15, lambda 1e-15, Average loss training:  114886.218605\n",
      "Degree 15, lambda 1e-15, Average loss test:  1.42834937554e+53\n",
      "Degree 15, lambda 1e-15, Average f1_score:  0.743003899597\n",
      "deg 16 lambda 1e-15\n",
      "Degree 16, lambda 1e-15, Average loss training:  121164.216782\n",
      "Degree 16, lambda 1e-15, Average loss test:  1.36287899739e+56\n",
      "Degree 16, lambda 1e-15, Average f1_score:  0.739716823701\n",
      "deg 17 lambda 1e-15\n",
      "Degree 17, lambda 1e-15, Average loss training:  639476.296267\n",
      "Degree 17, lambda 1e-15, Average loss test:  3.36466286093e+59\n",
      "Degree 17, lambda 1e-15, Average f1_score:  0.720096412544\n",
      "deg 18 lambda 1e-15\n",
      "Degree 18, lambda 1e-15, Average loss training:  121387.92287\n",
      "Degree 18, lambda 1e-15, Average loss test:  7.49527436491e+62\n",
      "Degree 18, lambda 1e-15, Average f1_score:  0.738636100481\n",
      "deg 19 lambda 1e-15\n",
      "Degree 19, lambda 1e-15, Average loss training:  151215.125058\n",
      "Degree 19, lambda 1e-15, Average loss test:  8.61474170999e+64\n",
      "Degree 19, lambda 1e-15, Average f1_score:  0.72864247804\n",
      "deg 20 lambda 1e-15\n",
      "Degree 20, lambda 1e-15, Average loss training:  347449.601251\n",
      "Degree 20, lambda 1e-15, Average loss test:  8.88984889346e+66\n",
      "Degree 20, lambda 1e-15, Average f1_score:  0.727208225859\n"
     ]
    }
   ],
   "source": [
    "values_degrees = call_all()"
   ]
  },
  {
   "cell_type": "code",
   "execution_count": 5,
   "metadata": {},
   "outputs": [],
   "source": [
    "import matplotlib.pyplot as plt\n",
    "import numpy as np\n",
    "import pickle as p"
   ]
  },
  {
   "cell_type": "code",
   "execution_count": 6,
   "metadata": {},
   "outputs": [
    {
     "ename": "NameError",
     "evalue": "name 'pickle' is not defined",
     "output_type": "error",
     "traceback": [
      "\u001b[0;31m---------------------------------------------------------------------------\u001b[0m",
      "\u001b[0;31mNameError\u001b[0m                                 Traceback (most recent call last)",
      "\u001b[0;32m<ipython-input-6-3af9ee5b63ff>\u001b[0m in \u001b[0;36m<module>\u001b[0;34m()\u001b[0m\n\u001b[0;32m----> 1\u001b[0;31m \u001b[0mpickle\u001b[0m\u001b[0;34m.\u001b[0m\u001b[0mdump\u001b[0m\u001b[0;34m(\u001b[0m \u001b[0mvalues\u001b[0m\u001b[0;34m,\u001b[0m \u001b[0mopen\u001b[0m\u001b[0;34m(\u001b[0m \u001b[0;34m\"values.p\"\u001b[0m\u001b[0;34m,\u001b[0m \u001b[0;34m\"wb\"\u001b[0m \u001b[0;34m)\u001b[0m \u001b[0;34m)\u001b[0m\u001b[0;34m\u001b[0m\u001b[0m\n\u001b[0m",
      "\u001b[0;31mNameError\u001b[0m: name 'pickle' is not defined"
     ]
    }
   ],
   "source": [
    "pickle.dump( values, open( \"values.p\", \"wb\" ) )"
   ]
  },
  {
   "cell_type": "code",
   "execution_count": 7,
   "metadata": {
    "collapsed": true
   },
   "outputs": [],
   "source": [
    "%matplotlib inline "
   ]
  },
  {
   "cell_type": "code",
   "execution_count": 159,
   "metadata": {
    "scrolled": true
   },
   "outputs": [],
   "source": [
    "import matplotlib.patches as mpatches\n",
    "def plot(data):\n",
    "    fig1, ax1 = plt.subplots(1,1, figsize=(15,10))\n",
    "    ax1.set_title(\"F1 Score with different Degree\", fontsize=22)\n",
    "    ax1.set_xlabel('Degree', fontsize=22)\n",
    "    ax1.set_ylabel('F1 Score', fontsize=22)\n",
    "    ax1.boxplot(data, showfliers=False, meanline=True, showmeans=True)\n",
    "    ax1.tick_params(axis = 'both', labelsize = 18)\n",
    "    ax1.set_xticklabels(list(map(lambda x: str(x), range(10,21))))\n",
    "    \n",
    "    plt.legend(fontsize = 16, loc = 3, handles = [mpatches.Patch(color='orange', label = 'Median'), mpatches.Patch(color='green', label = 'Mean')])\n",
    "    plt.figure(figsize=(10, 10))\n",
    "    plt.show()\n",
    "    fig1.savefig('plot_10-20.png')   # save the figure to file\n",
    "    plt.close(fig1)  "
   ]
  },
  {
   "cell_type": "code",
   "execution_count": 160,
   "metadata": {},
   "outputs": [
    {
     "data": {
      "image/png": "[encoded data removed]",
      "text/plain": [
       "<matplotlib.figure.Figure at 0x1719693c8>"
      ]
     },
     "metadata": {},
     "output_type": "display_data"
    },
    {
     "data": {
      "text/plain": [
       "<matplotlib.figure.Figure at 0x1110ab240>"
      ]
     },
     "metadata": {},
     "output_type": "display_data"
    },
    {
     "name": "stdout",
     "output_type": "stream",
     "text": [
      "0.743464374899\n",
      "4\n",
      "[ 0.73944821  0.74198751  0.73942573  0.73821829  0.74346437  0.7430039\n",
      "  0.73971682  0.72009641  0.7386361   0.72864248  0.72720823]\n"
     ]
    }
   ],
   "source": [
    "plot(list(map(lambda x: x[2], values_degrees[9:])))\n",
    "print(np.max(np.average(list(map(lambda x: x[2], values_degrees[9:])), axis=1)))\n",
    "print(np.argmax(np.average(list(map(lambda x: x[2], values_degrees[9:])), axis=1)))\n",
    "print(np.average(list(map(lambda x: x[2], values_degrees[9:])), axis=1))"
   ]
  },
  {
   "cell_type": "code",
   "execution_count": 76,
   "metadata": {},
   "outputs": [
    {
     "ename": "NameError",
     "evalue": "name 'old_partition' is not defined",
     "output_type": "error",
     "traceback": [
      "\u001b[0;31m---------------------------------------------------------------------------\u001b[0m",
      "\u001b[0;31mNameError\u001b[0m                                 Traceback (most recent call last)",
      "\u001b[0;32m<ipython-input-76-868b91fc9ebc>\u001b[0m in \u001b[0;36m<module>\u001b[0;34m()\u001b[0m\n\u001b[0;32m----> 1\u001b[0;31m \u001b[0mplot\u001b[0m\u001b[0;34m(\u001b[0m\u001b[0mlist\u001b[0m\u001b[0;34m(\u001b[0m\u001b[0mmap\u001b[0m\u001b[0;34m(\u001b[0m\u001b[0;32mlambda\u001b[0m \u001b[0mx\u001b[0m\u001b[0;34m:\u001b[0m \u001b[0mx\u001b[0m\u001b[0;34m.\u001b[0m\u001b[0mf1_scores\u001b[0m\u001b[0;34m,\u001b[0m \u001b[0mold_partition\u001b[0m\u001b[0;34m)\u001b[0m\u001b[0;34m)\u001b[0m\u001b[0;34m)\u001b[0m\u001b[0;34m\u001b[0m\u001b[0m\n\u001b[0m\u001b[1;32m      2\u001b[0m \u001b[0mnp\u001b[0m\u001b[0;34m.\u001b[0m\u001b[0mmax\u001b[0m\u001b[0;34m(\u001b[0m\u001b[0mnp\u001b[0m\u001b[0;34m.\u001b[0m\u001b[0maverage\u001b[0m\u001b[0;34m(\u001b[0m\u001b[0mlist\u001b[0m\u001b[0;34m(\u001b[0m\u001b[0mmap\u001b[0m\u001b[0;34m(\u001b[0m\u001b[0;32mlambda\u001b[0m \u001b[0mx\u001b[0m\u001b[0;34m:\u001b[0m \u001b[0mx\u001b[0m\u001b[0;34m.\u001b[0m\u001b[0mf1_scores\u001b[0m\u001b[0;34m,\u001b[0m \u001b[0mold_partition\u001b[0m\u001b[0;34m)\u001b[0m\u001b[0;34m)\u001b[0m\u001b[0;34m,\u001b[0m \u001b[0maxis\u001b[0m\u001b[0;34m=\u001b[0m\u001b[0;36m1\u001b[0m\u001b[0;34m)\u001b[0m\u001b[0;34m)\u001b[0m\u001b[0;34m\u001b[0m\u001b[0m\n",
      "\u001b[0;31mNameError\u001b[0m: name 'old_partition' is not defined"
     ]
    }
   ],
   "source": [
    "plot(list(map(lambda x: x.f1_scores, old_partition)))\n",
    "np.max(np.average(list(map(lambda x: x.f1_scores, old_partition)), axis=1))"
   ]
  },
  {
   "cell_type": "code",
   "execution_count": null,
   "metadata": {
    "collapsed": true
   },
   "outputs": [],
   "source": [
    "fig2, ax2 = plt.subplots(figsize=(15, 10))\n",
    "ax2.set_title('Test Error')\n",
    "ax2.set_xlabel('Degree')\n",
    "plt.figure(figsize=(10, 10))\n",
    "data = list(map(lambda x: x.losses_test, abc[:7]))\n",
    "ax2.boxplot(data, showfliers=False)\n",
    "plt.figure(figsize=(10, 10))"
   ]
  },
  {
   "cell_type": "code",
   "execution_count": null,
   "metadata": {
    "collapsed": true
   },
   "outputs": [],
   "source": [
    "fig3, ax3 = plt.subplots(figsize=(15, 10))\n",
    "ax3.set_title('Training Error')\n",
    "ax3.set_xlabel('Degree')\n",
    "ax3.boxplot(list(map(lambda x: x.losses_trainign, abc[:7])), showfliers=False)\n",
    "plt.show()"
   ]
  },
  {
   "cell_type": "code",
   "execution_count": null,
   "metadata": {
    "collapsed": true
   },
   "outputs": [],
   "source": [
    "\n",
    "import matplotlib.pyplot as plt\n",
    "import numpy as np\n",
    "\n",
    "degree = list(map(lambda x: str(x[0]), abc))\n",
    "train = list(map(lambda x: str(x[1]), abc))\n",
    "test = list(map(lambda x: str(x[2]), abc))\n",
    "\n",
    "fig, ax1 = plt.subplots()\n",
    "\n",
    "ax1.plot(degree, test, 'b-')\n",
    "ax1.set_xlabel('degree')\n",
    "# Make the y-axis label, ticks and tick labels match the line color.\n",
    "ax1.set_ylabel('test-error', color='b')\n",
    "\n",
    "ax2 = ax1.twinx()\n",
    "ax2.plot(degree, train, 'r-')\n",
    "ax2.set_ylabel('train-error', color='r')\n",
    "plt.show()"
   ]
  },
  {
   "cell_type": "code",
   "execution_count": null,
   "metadata": {
    "collapsed": true
   },
   "outputs": [],
   "source": [
    "y_te, x_te, ids_te = load_csv_data(\"../data/train.csv\")"
   ]
  },
  {
   "cell_type": "code",
   "execution_count": null,
   "metadata": {
    "collapsed": true
   },
   "outputs": [],
   "source": [
    "plt.hist(x_te[:, 1], 100, density=True, facecolor='g', alpha=0.75, log=True)\n",
    "np.var(x_te[:, 1])"
   ]
  },
  {
   "cell_type": "markdown",
   "metadata": {},
   "source": [
    "### Plot different degree and lambda"
   ]
  },
  {
   "cell_type": "code",
   "execution_count": 173,
   "metadata": {},
   "outputs": [
    {
     "name": "stdout",
     "output_type": "stream",
     "text": [
      "[9.9999999999999995e-21, 9.9999999999999998e-20, 1.0000000000000001e-18, 1.0000000000000001e-17, 9.9999999999999998e-17, 1.0000000000000001e-15, 1e-14, 1e-13, 9.9999999999999998e-13, 9.9999999999999994e-12, 1e-10, 1.0000000000000001e-09, 1e-08, 9.9999999999999995e-08, 9.9999999999999995e-07, 1.0000000000000001e-05, 0.0001, 0.001, 0.01, 0.10000000000000001]\n",
      "5\n"
     ]
    },
    {
     "data": {
      "image/png": "[encoded data removed]",
      "text/plain": [
       "<matplotlib.figure.Figure at 0x10fd01d30>"
      ]
     },
     "metadata": {},
     "output_type": "display_data"
    },
    {
     "data": {
      "text/plain": [
       "<matplotlib.figure.Figure at 0x1115800f0>"
      ]
     },
     "metadata": {},
     "output_type": "display_data"
    }
   ],
   "source": [
    "f1_scores = list(map(lambda x: x[2], values))\n",
    "lambdas = list(map(lambda x:x[3], values))\n",
    "print(lambdas)\n",
    "print(np.argmax(np.average(f1_scores, axis=1)))\n",
    "\n",
    "fig1, ax1 = plt.subplots(1,1, figsize=(15,10))\n",
    "ax1.set_title(\"Lambda Grid Search\", fontsize = 22)\n",
    "ax1.set_xlabel('Lambda', fontsize=22)\n",
    "ax1.set_ylabel('F1 Score', fontsize=22)\n",
    "ax1.boxplot(f1_scores, showfliers=False, showmeans=True, meanline=True)\n",
    "ax1.tick_params(axis = 'both', labelsize = 18)\n",
    "ax1.set_xticklabels(lambdas)\n",
    "plt.legend(fontsize = 16, loc = 4, handles = [mpatches.Patch(color='orange', label = 'Median'), mpatches.Patch(color='green', label = 'Mean')])\n",
    "\n",
    "plt.xticks(rotation=45)\n",
    "plt.figure(figsize=(10, 10))\n",
    "plt.show()\n",
    "fig1.savefig('plot_lambda_all.png')   # save the figure to file\n",
    "plt.close(fig1)"
   ]
  },
  {
   "cell_type": "code",
   "execution_count": null,
   "metadata": {
    "collapsed": true
   },
   "outputs": [],
   "source": []
  },
  {
   "cell_type": "code",
   "execution_count": null,
   "metadata": {
    "collapsed": true
   },
   "outputs": [],
   "source": []
  }
 ],
 "metadata": {
  "kernelspec": {
   "display_name": "Python [default]",
   "language": "python",
   "name": "python3"
  },
  "language_info": {
   "codemirror_mode": {
    "name": "ipython",
    "version": 3
   },
   "file_extension": ".py",
   "mimetype": "text/x-python",
   "name": "python",
   "nbconvert_exporter": "python",
   "pygments_lexer": "ipython3",
   "version": "3.6.2"
  }
 },
 "nbformat": 4,
 "nbformat_minor": 2
}
