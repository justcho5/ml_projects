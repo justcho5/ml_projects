{
 "cells": [
  {
   "cell_type": "code",
   "execution_count": 1,
   "metadata": {},
   "outputs": [],
   "source": [
    "%load_ext autoreload\n",
    "%autoreload 2"
   ]
  },
  {
   "cell_type": "code",
   "execution_count": 5,
   "metadata": {},
   "outputs": [
    {
     "name": "stdout",
     "output_type": "stream",
     "text": [
      "Load CSV file\n"
     ]
    }
   ],
   "source": [
    "from test import call_all"
   ]
  },
  {
   "cell_type": "code",
   "execution_count": 6,
   "metadata": {},
   "outputs": [
    {
     "name": "stdout",
     "output_type": "stream",
     "text": [
      "deg 1\n",
      "Degree 1, lambda 1e-15, Average loss training:  148252.01680206778\n",
      "Degree 1, lambda 1e-15, Average loss test:  16485.733473773274\n",
      "Degree 1, lambda 1e-15, Average f1_score:  0.6299416605174264\n",
      "deg 2\n",
      "Degree 2, lambda 1e-15, Average loss training:  135875.44424258295\n",
      "Degree 2, lambda 1e-15, Average loss test:  63689.45402805201\n",
      "Degree 2, lambda 1e-15, Average f1_score:  0.6772222548507801\n",
      "deg 3\n",
      "Degree 3, lambda 1e-15, Average loss training:  131595.0667107197\n",
      "Degree 3, lambda 1e-15, Average loss test:  28550.816389766238\n",
      "Degree 3, lambda 1e-15, Average f1_score:  0.6913216996985163\n",
      "deg 4\n",
      "Degree 4, lambda 1e-15, Average loss training:  129541.36913281334\n",
      "Degree 4, lambda 1e-15, Average loss test:  793444309498.875\n",
      "Degree 4, lambda 1e-15, Average f1_score:  0.6996774511673814\n",
      "deg 5\n",
      "Degree 5, lambda 1e-15, Average loss training:  127369.14767050925\n",
      "Degree 5, lambda 1e-15, Average loss test:  2.1737228939552736e+16\n",
      "Degree 5, lambda 1e-15, Average f1_score:  0.7080327052186044\n",
      "deg 6\n",
      "Degree 6, lambda 1e-15, Average loss training:  124424.5951992718\n",
      "Degree 6, lambda 1e-15, Average loss test:  1.1872092369822579e+19\n",
      "Degree 6, lambda 1e-15, Average f1_score:  0.7184415118738118\n",
      "deg 7\n",
      "Degree 7, lambda 1e-15, Average loss training:  121573.08842746168\n",
      "Degree 7, lambda 1e-15, Average loss test:  4.2748724128629465e+21\n",
      "Degree 7, lambda 1e-15, Average f1_score:  0.7281735865584226\n",
      "deg 8\n",
      "Degree 8, lambda 1e-15, Average loss training:  119700.76505393858\n",
      "Degree 8, lambda 1e-15, Average loss test:  6.357558668296695e+24\n",
      "Degree 8, lambda 1e-15, Average f1_score:  0.7350480295356094\n",
      "deg 9\n",
      "Degree 9, lambda 1e-15, Average loss training:  118820.04766214248\n",
      "Degree 9, lambda 1e-15, Average loss test:  3.9745060340953194e+31\n",
      "Degree 9, lambda 1e-15, Average f1_score:  0.737431925191621\n",
      "deg 10\n",
      "Degree 10, lambda 1e-15, Average loss training:  117893.1343067226\n",
      "Degree 10, lambda 1e-15, Average loss test:  4.345166821777984e+34\n",
      "Degree 10, lambda 1e-15, Average f1_score:  0.739125990668376\n",
      "deg 11\n",
      "Degree 11, lambda 1e-15, Average loss training:  121823.06596369194\n",
      "Degree 11, lambda 1e-15, Average loss test:  4.19320634597683e+38\n",
      "Degree 11, lambda 1e-15, Average f1_score:  0.7417675211975854\n",
      "deg 12\n",
      "Degree 12, lambda 1e-15, Average loss training:  259449.29277558665\n",
      "Degree 12, lambda 1e-15, Average loss test:  4.780463304565364e+42\n",
      "Degree 12, lambda 1e-15, Average f1_score:  0.7320542521785711\n",
      "deg 13\n",
      "Degree 13, lambda 1e-15, Average loss training:  116187.99151466558\n",
      "Degree 13, lambda 1e-15, Average loss test:  5.442985449464301e+46\n",
      "Degree 13, lambda 1e-15, Average f1_score:  0.7417202423437607\n",
      "deg 14\n",
      "Degree 14, lambda 1e-15, Average loss training:  2623805.4493123568\n",
      "Degree 14, lambda 1e-15, Average loss test:  5.32962379364467e+49\n",
      "Degree 14, lambda 1e-15, Average f1_score:  0.7278886675210537\n",
      "deg 15\n",
      "Degree 15, lambda 1e-15, Average loss training:  125006.68766647151\n",
      "Degree 15, lambda 1e-15, Average loss test:  3.1565073518246618e+50\n",
      "Degree 15, lambda 1e-15, Average f1_score:  0.737877880915308\n",
      "deg 16\n",
      "Degree 16, lambda 1e-15, Average loss training:  132330.06770383997\n",
      "Degree 16, lambda 1e-15, Average loss test:  9.827452218241534e+55\n",
      "Degree 16, lambda 1e-15, Average f1_score:  0.7345889086778017\n",
      "deg 17\n",
      "Degree 17, lambda 1e-15, Average loss training:  3981640.5163191445\n",
      "Degree 17, lambda 1e-15, Average loss test:  1.0189755009697091e+60\n",
      "Degree 17, lambda 1e-15, Average f1_score:  0.7160867601425412\n",
      "deg 18\n",
      "Degree 18, lambda 1e-15, Average loss training:  12225095908.619804\n",
      "Degree 18, lambda 1e-15, Average loss test:  5.772174048050414e+61\n",
      "Degree 18, lambda 1e-15, Average f1_score:  0.7054466711007358\n",
      "deg 19\n",
      "Degree 19, lambda 1e-15, Average loss training:  115477.82085502618\n",
      "Degree 19, lambda 1e-15, Average loss test:  3.137778340285564e+64\n",
      "Degree 19, lambda 1e-15, Average f1_score:  0.7430295531791218\n",
      "deg 20\n",
      "Degree 20, lambda 1e-15, Average loss training:  172656.39371862545\n",
      "Degree 20, lambda 1e-15, Average loss test:  3.732452294320602e+69\n",
      "Degree 20, lambda 1e-15, Average f1_score:  0.7333256094028545\n"
     ]
    }
   ],
   "source": [
    "values = call_all()"
   ]
  },
  {
   "cell_type": "code",
   "execution_count": 7,
   "metadata": {},
   "outputs": [
    {
     "name": "stdout",
     "output_type": "stream",
     "text": [
      "Load CSV file\n"
     ]
    }
   ],
   "source": [
    "import matplotlib.pyplot as plt\n",
    "import numpy as np\n",
    "import pickle as p"
   ]
  },
  {
   "cell_type": "code",
   "execution_count": null,
   "metadata": {},
   "outputs": [],
   "source": [
    "pickle.dump( values, open( \"values.p\", \"wb\" ) )"
   ]
  },
  {
   "cell_type": "code",
   "execution_count": 8,
   "metadata": {},
   "outputs": [],
   "source": [
    "%matplotlib inline "
   ]
  },
  {
   "cell_type": "code",
   "execution_count": 9,
   "metadata": {
    "scrolled": true
   },
   "outputs": [],
   "source": [
    "def plot(data):\n",
    "    fig1, ax1 = plt.subplots(1,1, figsize=(15,10))\n",
    "    ax1.set_xlabel('Degree')\n",
    "    ax1.set_ylabel('F1 Score')\n",
    "    ax1.boxplot(data, showfliers=False)\n",
    "    plt.figure(figsize=(10, 10))\n",
    "    plt.show()"
   ]
  },
  {
   "cell_type": "code",
   "execution_count": 12,
   "metadata": {},
   "outputs": [
    {
     "data": {
      "image/png": "[encoded data removed]",
      "text/plain": [
       "<Figure size 1080x720 with 1 Axes>"
      ]
     },
     "metadata": {
      "needs_background": "light"
     },
     "output_type": "display_data"
    },
    {
     "data": {
      "text/plain": [
       "<Figure size 720x720 with 0 Axes>"
      ]
     },
     "metadata": {},
     "output_type": "display_data"
    },
    {
     "name": "stdout",
     "output_type": "stream",
     "text": [
      "0.7430295531791218\n",
      "18\n"
     ]
    }
   ],
   "source": [
    "plot(list(map(lambda x: x[2], values)))\n",
    "print(np.max(np.average(list(map(lambda x: x[2], values)), axis=1)))\n",
    "print(np.argmax(np.average(list(map(lambda x: x[2], values)), axis=1)))\n",
    "\n"
   ]
  },
  {
   "cell_type": "code",
   "execution_count": null,
   "metadata": {},
   "outputs": [],
   "source": [
    "plot(list(map(lambda x: x.f1_scores, old_partition)))\n",
    "np.max(np.average(list(map(lambda x: x.f1_scores, old_partition)), axis=1))"
   ]
  },
  {
   "cell_type": "code",
   "execution_count": null,
   "metadata": {},
   "outputs": [],
   "source": [
    "fig2, ax2 = plt.subplots(figsize=(15, 10))\n",
    "ax2.set_title('Test Error')\n",
    "ax2.set_xlabel('Degree')\n",
    "plt.figure(figsize=(10, 10))\n",
    "data = list(map(lambda x: x.losses_test, abc[:7]))\n",
    "ax2.boxplot(data, showfliers=False)\n",
    "plt.figure(figsize=(10, 10))"
   ]
  },
  {
   "cell_type": "code",
   "execution_count": null,
   "metadata": {},
   "outputs": [],
   "source": [
    "fig3, ax3 = plt.subplots(figsize=(15, 10))\n",
    "ax3.set_title('Training Error')\n",
    "ax3.set_xlabel('Degree')\n",
    "ax3.boxplot(list(map(lambda x: x.losses_trainign, abc[:7])), showfliers=False)\n",
    "plt.show()"
   ]
  },
  {
   "cell_type": "code",
   "execution_count": null,
   "metadata": {},
   "outputs": [],
   "source": [
    "\n",
    "import matplotlib.pyplot as plt\n",
    "import numpy as np\n",
    "\n",
    "degree = list(map(lambda x: str(x[0]), abc))\n",
    "train = list(map(lambda x: str(x[1]), abc))\n",
    "test = list(map(lambda x: str(x[2]), abc))\n",
    "\n",
    "fig, ax1 = plt.subplots()\n",
    "\n",
    "ax1.plot(degree, test, 'b-')\n",
    "ax1.set_xlabel('degree')\n",
    "# Make the y-axis label, ticks and tick labels match the line color.\n",
    "ax1.set_ylabel('test-error', color='b')\n",
    "\n",
    "ax2 = ax1.twinx()\n",
    "ax2.plot(degree, train, 'r-')\n",
    "ax2.set_ylabel('train-error', color='r')\n",
    "plt.show()"
   ]
  },
  {
   "cell_type": "code",
   "execution_count": null,
   "metadata": {},
   "outputs": [],
   "source": [
    "y_te, x_te, ids_te = load_csv_data(\"../data/train.csv\")"
   ]
  },
  {
   "cell_type": "code",
   "execution_count": null,
   "metadata": {},
   "outputs": [],
   "source": [
    "plt.hist(x_te[:, 1], 100, density=True, facecolor='g', alpha=0.75, log=True)\n",
    "np.var(x_te[:, 1])"
   ]
  },
  {
   "cell_type": "markdown",
   "metadata": {},
   "source": [
    "### Plot different degree and lambda"
   ]
  },
  {
   "cell_type": "code",
   "execution_count": null,
   "metadata": {},
   "outputs": [],
   "source": []
  }
 ],
 "metadata": {
  "kernelspec": {
   "display_name": "Python 3",
   "language": "python",
   "name": "python3"
  },
  "language_info": {
   "codemirror_mode": {
    "name": "ipython",
    "version": 3
   },
   "file_extension": ".py",
   "mimetype": "text/x-python",
   "name": "python",
   "nbconvert_exporter": "python",
   "pygments_lexer": "ipython3",
   "version": "3.6.6"
  }
 },
 "nbformat": 4,
 "nbformat_minor": 2
}
