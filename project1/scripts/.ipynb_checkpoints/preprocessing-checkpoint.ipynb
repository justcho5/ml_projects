{
 "cells": [
  {
   "cell_type": "code",
   "execution_count": 1,
   "metadata": {
    "collapsed": true
   },
   "outputs": [],
   "source": [
    "import numpy as np"
   ]
  },
  {
   "cell_type": "markdown",
   "metadata": {},
   "source": [
    "asdfj"
   ]
  },
  {
   "cell_type": "code",
   "execution_count": null,
   "metadata": {
    "collapsed": true
   },
   "outputs": [],
   "source": [
    "train_datapath = \"../data/train.csv\"\n",
    "test_datapath = \"../data/test.csv\"\n",
    "y_tr, x_tr, ids_tr = load_csv_data(train_datapath)\n",
    "y_te, x_te, ids_te = load_csv_data(test_datapath)\n",
    "print(x_tr)\n",
    "# Preprocessing\n",
    "\n",
    "# Replace -999 by NaN\n",
    "x_tr[x_tr == -999] = np.nan\n",
    "print(\"Number of NaNs for each feature\", np.isnan(x_tr).sum(axis=0) / x_tr.shape[0])\n",
    "# Number of NaNs for each feature [ 0.152456  0.        0.        0.        0.709828  0.709828  0.709828  0.\n",
    "#   0.        0.        0.        0.        0.709828  0.        0.        0.\n",
    "#   0.        0.        0.        0.        0.        0.        0.        0.399652\n",
    "#   0.399652  0.399652  0.709828  0.709828  0.709828  0.      ]\n",
    "\n",
    "\n",
    "# print(\"original\", x_tr.shape)\n",
    "# print(\"nans\", x_tr[np.isnan(x_tr).any(axis=1)].shape)\n",
    "\n",
    "# Standardize features\n",
    "x_tr = (x_tr - np.nanmean(x_tr, axis=0)) / np.nanstd(x_tr, axis=0)"
   ]
  }
 ],
 "metadata": {
  "kernelspec": {
   "display_name": "Python [default]",
   "language": "python",
   "name": "python3"
  },
  "language_info": {
   "codemirror_mode": {
    "name": "ipython",
    "version": 3
   },
   "file_extension": ".py",
   "mimetype": "text/x-python",
   "name": "python",
   "nbconvert_exporter": "python",
   "pygments_lexer": "ipython3",
   "version": "3.6.2"
  }
 },
 "nbformat": 4,
 "nbformat_minor": 2
}
