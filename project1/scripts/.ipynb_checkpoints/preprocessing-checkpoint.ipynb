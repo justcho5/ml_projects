{
 "cells": [
  {
   "cell_type": "code",
   "execution_count": 7,
   "metadata": {
    "collapsed": true
   },
   "outputs": [],
   "source": [
    "import numpy as np\n",
    "from helpers import load_csv_data"
   ]
  },
  {
   "cell_type": "markdown",
   "metadata": {},
   "source": [
    "asdfj"
   ]
  },
  {
   "cell_type": "code",
   "execution_count": 8,
   "metadata": {},
   "outputs": [
    {
     "name": "stdout",
     "output_type": "stream",
     "text": [
      "[[ 138.47    51.655   97.827 ...,    1.24    -2.475  113.497]\n",
      " [ 160.937   68.768  103.235 ..., -999.    -999.      46.226]\n",
      " [-999.     162.172  125.953 ..., -999.    -999.      44.251]\n",
      " ..., \n",
      " [ 105.457   60.526   75.839 ..., -999.    -999.      41.992]\n",
      " [  94.951   19.362   68.812 ..., -999.    -999.       0.   ]\n",
      " [-999.      72.756   70.831 ..., -999.    -999.       0.   ]]\n"
     ]
    }
   ],
   "source": [
    "train_datapath = \"../data/train.csv\"\n",
    "test_datapath = \"../data/test.csv\"\n",
    "y_tr, x_tr, ids_tr = load_csv_data(train_datapath)\n",
    "y_te, x_te, ids_te = load_csv_data(test_datapath)\n",
    "print(x_tr)"
   ]
  },
  {
   "cell_type": "code",
   "execution_count": 24,
   "metadata": {},
   "outputs": [
    {
     "name": "stdout",
     "output_type": "stream",
     "text": [
      "Number of NaNs for each feature [ 0.152456  0.        0.        0.        0.709828  0.709828  0.709828  0.\n",
      "  0.        0.        0.        0.        0.709828  0.        0.        0.\n",
      "  0.        0.        0.        0.        0.        0.        0.        0.399652\n",
      "  0.399652  0.399652  0.709828  0.709828  0.709828  0.      ]\n",
      "(250000, 19)\n",
      "(568238, 19)\n",
      "[0 0 0 0 0 0 0 0 0 0 0 0 0 0 0 0 0 0 0]\n",
      "[0 0 0 0 0 0 0 0 0 0 0 0 0 0 0 0 0 0 0]\n",
      "(250000, 23)\n",
      "(568238, 23)\n",
      "[0 0 0 0 0 0 0 0 0 0 0 0 0 0 0 0 0 0 0 0 0 0 0]\n",
      "[0 0 0 0 0 0 0 0 0 0 0 0 0 0 0 0 0 0 0 0 0 0 0]\n"
     ]
    }
   ],
   "source": [
    "# Preprocessing\n",
    "\n",
    "# Replace -999 by NaN\n",
    "x_tr[x_tr == -999] = np.nan\n",
    "print(\"Number of NaNs for each feature\", np.isnan(x_tr).sum(axis=0) / x_tr.shape[0])\n",
    "\n",
    "# x_tr : original features\n",
    "# x_tr1 : removes all features with NaNs. Resulting shape (250000, 19)\n",
    "# x_tr2 : removes all features with > 70% NaNs and replaces the rest of the Nans with the feature mean (250000, 23)\n",
    "\n",
    "x_tr1 = x_tr[:,~np.isnan(x_tr).any(axis=0)]\n",
    "x_te1 = x_te[:, ~np.isnan(x_tr).any(axis=0)]\n",
    "x_tr2 = x_tr[:, ~(np.isnan(x_tr).sum(axis=0)/x_tr.shape[0]>0.7)]\n",
    "x_te2 = x_te[:, ~(np.isnan(x_tr).sum(axis=0)/x_tr.shape[0]>0.7)]\n",
    "col_mean = np.nanmean(x_tr2, axis=0)\n",
    "nan_inds_tr = np.where(np.isnan(x_tr2))\n",
    "nan_inds_te = np.where(np.isnan(x_te2))\n",
    "x_tr2[nan_inds_tr] = np.take(col_mean, nan_inds_tr[1])\n",
    "x_te2[nan_inds_te] = np.take(col_mean, nan_inds_te[1])\n",
    "\n",
    "print(x_tr1.shape)\n",
    "print(x_te1.shape)\n",
    "print(np.isnan(x_tr1).sum(axis=0))\n",
    "print(np.isnan(x_te1).sum(axis=0))\n",
    "print(x_tr2.shape)\n",
    "print(x_te2.shape)\n",
    "print(np.isnan(x_tr2).sum(axis=0))\n",
    "print(np.isnan(x_te2).sum(axis=0))\n",
    "\n",
    "# Number of NaNs for each feature [ 0.152456  0.        0.        0.        0.709828  0.709828  0.709828  0.\n",
    "#   0.        0.        0.        0.        0.709828  0.        0.        0.\n",
    "#   0.        0.        0.        0.        0.        0.        0.        0.399652\n",
    "#   0.399652  0.399652  0.709828  0.709828  0.709828  0.      ]\n",
    "\n",
    "\n",
    "# print(\"original\", x_tr.shape)\n",
    "# print(\"nans\", x_tr[np.isnan(x_tr).any(axis=1)].shape)"
   ]
  },
  {
   "cell_type": "code",
   "execution_count": null,
   "metadata": {
    "collapsed": true
   },
   "outputs": [],
   "source": [
    "# Standardize features\n",
    "x_tr = (x_tr - np.nanmean(x_tr, axis=0)) / np.nanstd(x_tr, axis=0)\n",
    "x_te = (x_te - np.nanmean(x_tr, axis=0)) / np.nanstd(x_tr, axis=0)\n",
    "x_tr1 = (x_tr1 - np.mean(x_tr1, axis=0)) / np.std(x_tr1, axis=0)\n",
    "x_te1 = (x_te1 - np.mean(x_tr1, axis=0)) / np.std(x_tr1, axis=0)\n",
    "x_tr2 = (x_tr2 - np.mean(x_tr2, axis = 0))/ np.std(x_tr1, axis=0)\n",
    "x_te2 = (x_te2 - np.mean(x_tr2, axis = 0))/ np.std(x_tr1, axis=0)"
   ]
  }
 ],
 "metadata": {
  "kernelspec": {
   "display_name": "Python [default]",
   "language": "python",
   "name": "python3"
  },
  "language_info": {
   "codemirror_mode": {
    "name": "ipython",
    "version": 3
   },
   "file_extension": ".py",
   "mimetype": "text/x-python",
   "name": "python",
   "nbconvert_exporter": "python",
   "pygments_lexer": "ipython3",
   "version": "3.6.2"
  }
 },
 "nbformat": 4,
 "nbformat_minor": 2
}
