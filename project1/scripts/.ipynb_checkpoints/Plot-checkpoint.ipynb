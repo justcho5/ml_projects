{
 "cells": [
  {
   "cell_type": "code",
   "execution_count": 1,
   "metadata": {},
   "outputs": [],
   "source": [
    "from run import run_all"
   ]
  },
  {
   "cell_type": "code",
   "execution_count": 2,
   "metadata": {},
   "outputs": [
    {
     "name": "stdout",
     "output_type": "stream",
     "text": [
      "Load CSV file\n",
      "Pre process: initial (250000, 30), after cleaning (250000, 27)\n",
      "Try different models\n",
      "Start Degree =  1\n",
      "1 Run Ridge Regression\n",
      "Start Degree =  1\n",
      "1 Run Ridge Regression\n",
      "Start Degree =  1\n",
      "1 Run Ridge Regression\n",
      "Start Degree =  1\n",
      "1 Run Ridge Regression\n",
      "Start Degree =  1\n",
      "1 Run Ridge Regression\n",
      "Start Degree =  1\n",
      "1 Run Ridge Regression\n",
      "1 390.5858 130.214 2.2081 1e-05 Ridge Regression\n",
      "Start Degree =  1\n",
      "1 Run Ridge Regression\n",
      "1 390.5858 130.214 2.208 8.8889e-06 Ridge Regression\n",
      "Start Degree =  1\n",
      "1 Run Ridge Regression\n",
      "1 390.5858 130.214 2.208 7.7778e-06 Ridge Regression\n",
      "1 390.5858 130.214 2.208 6.666700000000001e-06 Ridge Regression\n",
      "1 390.5858 130.214 2.2079 5.555600000000001e-06 Ridge Regression\n",
      "1 390.5858 130.214 2.2079 4.4445e-06 Ridge Regression\n",
      "Start Degree =  1\n",
      "1 Run Ridge Regression\n",
      "1 390.5858 130.214 2.2078 3.333400000000001e-06 Ridge Regression\n",
      "1 390.5858 130.214 2.2078 2.2223000000000007e-06 Ridge Regression\n",
      "Start Degree =  1\n",
      "1 Run Ridge Regression\n",
      "1 390.5856 130.2148 2.2079 1.1112000000000005e-06 Ridge Regression\n",
      "1 390.5856 130.2148 2.2076 1e-10 Ridge Regression\n",
      "1 390.5858 130.214 2.2081 1e-05 Ridge Regression\n",
      "1 390.5858 130.214 2.208 8.8889e-06 Ridge Regression\n",
      "1 390.5858 130.214 2.208 7.7778e-06 Ridge Regression\n",
      "1 390.5858 130.214 2.208 6.666700000000001e-06 Ridge Regression\n",
      "1 390.5858 130.214 2.2079 5.555600000000001e-06 Ridge Regression\n",
      "1 390.5858 130.214 2.2079 4.4445e-06 Ridge Regression\n",
      "1 390.5858 130.214 2.2078 3.333400000000001e-06 Ridge Regression\n",
      "1 390.5858 130.214 2.2078 2.2223000000000007e-06 Ridge Regression\n",
      "1 390.5856 130.2148 2.2079 1.1112000000000005e-06 Ridge Regression\n",
      "1 390.5856 130.2148 2.2076 1e-10 Ridge Regression\n"
     ]
    }
   ],
   "source": [
    "abc = run_all()"
   ]
  },
  {
   "cell_type": "code",
   "execution_count": 6,
   "metadata": {},
   "outputs": [
    {
     "name": "stdout",
     "output_type": "stream",
     "text": [
      "1e-05\n",
      "8.8889e-06\n",
      "7.7778e-06\n",
      "6.666700000000001e-06\n",
      "5.555600000000001e-06\n",
      "4.4445e-06\n",
      "3.333400000000001e-06\n",
      "2.2223000000000007e-06\n",
      "1.1112000000000005e-06\n",
      "1e-10\n"
     ]
    }
   ],
   "source": [
    "for i in abc:\n",
    "    print(i.loss_training)"
   ]
  },
  {
   "cell_type": "code",
   "execution_count": 13,
   "metadata": {},
   "outputs": [
    {
     "ename": "NameError",
     "evalue": "name 'degree' is not defined",
     "output_type": "error",
     "traceback": [
      "\u001b[0;31m---------------------------------------------------------------------------\u001b[0m",
      "\u001b[0;31mNameError\u001b[0m                                 Traceback (most recent call last)",
      "\u001b[0;32m<ipython-input-13-e9ff8c1fd746>\u001b[0m in \u001b[0;36m<module>\u001b[0;34m()\u001b[0m\n\u001b[1;32m     12\u001b[0m \u001b[0mplt\u001b[0m\u001b[0;34m.\u001b[0m\u001b[0mxlabel\u001b[0m\u001b[0;34m(\u001b[0m\u001b[0;34m\"lambda\"\u001b[0m\u001b[0;34m)\u001b[0m\u001b[0;34m\u001b[0m\u001b[0m\n\u001b[1;32m     13\u001b[0m \u001b[0mplt\u001b[0m\u001b[0;34m.\u001b[0m\u001b[0mylabel\u001b[0m\u001b[0;34m(\u001b[0m\u001b[0;34m\"rmse\"\u001b[0m\u001b[0;34m)\u001b[0m\u001b[0;34m\u001b[0m\u001b[0m\n\u001b[0;32m---> 14\u001b[0;31m \u001b[0mplt\u001b[0m\u001b[0;34m.\u001b[0m\u001b[0mtitle\u001b[0m\u001b[0;34m(\u001b[0m\u001b[0;34m\"cross validation degree {}\"\u001b[0m\u001b[0;34m.\u001b[0m\u001b[0mformat\u001b[0m\u001b[0;34m(\u001b[0m\u001b[0mdegree\u001b[0m\u001b[0;34m)\u001b[0m\u001b[0;34m)\u001b[0m\u001b[0;34m\u001b[0m\u001b[0m\n\u001b[0m\u001b[1;32m     15\u001b[0m \u001b[0mplt\u001b[0m\u001b[0;34m.\u001b[0m\u001b[0mlegend\u001b[0m\u001b[0;34m(\u001b[0m\u001b[0mloc\u001b[0m\u001b[0;34m=\u001b[0m\u001b[0;36m2\u001b[0m\u001b[0;34m)\u001b[0m\u001b[0;34m\u001b[0m\u001b[0m\n\u001b[1;32m     16\u001b[0m \u001b[0mplt\u001b[0m\u001b[0;34m.\u001b[0m\u001b[0mgrid\u001b[0m\u001b[0;34m(\u001b[0m\u001b[0;32mTrue\u001b[0m\u001b[0;34m)\u001b[0m\u001b[0;34m\u001b[0m\u001b[0m\n",
      "\u001b[0;31mNameError\u001b[0m: name 'degree' is not defined"
     ]
    },
    {
     "data": {
      "image/png": "[encoded data removed]",
      "text/plain": [
       "<Figure size 432x288 with 1 Axes>"
      ]
     },
     "metadata": {
      "needs_background": "light"
     },
     "output_type": "display_data"
    }
   ],
   "source": [
    "import matplotlib.pyplot as plt\n",
    "import numpy as np\n",
    "\n",
    "lambds = list(map(lambda x: x._lambda, abc))\n",
    "mse_tr = list(map(lambda x: x.loss_training, abc))\n",
    "mse_te = list(map(lambda x: x.loss_test, abc))\n",
    "\n",
    "\n",
    "\"\"\"visualization the curves of mse_tr and mse_te.\"\"\"\n",
    "plt.semilogx(lambds, mse_tr, marker=\".\", color='b', label='train error')\n",
    "plt.semilogx(lambds, mse_te, marker=\".\", color='r', label='test error')\n",
    "plt.xlabel(\"lambda\")\n",
    "plt.ylabel(\"rmse\")\n",
    "plt.title(\"cross validation degree {}\".format(degree))\n",
    "plt.legend(loc=2)\n",
    "plt.grid(True)\n",
    "plt.savefig(\"cross_validation_deg_{}\".format(degree))"
   ]
  },
  {
   "cell_type": "code",
   "execution_count": null,
   "metadata": {},
   "outputs": [],
   "source": []
  },
  {
   "cell_type": "code",
   "execution_count": null,
   "metadata": {},
   "outputs": [],
   "source": []
  },
  {
   "cell_type": "code",
   "execution_count": null,
   "metadata": {},
   "outputs": [],
   "source": [
    "\n",
    "\n",
    "degree = list(map(lambda x: str(x[0]), abc))\n",
    "train = list(map(lambda x: str(x[1]), abc))\n",
    "test = list(map(lambda x: str(x[2]), abc))\n",
    "\n",
    "fig, ax1 = plt.subplots()\n",
    "\n",
    "ax1.plot(degree, test, 'b-')\n",
    "ax1.set_xlabel('degree')\n",
    "# Make the y-axis label, ticks and tick labels match the line color.\n",
    "ax1.set_ylabel('test-error', color='b')\n",
    "\n",
    "ax2 = ax1.twinx()\n",
    "ax2.plot(degree, train, 'r-')\n",
    "ax2.set_ylabel('train-error', color='r')\n",
    "plt.show()"
   ]
  },
  {
   "cell_type": "code",
   "execution_count": null,
   "metadata": {},
   "outputs": [],
   "source": [
    "y_te, x_te, ids_te = load_csv_data(\"../data/train.csv\")"
   ]
  },
  {
   "cell_type": "code",
   "execution_count": null,
   "metadata": {},
   "outputs": [],
   "source": [
    "plt.hist(x_te[:, 1], 100, density=True, facecolor='g', alpha=0.75, log=True)\n",
    "np.var(x_te[:, 1])"
   ]
  },
  {
   "cell_type": "code",
   "execution_count": null,
   "metadata": {},
   "outputs": [],
   "source": []
  }
 ],
 "metadata": {
  "kernelspec": {
   "display_name": "Python 3",
   "language": "python",
   "name": "python3"
  },
  "language_info": {
   "codemirror_mode": {
    "name": "ipython",
    "version": 3
   },
   "file_extension": ".py",
   "mimetype": "text/x-python",
   "name": "python",
   "nbconvert_exporter": "python",
   "pygments_lexer": "ipython3",
   "version": "3.6.6"
  }
 },
 "nbformat": 4,
 "nbformat_minor": 2
}
