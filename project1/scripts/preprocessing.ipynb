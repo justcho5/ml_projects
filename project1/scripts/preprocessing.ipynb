{
 "cells": [
  {
   "cell_type": "code",
   "execution_count": 7,
   "metadata": {
    "collapsed": true
   },
   "outputs": [],
   "source": [
    "import numpy as np\n",
    "from helpers import load_csv_data\n",
    "from implementations import build_poly"
   ]
  },
  {
   "cell_type": "markdown",
   "metadata": {},
   "source": [
    "# Create different datasets to test:"
   ]
  },
  {
   "cell_type": "code",
   "execution_count": 8,
   "metadata": {
    "collapsed": true
   },
   "outputs": [],
   "source": [
    "train_datapath = \"../data/train.csv\"\n",
    "test_datapath = \"../data/test.csv\"\n",
    "y_tr, x_tr, ids_tr = load_csv_data(train_datapath)\n",
    "y_te, x_te, ids_te = load_csv_data(test_datapath)\n"
   ]
  },
  {
   "cell_type": "code",
   "execution_count": 9,
   "metadata": {
    "collapsed": true
   },
   "outputs": [],
   "source": [
    "def change_features(x_tr, x_te, threshold = 0, replace_with_mean = False, replace_with_zero = False):\n",
    "        \n",
    "    mask = (np.isnan(x_tr).sum(axis=0)/x_tr.shape[0] > threshold)\n",
    "    x_te = x_te[:, ~mask]\n",
    "    x_tr = x_tr[:, ~mask]\n",
    "    if replace_with_mean:\n",
    "        col_mean = np.nanmean(x_tr, axis = 0)\n",
    "        nan_inds_tr = np.where(np.isnan(x_tr))\n",
    "        nan_inds_te = np.where(np.isnan(x_te))\n",
    "    \n",
    "#         print(\"Before: \\n\")\n",
    "#         print(x_tr[nan_inds_tr][:5], \"\\n\")\n",
    "#         print(x_te[nan_inds_te][:5], \"\\n\")\n",
    "        x_te[nan_inds_te] = np.take(col_mean, nan_inds_te[1])\n",
    "        x_tr[nan_inds_tr] = np.take(col_mean, nan_inds_tr[1])\n",
    "#         print(\"After: \\n\")\n",
    "#         print(x_tr[nan_inds_tr][:5], \"\\n\")\n",
    "#         print(x_te[nan_inds_te][:5], \"\\n\")\n",
    "        \n",
    "    if replace_with_zero:\n",
    "        x_tr = np.nan_to_num(x_tr)\n",
    "        x_te = np.nan_to_num(x_te)\n",
    "        \n",
    "        \n",
    "        \n",
    "    \n",
    "    return x_tr, x_te"
   ]
  },
  {
   "cell_type": "code",
   "execution_count": 13,
   "metadata": {
    "collapsed": true
   },
   "outputs": [],
   "source": [
    "def combine(x_tr, x_te):\n",
    "    array = np.ma.array(x_tr, mask=np.isnan(x_tr))\n",
    "    corr = np.array(np.ma.corrcoef(array, rowvar=False, allow_masked=True))\n",
    "    ind = np.argwhere(corr > 0.2)\n",
    "    s = []\n",
    "    result_tr = np.empty(x_tr.shape[0])\n",
    "    result_te = np.empty(x_te.shape[0])\n",
    "\n",
    "    for [i, j] in ind:\n",
    "        if i != j:\n",
    "            if (i, j) not in s:\n",
    "                if (j, i) not in s:\n",
    "                    s.append((i, j))\n",
    "                    result_tr = np.c_[result_tr, x_tr[:, i] * x_tr[:, j]]\n",
    "                    result_te = np.c_[result_te, x_te[:, i] * x_te[:, j]]\n",
    "    return result_tr, result_te"
   ]
  },
  {
   "cell_type": "code",
   "execution_count": 26,
   "metadata": {
    "collapsed": true
   },
   "outputs": [],
   "source": [
    "def standardize_features(x_tr, x_te):\n",
    "    mean_tr = np.mean(x_tr, axis=0)\n",
    "    print(mean_tr)\n",
    "    std_tr = np.std(x_tr, axis=0)\n",
    "    print(std_tr)\n",
    "    x_tr = (x_tr - mean_tr) / std_tr\n",
    "    x_te = (x_te - mean_tr) / std_tr\n",
    "    \n",
    "#     print(\"First five train rows standardized: \", x_tr)\n",
    "#     print(\"First five test rows standardized: \", x_te)\n",
    "    \n",
    "    return x_tr, x_te"
   ]
  },
  {
   "cell_type": "code",
   "execution_count": null,
   "metadata": {
    "collapsed": true
   },
   "outputs": [],
   "source": [
    "# count, mean, std, min, max\n",
    "\n",
    "def stats(x):\n",
    "    mask = (np.isnan(x_tr).sum(axis=0)/x_tr.shape[0] > threshold)\n",
    "    x_te = x_te[:, ~mask]\n",
    "    count = np.count_nonzero(~np.isnan(x), axis=0)\n",
    "    mean = np.nanmean(x, axis=0)\n",
    "    std = np.nanstd(x, axis =0)\n",
    "    min_ = np.nanmin(x, axis =0)\n",
    "    max_ = np.nanmax(x, axis=0)\n",
    "    _25 = np.quantile(x, 0.25, axis=0)\n",
    "    _50 = np.quantile(x, 0.5, axis=0)\n",
    "    _75 = np.quantile(x, 0.75, axis=0)\n",
    "    \n",
    "    "
   ]
  },
  {
   "cell_type": "code",
   "execution_count": 3,
   "metadata": {
    "collapsed": true
   },
   "outputs": [],
   "source": [
    "import matplotlib.pyplot as plt\n",
    "import itertools\n",
    "\n",
    "def scatter_matrix(data):\n",
    "    num_samples, num_features = data.shape\n",
    "    print(num_samples, num_features)\n",
    "#     fig, axes = plt.subplots(nrows = num_features, ncols = num_features, figsize = (10,10))\n",
    "    fig1, axes1 = plt.subplots(nrows = 3, ncols=3, figsize= (10,10))\n",
    "    \n",
    "    fig1.subplots_adjust(hspace=0.05, wspace=0.05)\n",
    "#     for ax in axes.flat:\n",
    "#         ax.xaxis.set_visible(False)\n",
    "#         ax.yaxis.set_visible(False)\n",
    "    for i, j in zip(*np.triu_indices_from(axes1, k=1)):\n",
    "        print(i,j)\n",
    "        for x, y in [(i,j), (j,i)]:\n",
    "#             print(x, y)\n",
    "            print(data[:,x])\n",
    "            print(data[:,y])\n",
    "#             axes[x,y].plot(data[x], data[y])\n",
    "            axes1[x,y].plot(data[:,x], data[:,y], 'bo')\n",
    "    return fig1"
   ]
  },
  {
   "cell_type": "markdown",
   "metadata": {},
   "source": [
    "## Dataset 0: Replace all -999 by NaN"
   ]
  },
  {
   "cell_type": "code",
   "execution_count": 14,
   "metadata": {},
   "outputs": [
    {
     "name": "stdout",
     "output_type": "stream",
     "text": [
      "Features where NaNs exist:  (array([ 0,  4,  5,  6, 12, 23, 24, 25, 26, 27, 28]),)\n",
      "[ 0.152456  0.709828  0.709828  0.709828  0.709828  0.399652  0.399652\n",
      "  0.399652  0.709828  0.709828  0.709828]\n"
     ]
    }
   ],
   "source": [
    "x_tr[x_tr == -999] = np.nan\n",
    "x_te[x_te == -999] = np.nan\n",
    "nan_ind = np.where(np.isnan(x_tr).sum(axis=0)>0)\n",
    "feat_perc_nan = np.isnan(x_tr).sum(axis=0)/x_tr.shape[0]\n",
    "print(\"Features where NaNs exist: \", nan_ind)\n",
    "print(feat_perc_nan[nan_ind])"
   ]
  },
  {
   "cell_type": "code",
   "execution_count": null,
   "metadata": {},
   "outputs": [
    {
     "name": "stderr",
     "output_type": "stream",
     "text": [
      "/Users/hjcho/anaconda2/envs/ada/lib/python3.6/site-packages/ipykernel/__main__.py:7: RuntimeWarning: Mean of empty slice\n"
     ]
    }
   ],
   "source": [
    "x_tr1, x_te1 = change_features(x_tr, x_te)\n",
    "\n",
    "# Dataset 2: Replace all NaNs with mean\n",
    "x_tr2, x_te2 = change_features(x_tr, x_te, threshold=1, replace_with_mean=True)\n",
    "\n",
    "# Dataset 3: Replace all NaNs with zero\n",
    "x_tr3, x_te3 = change_features(x_tr, x_te, threshold=1, replace_with_zero=True)\n",
    "\n",
    "# Dataset 4: Remove all columns with >70% NaNs and replace the rest with mean\n",
    "x_tr4, x_te4 = change_features(x_tr, x_te, threshold=0.7, replace_with_mean=True)\n",
    "\n",
    "# Dataset 5: Remove all columns with >70% NaNs and replace the rest with zero\n",
    "x_tr5, x_te5 = change_features(x_tr, x_te, threshold=0.7, replace_with_zero=True)\n",
    "\n",
    "# print(\"Pre process: initial {}, after cleaning {}\".format(x_tr.shape, x_tr2.shape))\n",
    "# x_tr = x_tr5\n",
    "# x_te = x_te5\n",
    "# Dataset 6: Dataset 5 plus build_poly 7\n",
    "x_tr6 = build_poly(x_tr3, 7)\n",
    "x_te6 = build_poly(x_te3, 7)\n",
    "\n",
    "x_tr7, x_te7 = combine(x_tr5, x_te5)\n",
    "\n",
    "# build_poly and combinations\n",
    "x_tr8 = np.c_[x_tr6, x_tr7]\n",
    "x_te8 = np.c_[x_te6, x_te7]"
   ]
  },
  {
   "cell_type": "code",
   "execution_count": null,
   "metadata": {},
   "outputs": [],
   "source": [
    "x_tr6[:,:1]"
   ]
  },
  {
   "cell_type": "code",
   "execution_count": 18,
   "metadata": {
    "collapsed": true
   },
   "outputs": [],
   "source": [
    "def feat_perc_nan(x_tr):\n",
    "    nan_ind = np.where(np.isnan(x_tr).sum(axis=0)>0)\n",
    "    feat = np.isnan(x_tr).sum(axis=0)/x_tr.shape[0]\n",
    "    print(\"Features where NaNs exist: \", nan_ind)\n",
    "    print(feat[nan_ind])"
   ]
  },
  {
   "cell_type": "code",
   "execution_count": 24,
   "metadata": {},
   "outputs": [
    {
     "data": {
      "text/plain": [
       "array([[  1.00000000e+00,   1.38470000e+02,   5.16550000e+01,\n",
       "          9.78270000e+01,   2.79800000e+01,   3.06400000e+00,\n",
       "          4.19280000e+01,   1.97760000e+02,   1.58200000e+00,\n",
       "          1.39600000e+00,   3.26380000e+01,   1.01700000e+00,\n",
       "          3.81000000e-01,   5.16260000e+01,   2.27300000e+00,\n",
       "         -2.41400000e+00,   1.68240000e+01,  -2.77000000e-01,\n",
       "          2.58733000e+02,   2.00000000e+00,   6.74350000e+01,\n",
       "          2.15000000e+00,   4.44000000e-01,   1.13497000e+02,\n",
       "          1.91739409e+04,   2.66823903e+03,   9.57012193e+03,\n",
       "          7.82880400e+02,   9.38809600e+00,   1.75795718e+03,\n",
       "          3.91090176e+04,   2.50272400e+00,   1.94881600e+00,\n",
       "          1.06523904e+03,   1.03428900e+00,   1.45161000e-01,\n",
       "          2.66524388e+03,   5.16652900e+00,   5.82739600e+00,\n",
       "          2.83046976e+02,   7.67290000e-02,   6.69427653e+04,\n",
       "          4.00000000e+00,   4.54747923e+03,   4.62250000e+00,\n",
       "          1.97136000e-01,   1.28815690e+04,   2.65501560e+06,\n",
       "          1.37827887e+05,   9.36216318e+05,   2.19049936e+04,\n",
       "          2.87651261e+01,   7.37076288e+04,   7.73419932e+06,\n",
       "          3.95930937e+00,   2.72054714e+00,   3.47672719e+04,\n",
       "          1.05187191e+00,   5.53063410e-02,   1.37595880e+05,\n",
       "          1.17435204e+01,  -1.40673339e+01,   4.76198232e+03,\n",
       "         -2.12539330e-02,   1.73203025e+07,   8.00000000e+00,\n",
       "          3.06659262e+05,   9.93837500e+00,   8.75283840e-02,\n",
       "          1.46201944e+06,   3.67640010e+08,   7.11949949e+06,\n",
       "          9.15872337e+07,   6.12901721e+05,   8.81363465e+01,\n",
       "          3.09041346e+06,   1.52951526e+09,   6.26362742e+00,\n",
       "          3.79788380e+00,   1.13473422e+06,   1.06975374e+00,\n",
       "          2.10717159e-02,   7.10352492e+06,   2.66930219e+01,\n",
       "          3.39585441e+01,   8.01155906e+04,   5.88733944e-03,\n",
       "          4.48133382e+09,   1.60000000e+01,   2.06795673e+07,\n",
       "          2.13675062e+01,   3.88626025e-02,   1.65934820e+08,\n",
       "          5.09071121e+10,   3.67757746e+08,   8.95970431e+09,\n",
       "          1.71489901e+07,   2.70049766e+02,   1.29574856e+08,\n",
       "          3.02476937e+11,   9.90905858e+00,   5.30184579e+00,\n",
       "          3.70354555e+07,   1.08793955e+00,   8.02832377e-03,\n",
       "          3.66726577e+08,   6.06732388e+01,  -8.19759256e+01,\n",
       "          1.34786470e+06,  -1.63079303e-03,   1.15946894e+12,\n",
       "          3.20000000e+01,   1.39452662e+09,   4.59401384e+01,\n",
       "          1.72549955e-02,   1.88331043e+10,   7.04910782e+12,\n",
       "          1.89965264e+10,   8.76500994e+11,   4.79828744e+08,\n",
       "          8.27432482e+02,   5.43281454e+09,   5.98178391e+13,\n",
       "          1.56761307e+01,   7.40137672e+00,   1.20876320e+09,\n",
       "          1.10643452e+00,   3.05879135e-03,   1.89326263e+10,\n",
       "          1.37910272e+02,   1.97889884e+02,   2.26764757e+07,\n",
       "          4.51729668e-04,   2.99992878e+14,   6.40000000e+01,\n",
       "          9.40399027e+10,   9.87712976e+01,   7.66121801e-03,\n",
       "          2.13750084e+12,   9.76089959e+14,   9.81265571e+11,\n",
       "          8.57454627e+13,   1.34256083e+10,   2.53525313e+03,\n",
       "          2.27787048e+11,   1.18295759e+16,   2.47996387e+01,\n",
       "          1.03323219e+01,   3.94516132e+10,   1.12524391e+00,\n",
       "          1.16539951e-03,   9.77415765e+11,   3.13470048e+02,\n",
       "         -4.77706181e+02,   3.81509026e+08,  -1.25129118e-04,\n",
       "          7.76180574e+16,   1.28000000e+02,   6.34158084e+12,\n",
       "          2.12358290e+02,   3.40158079e-03,   2.42599932e+14]])"
      ]
     },
     "execution_count": 24,
     "metadata": {},
     "output_type": "execute_result"
    }
   ],
   "source": [
    "x_tr6"
   ]
  },
  {
   "cell_type": "code",
   "execution_count": 5,
   "metadata": {},
   "outputs": [
    {
     "name": "stdout",
     "output_type": "stream",
     "text": [
      "250000 30\n",
      "0 1\n",
      "[ 138.47   160.937      nan ...,  105.457   94.951      nan]\n",
      "[  51.655   68.768  162.172 ...,   60.526   19.362   72.756]\n",
      "[  51.655   68.768  162.172 ...,   60.526   19.362   72.756]\n",
      "[ 138.47   160.937      nan ...,  105.457   94.951      nan]\n",
      "0 2\n",
      "[ 138.47   160.937      nan ...,  105.457   94.951      nan]\n",
      "[  97.827  103.235  125.953 ...,   75.839   68.812   70.831]\n",
      "[  97.827  103.235  125.953 ...,   75.839   68.812   70.831]\n",
      "[ 138.47   160.937      nan ...,  105.457   94.951      nan]\n",
      "1 2\n",
      "[  51.655   68.768  162.172 ...,   60.526   19.362   72.756]\n",
      "[  97.827  103.235  125.953 ...,   75.839   68.812   70.831]\n",
      "[  97.827  103.235  125.953 ...,   75.839   68.812   70.831]\n",
      "[  51.655   68.768  162.172 ...,   60.526   19.362   72.756]\n"
     ]
    },
    {
     "data": {
      "image/png": "[encoded data removed]",
      "text/plain": [
       "<matplotlib.figure.Figure at 0x112773358>"
      ]
     },
     "execution_count": 5,
     "metadata": {},
     "output_type": "execute_result"
    }
   ],
   "source": [
    "scatter_matrix(x_tr)"
   ]
  },
  {
   "cell_type": "code",
   "execution_count": null,
   "metadata": {
    "collapsed": true
   },
   "outputs": [],
   "source": [
    "np.mean(np.corrcoef(x_tr, rowvar=False))"
   ]
  },
  {
   "cell_type": "code",
   "execution_count": 8,
   "metadata": {},
   "outputs": [
    {
     "data": {
      "text/plain": [
       "(178,)"
      ]
     },
     "execution_count": 8,
     "metadata": {},
     "output_type": "execute_result"
    }
   ],
   "source": [
    "array = np.ma.array(x_tr, mask=np.isnan(x_tr))\n",
    "corr = np.array(np.ma.corrcoef(array, rowvar=False, allow_masked=True))\n",
    "ind = np.where(corr>0.2)\n",
    "ind[0].shape"
   ]
  },
  {
   "cell_type": "code",
   "execution_count": 10,
   "metadata": {},
   "outputs": [
    {
     "data": {
      "text/plain": [
       "array([[  1.00000000e+00,   2.21151781e-01,   9.11795114e-01,\n",
       "          2.37434962e-02,  -2.71928282e-02,  -2.14648771e-02,\n",
       "          1.83605519e-02,   4.97405129e-01,   1.35839319e-02,\n",
       "          1.24621034e-01,   7.05026279e-02,   2.03164342e-02,\n",
       "         -3.37360807e-02,   2.65951010e-01,   2.59403567e-03,\n",
       "         -3.09053337e-03,   3.41073328e-01,   3.53846448e-03,\n",
       "         -3.21624762e-03,   1.00092667e-01,  -8.14647378e-05,\n",
       "          8.84472252e-02,   1.52054956e-02,   6.69384000e-03,\n",
       "          2.45372439e-03,   6.57689739e-03,  -1.59990115e-02,\n",
       "          4.97101768e-03,  -1.94162532e-03,   1.10930564e-02],\n",
       "       [  2.21151781e-01,   1.00000000e+00,   1.90109488e-01,\n",
       "         -2.49115929e-01,  -1.34006524e-01,  -1.32298243e-01,\n",
       "          1.23520131e-01,   4.32514093e-02,   1.77575270e-02,\n",
       "         -1.46836679e-01,   3.49503614e-01,  -4.19757335e-01,\n",
       "         -1.09205865e-01,  -1.45464145e-01,  -2.10917148e-03,\n",
       "          1.13208392e-03,   3.10647518e-01,  -6.77706784e-03,\n",
       "          3.40330242e-04,   1.83716377e-01,  -1.59253407e-02,\n",
       "         -1.67810640e-01,  -2.10537065e-01,  -1.45891806e-01,\n",
       "          7.23322171e-05,   6.82382883e-03,  -3.61989609e-02,\n",
       "          1.80155351e-03,   6.88045518e-03,  -2.10008918e-01],\n",
       "       [  9.11795114e-01,   1.90109488e-01,   1.00000000e+00,\n",
       "         -6.25620208e-02,  -3.90321230e-02,  -5.52798856e-02,\n",
       "          3.29447153e-02,   5.79711617e-01,  -7.02133930e-04,\n",
       "          8.86852442e-02,   9.74898450e-02,  -9.08458625e-02,\n",
       "         -5.34146147e-02,   2.90011159e-01,   2.12659787e-03,\n",
       "         -3.62409575e-03,   4.05482441e-01,   2.19565980e-03,\n",
       "         -2.01753299e-03,  -8.73303668e-02,  -1.46677423e-03,\n",
       "          5.33004391e-02,  -2.68600335e-02,  -7.64723065e-02,\n",
       "          2.56894947e-03,   5.58293347e-03,  -4.94724076e-02,\n",
       "          2.18096007e-03,  -6.87819009e-04,  -5.29024313e-02],\n",
       "       [  2.37434962e-02,  -2.49115929e-01,  -6.25620208e-02,\n",
       "          1.00000000e+00,  -3.76977643e-02,   1.88945698e-01,\n",
       "         -2.62604101e-02,  -5.39379215e-01,   3.10500986e-01,\n",
       "          8.32733067e-01,   8.91873653e-02,   5.39356019e-01,\n",
       "          1.55132631e-02,   4.07421442e-01,   1.66538737e-03,\n",
       "          5.24780759e-03,   3.60938860e-01,   8.35423036e-03,\n",
       "         -2.92303668e-03,   6.79585496e-01,   8.58492456e-03,\n",
       "          7.82546973e-01,   6.23401443e-01,   8.26277611e-01,\n",
       "          2.84198434e-03,   9.93112645e-04,   3.60061536e-01,\n",
       "          1.92497202e-04,  -7.82353999e-03,   8.08616264e-01],\n",
       "       [ -2.71928282e-02,  -1.34006524e-01,  -3.90321230e-02,\n",
       "         -3.76977643e-02,   1.00000000e+00,   7.97180785e-01,\n",
       "         -8.35992768e-01,   3.05615643e-02,  -1.48028040e-01,\n",
       "         -1.04416460e-01,  -8.42157469e-02,   1.08203185e-01,\n",
       "          6.44238438e-01,   1.78437247e-02,  -4.45049651e-03,\n",
       "         -3.16826654e-03,  -7.98852600e-02,  -6.46077213e-03,\n",
       "          2.17216359e-04,  -5.93719146e-02,  -3.10315027e-03,\n",
       "         -1.41291135e-01,  -1.75495321e-01,  -4.35142077e-02,\n",
       "         -2.00466304e-03,  -8.19463060e-04,  -9.04970108e-02,\n",
       "         -4.84280875e-03,   1.23354611e-03,  -1.08775392e-01],\n",
       "       [ -2.14648771e-02,  -1.32298243e-01,  -5.52798856e-02,\n",
       "          1.88945698e-01,   7.97180785e-01,   1.00000000e+00,\n",
       "         -7.63315743e-01,  -1.19081174e-01,  -3.64818994e-02,\n",
       "          2.30773715e-01,  -5.01025096e-02,   1.51061222e-01,\n",
       "          4.77760634e-01,   1.14164892e-01,  -5.97819303e-03,\n",
       "          1.11644278e-03,   2.18573665e-02,  -3.66029184e-03,\n",
       "         -3.77361950e-03,   1.26626555e-01,   1.16578783e-03,\n",
       "          1.63528636e-01,  -7.43902838e-02,   2.83723643e-01,\n",
       "         -7.32123948e-04,   9.82744705e-04,   2.35312043e-01,\n",
       "         -3.05918182e-03,  -2.18511792e-03,   2.40043078e-01],\n",
       "       [  1.83605519e-02,   1.23520131e-01,   3.29447153e-02,\n",
       "         -2.62604101e-02,  -8.35992768e-01,  -7.63315743e-01,\n",
       "          1.00000000e+00,   1.07078994e-02,   1.10272374e-01,\n",
       "          1.43768796e-02,   6.13675324e-02,  -1.15383712e-01,\n",
       "         -5.60273380e-01,  -4.08124203e-02,   4.15228864e-03,\n",
       "          1.44157150e-03,   3.86009287e-02,   3.62898912e-03,\n",
       "          2.35611277e-04,   1.01547729e-02,   2.67660657e-03,\n",
       "          4.74839212e-02,   1.23565820e-01,  -2.66366072e-02,\n",
       "         -3.54841323e-03,  -3.03824539e-03,   2.87737440e-03,\n",
       "         -2.52846893e-03,   2.13295277e-03,   1.80374923e-02],\n",
       "       [  4.97405129e-01,   4.32514093e-02,   5.79711617e-01,\n",
       "         -5.39379215e-01,   3.05615643e-02,  -1.19081174e-01,\n",
       "          1.07078994e-02,   1.00000000e+00,  -1.48080792e-01,\n",
       "         -4.32603440e-01,   4.70461910e-02,  -2.05441498e-01,\n",
       "         -1.73222127e-02,  -2.02034990e-01,   3.63222718e-03,\n",
       "         -1.12290140e-02,  -6.99566710e-02,   6.98828711e-04,\n",
       "         -7.75533717e-04,  -4.02344914e-01,  -1.56977134e-03,\n",
       "         -4.07001779e-01,  -3.47904428e-01,  -4.83624895e-01,\n",
       "         -1.56645885e-04,   6.80814320e-03,  -2.31997304e-01,\n",
       "          1.92789435e-03,   7.24436998e-03,  -4.48736959e-01],\n",
       "       [  1.35839319e-02,   1.77575270e-02,  -7.02133930e-04,\n",
       "          3.10500986e-01,  -1.48028040e-01,  -3.64818994e-02,\n",
       "          1.10272374e-01,  -1.48080792e-01,   1.00000000e+00,\n",
       "          3.81159784e-01,   3.91929033e-02,   1.78447907e-01,\n",
       "         -1.21565006e-01,   9.57537343e-02,   3.59589562e-03,\n",
       "          1.45218847e-03,   1.09616567e-01,   7.98658714e-03,\n",
       "         -4.24944774e-03,   2.69738662e-01,   2.51483681e-03,\n",
       "          4.48925314e-01,   3.60408539e-01,   2.24786636e-01,\n",
       "         -6.16762915e-03,   4.23263944e-03,   3.20081625e-01,\n",
       "          7.30060535e-04,  -4.80686622e-03,   4.03382429e-01],\n",
       "       [  1.24621034e-01,  -1.46836679e-01,   8.86852442e-02,\n",
       "          8.32733067e-01,  -1.04416460e-01,   2.30773715e-01,\n",
       "          1.43768796e-02,  -4.32603440e-01,   3.81159784e-01,\n",
       "          1.00000000e+00,   1.08791092e-01,   4.20679094e-01,\n",
       "         -3.76974648e-02,   4.85847266e-01,   2.03714117e-03,\n",
       "          3.93111283e-03,   4.60938009e-01,   8.78088490e-03,\n",
       "         -1.89187658e-03,   5.20129360e-01,   6.71204642e-03,\n",
       "          9.04481460e-01,   7.58503365e-01,   8.79026971e-01,\n",
       "          9.68522651e-04,   3.13946225e-03,   7.30234760e-01,\n",
       "         -4.96909800e-04,  -8.86473080e-03,   9.65628389e-01],\n",
       "       [  7.05026279e-02,   3.49503614e-01,   9.74898450e-02,\n",
       "          8.91873653e-02,  -8.42157469e-02,  -5.01025096e-02,\n",
       "          6.13675324e-02,   4.70461910e-02,   3.91929033e-02,\n",
       "          1.08791092e-01,   1.00000000e+00,  -3.88026683e-02,\n",
       "         -5.71691333e-02,  -4.74632543e-01,   6.10941846e-04,\n",
       "          3.62980332e-06,   7.01142221e-01,   2.35700884e-03,\n",
       "         -5.05298243e-03,   5.33855895e-02,  -1.18609466e-03,\n",
       "          4.99035735e-02,   5.63119708e-02,   7.49428321e-02,\n",
       "          3.22665869e-03,  -5.34383949e-04,   4.53504358e-02,\n",
       "          2.86422129e-03,   4.11462856e-03,   7.91164238e-02],\n",
       "       [  2.03164342e-02,  -4.19757335e-01,  -9.08458625e-02,\n",
       "          5.39356019e-01,   1.08203185e-01,   1.51061222e-01,\n",
       "         -1.15383712e-01,  -2.05441498e-01,   1.78447907e-01,\n",
       "          4.20679094e-01,  -3.88026683e-02,   1.00000000e+00,\n",
       "          1.05854892e-01,   1.40884832e-01,   5.95349136e-03,\n",
       "         -1.55746492e-03,   5.40470955e-02,   1.24227180e-02,\n",
       "          2.78032382e-04,   1.80755937e-01,   9.89574009e-03,\n",
       "          4.23362756e-01,   4.90057064e-01,   2.69990781e-01,\n",
       "          5.28443358e-03,   5.03801669e-06,   9.15271734e-02,\n",
       "         -3.96026208e-03,  -1.38793541e-02,   4.52224428e-01],\n",
       "       [ -3.37360807e-02,  -1.09205865e-01,  -5.34146147e-02,\n",
       "          1.55132631e-02,   6.44238438e-01,   4.77760634e-01,\n",
       "         -5.60273380e-01,  -1.73222127e-02,  -1.21565006e-01,\n",
       "         -3.76974648e-02,  -5.71691333e-02,   1.05854892e-01,\n",
       "          1.00000000e+00,   3.69065999e-02,  -2.00570455e-03,\n",
       "         -3.39869405e-03,  -3.43739532e-02,  -4.25347697e-03,\n",
       "          3.39251354e-04,  -1.28823145e-02,   1.32229662e-03,\n",
       "         -7.00190068e-02,  -1.30759701e-01,   3.28676978e-03,\n",
       "          5.80764860e-04,  -1.65147055e-04,  -2.74785763e-02,\n",
       "          1.43020287e-03,  -1.26611230e-03,  -4.61152199e-02],\n",
       "       [  2.65951010e-01,  -1.45464145e-01,   2.90011159e-01,\n",
       "          4.07421442e-01,   1.78437247e-02,   1.14164892e-01,\n",
       "         -4.08124203e-02,  -2.02034990e-01,   9.57537343e-02,\n",
       "          4.85847266e-01,  -4.74632543e-01,   1.40884832e-01,\n",
       "          3.69065999e-02,   1.00000000e+00,  -2.66115677e-03,\n",
       "          8.22311688e-04,   1.04553355e-01,   5.34862102e-05,\n",
       "          3.05201859e-03,   1.76664619e-01,   3.29631535e-03,\n",
       "          4.48763409e-01,   2.05604443e-01,   3.67876795e-01,\n",
       "          5.80569368e-04,   4.16906843e-03,   1.47108146e-01,\n",
       "         -7.12456315e-04,  -7.06056774e-03,   3.21341065e-01],\n",
       "       [  2.59403567e-03,  -2.10917148e-03,   2.12659787e-03,\n",
       "          1.66538737e-03,  -4.45049651e-03,  -5.97819303e-03,\n",
       "          4.15228864e-03,   3.63222718e-03,   3.59589562e-03,\n",
       "          2.03714117e-03,   6.10941846e-04,   5.95349136e-03,\n",
       "         -2.00570455e-03,  -2.66115677e-03,   1.00000000e+00,\n",
       "         -1.32235394e-03,  -3.33015389e-03,   5.57086147e-01,\n",
       "          1.70506739e-03,   5.75641628e-04,   5.81602311e-04,\n",
       "          2.84136897e-03,   7.46750043e-03,  -3.71550574e-03,\n",
       "          2.12849854e-01,  -1.11979482e-03,  -3.74972445e-03,\n",
       "          1.53453744e-01,   1.71588780e-03,   3.76298508e-03],\n",
       "       [ -3.09053337e-03,   1.13208392e-03,  -3.62409575e-03,\n",
       "          5.24780759e-03,  -3.16826654e-03,   1.11644278e-03,\n",
       "          1.44157150e-03,  -1.12290140e-02,   1.45218847e-03,\n",
       "          3.93111283e-03,   3.62980332e-06,  -1.55746492e-03,\n",
       "         -3.39869405e-03,   8.22311688e-04,  -1.32235394e-03,\n",
       "          1.00000000e+00,  -1.73666668e-03,  -3.92276097e-03,\n",
       "         -2.07026194e-01,   6.13144528e-03,   3.29229820e-02,\n",
       "          5.21409703e-03,   3.04039484e-03,   5.08379639e-03,\n",
       "          2.12444450e-03,  -1.85520083e-01,   4.06724385e-03,\n",
       "          2.31890538e-03,  -1.02874545e-01,   4.84354984e-03],\n",
       "       [  3.41073328e-01,   3.10647518e-01,   4.05482441e-01,\n",
       "          3.60938860e-01,  -7.98852600e-02,   2.18573665e-02,\n",
       "          3.86009287e-02,  -6.99566710e-02,   1.09616567e-01,\n",
       "          4.60938009e-01,   7.01142221e-01,   5.40470955e-02,\n",
       "         -3.43739532e-02,   1.04553355e-01,  -3.33015389e-03,\n",
       "         -1.73666668e-03,   1.00000000e+00,   3.36789923e-04,\n",
       "         -2.93570124e-03,   1.70544668e-01,   4.16731795e-04,\n",
       "          3.58487694e-01,   1.95738264e-01,   3.17445151e-01,\n",
       "          3.36629113e-03,   1.85787018e-03,   1.47491764e-01,\n",
       "          1.34268215e-03,   6.94415924e-04,   2.95107585e-01],\n",
       "       [  3.53846448e-03,  -6.77706784e-03,   2.19565980e-03,\n",
       "          8.35423036e-03,  -6.46077213e-03,  -3.66029184e-03,\n",
       "          3.62898912e-03,   6.98828711e-04,   7.98658714e-03,\n",
       "          8.78088490e-03,   2.35700884e-03,   1.24227180e-02,\n",
       "         -4.25347697e-03,   5.34862102e-05,   5.57086147e-01,\n",
       "         -3.92276097e-03,   3.36789923e-04,   1.00000000e+00,\n",
       "          8.89610029e-04,   8.52693610e-04,   1.76466028e-03,\n",
       "          1.02312351e-02,   1.60537247e-02,  -5.83298031e-03,\n",
       "          2.35411408e-01,   1.59834113e-04,  -1.62386394e-03,\n",
       "          1.63934096e-01,   4.02263910e-03,   1.02776709e-02],\n",
       "       [ -3.21624762e-03,   3.40330242e-04,  -2.01753299e-03,\n",
       "         -2.92303668e-03,   2.17216359e-04,  -3.77361950e-03,\n",
       "          2.35611277e-04,  -7.75533717e-04,  -4.24944774e-03,\n",
       "         -1.89187658e-03,  -5.05298243e-03,   2.78032382e-04,\n",
       "          3.39251354e-04,   3.05201859e-03,   1.70506739e-03,\n",
       "         -2.07026194e-01,  -2.93570124e-03,   8.89610029e-04,\n",
       "          1.00000000e+00,  -2.16782404e-03,   2.31565308e-02,\n",
       "         -5.70590696e-03,  -3.97507634e-05,  -4.67242342e-03,\n",
       "          3.93169022e-03,  -2.87463657e-01,  -3.74001363e-03,\n",
       "         -5.82036910e-03,  -1.40200165e-01,  -2.27033888e-03],\n",
       "       [  1.00092667e-01,   1.83716377e-01,  -8.73303668e-02,\n",
       "          6.79585496e-01,  -5.93719146e-02,   1.26626555e-01,\n",
       "          1.01547729e-02,  -4.02344914e-01,   2.69738662e-01,\n",
       "          5.20129360e-01,   5.33855895e-02,   1.80755937e-01,\n",
       "         -1.28823145e-02,   1.76664619e-01,   5.75641628e-04,\n",
       "          6.13144528e-03,   1.70544668e-01,   8.52693610e-04,\n",
       "         -2.16782404e-03,   1.00000000e+00,   8.42006588e-04,\n",
       "          4.86252045e-01,   3.34922045e-01,   6.15015442e-01,\n",
       "         -1.02874219e-03,   3.60387455e-03,   2.87685985e-01,\n",
       "          3.72019420e-03,  -2.47925432e-03,   5.35217231e-01],\n",
       "       [ -8.14647378e-05,  -1.59253407e-02,  -1.46677423e-03,\n",
       "          8.58492456e-03,  -3.10315027e-03,   1.16578783e-03,\n",
       "          2.67660657e-03,  -1.56977134e-03,   2.51483681e-03,\n",
       "          6.71204642e-03,  -1.18609466e-03,   9.89574009e-03,\n",
       "          1.32229662e-03,   3.29631535e-03,   5.81602311e-04,\n",
       "          3.29229820e-02,   4.16731795e-04,   1.76466028e-03,\n",
       "          2.31565308e-02,   8.42006588e-04,   1.00000000e+00,\n",
       "          4.65426728e-03,   6.57460372e-03,   5.57794069e-03,\n",
       "          2.59670456e-03,  -2.90318708e-01,   3.38427153e-03,\n",
       "         -8.05803912e-03,  -1.28635139e-01,   7.07594222e-03],\n",
       "       [  8.84472252e-02,  -1.67810640e-01,   5.33004391e-02,\n",
       "          7.82546973e-01,  -1.41291135e-01,   1.63528636e-01,\n",
       "          4.74839212e-02,  -4.07001779e-01,   4.48925314e-01,\n",
       "          9.04481460e-01,   4.99035735e-02,   4.23362756e-01,\n",
       "         -7.00190068e-02,   4.48763409e-01,   2.84136897e-03,\n",
       "          5.21409703e-03,   3.58487694e-01,   1.02312351e-02,\n",
       "         -5.70590696e-03,   4.86252045e-01,   4.65426728e-03,\n",
       "          1.00000000e+00,   7.05881674e-01,   7.93775936e-01,\n",
       "         -1.21175498e-05,   5.14730026e-03,   6.69647377e-01,\n",
       "         -6.18294418e-05,  -6.99967268e-03,   8.84412857e-01],\n",
       "       [  1.52054956e-02,  -2.10537065e-01,  -2.68600335e-02,\n",
       "          6.23401443e-01,  -1.75495321e-01,  -7.43902838e-02,\n",
       "          1.23565820e-01,  -3.47904428e-01,   3.60408539e-01,\n",
       "          7.58503365e-01,   5.63119708e-02,   4.90057064e-01,\n",
       "         -1.30759701e-01,   2.05604443e-01,   7.46750043e-03,\n",
       "          3.04039484e-03,   1.95738264e-01,   1.60537247e-02,\n",
       "         -3.97507634e-05,   3.34922045e-01,   6.57460372e-03,\n",
       "          7.05881674e-01,   1.00000000e+00,   3.60397658e-01,\n",
       "         -2.18522073e-03,   2.31358605e-03,   2.81379588e-01,\n",
       "          1.32487300e-03,  -6.41111147e-03,   8.04325594e-01],\n",
       "       [  6.69384000e-03,  -1.45891806e-01,  -7.64723065e-02,\n",
       "          8.26277611e-01,  -4.35142077e-02,   2.83723643e-01,\n",
       "         -2.66366072e-02,  -4.83624895e-01,   2.24786636e-01,\n",
       "          8.79026971e-01,   7.49428321e-02,   2.69990781e-01,\n",
       "          3.28676978e-03,   3.67876795e-01,  -3.71550574e-03,\n",
       "          5.08379639e-03,   3.17445151e-01,  -5.83298031e-03,\n",
       "         -4.67242342e-03,   6.15015442e-01,   5.57794069e-03,\n",
       "          7.93775936e-01,   3.60397658e-01,   1.00000000e+00,\n",
       "          1.52176452e-03,   1.15419691e-03,   5.69331781e-01,\n",
       "         -9.39606169e-04,  -4.59565509e-03,   8.78346842e-01],\n",
       "       [  2.45372439e-03,   7.23322171e-05,   2.56894947e-03,\n",
       "          2.84198434e-03,  -2.00466304e-03,  -7.32123948e-04,\n",
       "         -3.54841323e-03,  -1.56645885e-04,  -6.16762915e-03,\n",
       "          9.68522651e-04,   3.22665869e-03,   5.28443358e-03,\n",
       "          5.80764860e-04,   5.80569368e-04,   2.12849854e-01,\n",
       "          2.12444450e-03,   3.36629113e-03,   2.35411408e-01,\n",
       "          3.93169022e-03,  -1.02874219e-03,   2.59670456e-03,\n",
       "         -1.21175498e-05,  -2.18522073e-03,   1.52176452e-03,\n",
       "          1.00000000e+00,  -5.99228471e-03,   1.72878837e-03,\n",
       "         -2.31907505e-01,   8.78328903e-04,   1.57786252e-04],\n",
       "       [  6.57689739e-03,   6.82382883e-03,   5.58293347e-03,\n",
       "          9.93112645e-04,  -8.19463060e-04,   9.82744705e-04,\n",
       "         -3.03824539e-03,   6.80814320e-03,   4.23263944e-03,\n",
       "          3.13946225e-03,  -5.34383949e-04,   5.03801669e-06,\n",
       "         -1.65147055e-04,   4.16906843e-03,  -1.11979482e-03,\n",
       "         -1.85520083e-01,   1.85787018e-03,   1.59834113e-04,\n",
       "         -2.87463657e-01,   3.60387455e-03,  -2.90318708e-01,\n",
       "          5.14730026e-03,   2.31358605e-03,   1.15419691e-03,\n",
       "         -5.99228471e-03,   1.00000000e+00,   3.30784698e-03,\n",
       "          2.50521224e-03,  -5.96071784e-02,   2.22404588e-03],\n",
       "       [ -1.59990115e-02,  -3.61989609e-02,  -4.94724076e-02,\n",
       "          3.60061536e-01,  -9.04970108e-02,   2.35312043e-01,\n",
       "          2.87737440e-03,  -2.31997304e-01,   3.20081625e-01,\n",
       "          7.30234760e-01,   4.53504358e-02,   9.15271734e-02,\n",
       "         -2.74785763e-02,   1.47108146e-01,  -3.74972445e-03,\n",
       "          4.06724385e-03,   1.47491764e-01,  -1.62386394e-03,\n",
       "         -3.74001363e-03,   2.87685985e-01,   3.38427153e-03,\n",
       "          6.69647377e-01,   2.81379588e-01,   5.69331781e-01,\n",
       "          1.72878837e-03,   3.30784698e-03,   1.00000000e+00,\n",
       "          5.67106675e-04,  -1.32923612e-02,   7.97055658e-01],\n",
       "       [  4.97101768e-03,   1.80155351e-03,   2.18096007e-03,\n",
       "          1.92497202e-04,  -4.84280875e-03,  -3.05918182e-03,\n",
       "         -2.52846893e-03,   1.92789435e-03,   7.30060535e-04,\n",
       "         -4.96909800e-04,   2.86422129e-03,  -3.96026208e-03,\n",
       "          1.43020287e-03,  -7.12456315e-04,   1.53453744e-01,\n",
       "          2.31890538e-03,   1.34268215e-03,   1.63934096e-01,\n",
       "         -5.82036910e-03,   3.72019420e-03,  -8.05803912e-03,\n",
       "         -6.18294418e-05,   1.32487300e-03,  -9.39606169e-04,\n",
       "         -2.31907505e-01,   2.50521224e-03,   5.67106675e-04,\n",
       "          1.00000000e+00,   3.38076397e-03,  -7.63428566e-04],\n",
       "       [ -1.94162532e-03,   6.88045518e-03,  -6.87819009e-04,\n",
       "         -7.82353999e-03,   1.23354611e-03,  -2.18511792e-03,\n",
       "          2.13295277e-03,   7.24436998e-03,  -4.80686622e-03,\n",
       "         -8.86473080e-03,   4.11462856e-03,  -1.38793541e-02,\n",
       "         -1.26611230e-03,  -7.06056774e-03,   1.71588780e-03,\n",
       "         -1.02874545e-01,   6.94415924e-04,   4.02263910e-03,\n",
       "         -1.40200165e-01,  -2.47925432e-03,  -1.28635139e-01,\n",
       "         -6.99967268e-03,  -6.41111147e-03,  -4.59565509e-03,\n",
       "          8.78328903e-04,  -5.96071784e-02,  -1.32923612e-02,\n",
       "          3.38076397e-03,   1.00000000e+00,  -8.90201539e-03],\n",
       "       [  1.10930564e-02,  -2.10008918e-01,  -5.29024313e-02,\n",
       "          8.08616264e-01,  -1.08775392e-01,   2.40043078e-01,\n",
       "          1.80374923e-02,  -4.48736959e-01,   4.03382429e-01,\n",
       "          9.65628389e-01,   7.91164238e-02,   4.52224428e-01,\n",
       "         -4.61152199e-02,   3.21341065e-01,   3.76298508e-03,\n",
       "          4.84354984e-03,   2.95107585e-01,   1.02776709e-02,\n",
       "         -2.27033888e-03,   5.35217231e-01,   7.07594222e-03,\n",
       "          8.84412857e-01,   8.04325594e-01,   8.78346842e-01,\n",
       "          1.57786252e-04,   2.22404588e-03,   7.97055658e-01,\n",
       "         -7.63428566e-04,  -8.90201539e-03,   1.00000000e+00]])"
      ]
     },
     "execution_count": 10,
     "metadata": {},
     "output_type": "execute_result"
    }
   ],
   "source": [
    "corr"
   ]
  },
  {
   "cell_type": "code",
   "execution_count": 92,
   "metadata": {},
   "outputs": [
    {
     "ename": "KeyboardInterrupt",
     "evalue": "",
     "output_type": "error",
     "traceback": [
      "\u001b[0;31m---------------------------------------------------------------------------\u001b[0m",
      "\u001b[0;31mKeyboardInterrupt\u001b[0m                         Traceback (most recent call last)",
      "\u001b[0;32m<ipython-input-92-2fccc117af6b>\u001b[0m in \u001b[0;36m<module>\u001b[0;34m()\u001b[0m\n\u001b[1;32m      6\u001b[0m             \u001b[0;32mif\u001b[0m \u001b[0;34m(\u001b[0m\u001b[0;34m(\u001b[0m\u001b[0mi\u001b[0m\u001b[0;34m,\u001b[0m\u001b[0mj\u001b[0m\u001b[0;34m)\u001b[0m \u001b[0;32mnot\u001b[0m \u001b[0;32min\u001b[0m \u001b[0ms\u001b[0m\u001b[0;34m)\u001b[0m \u001b[0;32mor\u001b[0m \u001b[0;34m(\u001b[0m\u001b[0;34m(\u001b[0m\u001b[0mj\u001b[0m\u001b[0;34m,\u001b[0m\u001b[0mi\u001b[0m\u001b[0;34m)\u001b[0m \u001b[0;32mnot\u001b[0m \u001b[0;32min\u001b[0m \u001b[0ms\u001b[0m\u001b[0;34m)\u001b[0m\u001b[0;34m:\u001b[0m\u001b[0;34m\u001b[0m\u001b[0m\n\u001b[1;32m      7\u001b[0m                 \u001b[0ms\u001b[0m\u001b[0;34m.\u001b[0m\u001b[0madd\u001b[0m\u001b[0;34m(\u001b[0m\u001b[0;34m(\u001b[0m\u001b[0mi\u001b[0m\u001b[0;34m,\u001b[0m\u001b[0mj\u001b[0m\u001b[0;34m)\u001b[0m\u001b[0;34m)\u001b[0m\u001b[0;34m\u001b[0m\u001b[0m\n\u001b[0;32m----> 8\u001b[0;31m                 \u001b[0mx_tr\u001b[0m \u001b[0;34m=\u001b[0m \u001b[0mnp\u001b[0m\u001b[0;34m.\u001b[0m\u001b[0mc_\u001b[0m\u001b[0;34m[\u001b[0m\u001b[0mx_tr\u001b[0m\u001b[0;34m,\u001b[0m \u001b[0;34m(\u001b[0m\u001b[0mx_tr\u001b[0m\u001b[0;34m[\u001b[0m\u001b[0;34m:\u001b[0m\u001b[0;34m,\u001b[0m\u001b[0mi\u001b[0m\u001b[0;34m]\u001b[0m\u001b[0;34m*\u001b[0m\u001b[0mx_tr\u001b[0m\u001b[0;34m[\u001b[0m\u001b[0;34m:\u001b[0m\u001b[0;34m,\u001b[0m\u001b[0mj\u001b[0m\u001b[0;34m]\u001b[0m\u001b[0;34m)\u001b[0m\u001b[0;34m]\u001b[0m\u001b[0;34m\u001b[0m\u001b[0m\n\u001b[0m\u001b[1;32m      9\u001b[0m \u001b[0;34m\u001b[0m\u001b[0m\n\u001b[1;32m     10\u001b[0m \u001b[0mx_tr\u001b[0m\u001b[0;34m.\u001b[0m\u001b[0mshape\u001b[0m\u001b[0;34m\u001b[0m\u001b[0m\n",
      "\u001b[0;32m~/anaconda2/envs/ada/lib/python3.6/site-packages/numpy/lib/index_tricks.py\u001b[0m in \u001b[0;36m__getitem__\u001b[0;34m(self, key)\u001b[0m\n\u001b[1;32m    338\u001b[0m                 \u001b[0mobjs\u001b[0m\u001b[0;34m[\u001b[0m\u001b[0mk\u001b[0m\u001b[0;34m]\u001b[0m \u001b[0;34m=\u001b[0m \u001b[0mobjs\u001b[0m\u001b[0;34m[\u001b[0m\u001b[0mk\u001b[0m\u001b[0;34m]\u001b[0m\u001b[0;34m.\u001b[0m\u001b[0mastype\u001b[0m\u001b[0;34m(\u001b[0m\u001b[0mfinal_dtype\u001b[0m\u001b[0;34m)\u001b[0m\u001b[0;34m\u001b[0m\u001b[0m\n\u001b[1;32m    339\u001b[0m \u001b[0;34m\u001b[0m\u001b[0m\n\u001b[0;32m--> 340\u001b[0;31m         \u001b[0mres\u001b[0m \u001b[0;34m=\u001b[0m \u001b[0mself\u001b[0m\u001b[0;34m.\u001b[0m\u001b[0mconcatenate\u001b[0m\u001b[0;34m(\u001b[0m\u001b[0mtuple\u001b[0m\u001b[0;34m(\u001b[0m\u001b[0mobjs\u001b[0m\u001b[0;34m)\u001b[0m\u001b[0;34m,\u001b[0m \u001b[0maxis\u001b[0m\u001b[0;34m=\u001b[0m\u001b[0maxis\u001b[0m\u001b[0;34m)\u001b[0m\u001b[0;34m\u001b[0m\u001b[0m\n\u001b[0m\u001b[1;32m    341\u001b[0m \u001b[0;34m\u001b[0m\u001b[0m\n\u001b[1;32m    342\u001b[0m         \u001b[0;32mif\u001b[0m \u001b[0mmatrix\u001b[0m\u001b[0;34m:\u001b[0m\u001b[0;34m\u001b[0m\u001b[0m\n",
      "\u001b[0;31mKeyboardInterrupt\u001b[0m: "
     ]
    }
   ],
   "source": [
    "row, col = np.where(corr>0.2)\n",
    "s = set()\n",
    "\n",
    "\n",
    "\n",
    "i in row:\n",
    "    for j in col:\n",
    "        if i != j:\n",
    "            if ((i,j) not in s) or ((j,i) not in s):\n",
    "                s.add((i,j))\n",
    "                x_tr = np.c_[x_tr, (x_tr[:,i]*x_tr[:,j])]\n",
    "                \n",
    "x_tr.shape"
   ]
  },
  {
   "cell_type": "markdown",
   "metadata": {},
   "source": [
    "## Dataset 1: Remove all columns with any NaNs"
   ]
  },
  {
   "cell_type": "code",
   "execution_count": 60,
   "metadata": {},
   "outputs": [
    {
     "name": "stdout",
     "output_type": "stream",
     "text": [
      "Before: \n",
      "\n",
      "[ nan  nan  nan  nan  nan] \n",
      "\n",
      "[ nan  nan  nan  nan  nan] \n",
      "\n",
      "After: \n",
      "\n",
      "[  1.21858528e+02   8.48221045e+01  -3.27458741e-03  -1.23928255e-02\n",
      "   8.48221045e+01] \n",
      "\n",
      "[  1.21858528e+02   8.48221045e+01  -3.27458741e-03  -1.23928255e-02\n",
      "   8.48221045e+01] \n",
      "\n"
     ]
    }
   ],
   "source": [
    "x_tr1, x_te1 = change_features(x_tr, x_te)\n",
    "x_tr1, x_te1 = standardize_features(x_tr1, x_te1)"
   ]
  },
  {
   "cell_type": "markdown",
   "metadata": {},
   "source": [
    "## Dataset 2: Replace all NaNs with mean"
   ]
  },
  {
   "cell_type": "code",
   "execution_count": null,
   "metadata": {
    "collapsed": true
   },
   "outputs": [],
   "source": [
    "x_tr2, x_te2 = change_features(x_tr, x_te, threshold = 1, replace_with_mean = True)\n",
    "x_tr2, x_te2 = standardize_features(x_tr2, x_te2)"
   ]
  },
  {
   "cell_type": "markdown",
   "metadata": {},
   "source": [
    "## Dataset 3: Replace all NaNs with zero"
   ]
  },
  {
   "cell_type": "code",
   "execution_count": null,
   "metadata": {
    "collapsed": true
   },
   "outputs": [],
   "source": [
    "x_tr3, x_te3 = change_features(x_tr, x_te, threshold = 1, replace_with_zero = True)\n",
    "x_tr3, x_te3 = standardize_features(x_tr2, x_te2)"
   ]
  },
  {
   "cell_type": "markdown",
   "metadata": {},
   "source": [
    "## Dataset 4: Remove all columns with >70% Nans and replace the rest with mean"
   ]
  },
  {
   "cell_type": "code",
   "execution_count": null,
   "metadata": {
    "collapsed": true
   },
   "outputs": [],
   "source": [
    "x_tr4, x_te4 = change_features(x_tr, x_te, threshold = 0.7, replace_with_mean = True)\n",
    "x_tr4, x_te4 = standardize_features(x_tr2, x_te2)"
   ]
  },
  {
   "cell_type": "markdown",
   "metadata": {},
   "source": [
    "## Dataset 5: Remove all columns with >70% Nans and replace the rest with zero"
   ]
  },
  {
   "cell_type": "code",
   "execution_count": null,
   "metadata": {
    "collapsed": true
   },
   "outputs": [],
   "source": [
    "x_tr5, x_te5 = change_features(x_tr, x_te, threshold = 0.7, replace_with_zero = True)\n",
    "x_tr5, x_te5 = standardize_features(x_tr2, x_te2)"
   ]
  },
  {
   "cell_type": "code",
   "execution_count": null,
   "metadata": {
    "collapsed": true
   },
   "outputs": [],
   "source": []
  },
  {
   "cell_type": "code",
   "execution_count": null,
   "metadata": {
    "collapsed": true
   },
   "outputs": [],
   "source": []
  },
  {
   "cell_type": "code",
   "execution_count": null,
   "metadata": {
    "collapsed": true
   },
   "outputs": [],
   "source": []
  },
  {
   "cell_type": "code",
   "execution_count": null,
   "metadata": {
    "collapsed": true
   },
   "outputs": [],
   "source": [
    "import plotly.plotly as py\n",
    "from plotly.graph_objs import *\n",
    "import plotly.tools as tls\n",
    "def PCA(x_tr, x_te):\n",
    "    # Calculate feature means of x_tr\n",
    "    mean = np.mean(x_tr, axis=0)\n",
    "    \n",
    "    # Center features by subtracting column means\n",
    "    c = x_tr - mean\n",
    "    \n",
    "    # Calculate covariance matrix of centered matrix\n",
    "    \n",
    "    v = np.cov(c.T)\n",
    "    \n",
    "    # eigendecomposition of covariance matrix\n",
    "    values, vectors = np.linalg.eig(v)\n",
    "    print(values)\n",
    "    print(len(values))\n",
    "    print(vectors.shape)\n",
    "    print(vectors)\n",
    "    # project data\n",
    "    p = vectors.T.dot(c.T)\n",
    "    print(p.T.shape)\n",
    "    \n",
    "    \n",
    "    tot = sum(values)\n",
    "    var_exp = [(i/tot)*100 for i in sorted(values, reverse = True)]\n",
    "    cum_var_exp = np.cumsum(var_exp)\n",
    "    \n",
    "    trace1 = Bar(x = ['PC %s' %i for i in range(1,len(values)+1)],\n",
    "                y = var_exp,\n",
    "                showlegend=False)\n",
    "    trace2 = Scatter(x = ['PC %s'%i for i in range(1, len(values)+1)],\n",
    "                    y=cum_var_exp,\n",
    "                    name = 'cumulative explained variance')\n",
    "    data = Data([trace1, trace2])\n",
    "    layout = Layout(yaxis=YAxis(title='Explained variance in percent'),\n",
    "                   title = 'Explained variance by different principal components')\n",
    "    fig = Figure(data=data,layout=layout)\n",
    "    py.iplot(fig)\n",
    "    \n",
    "PCA(x_tr2,x_te2)"
   ]
  },
  {
   "cell_type": "code",
   "execution_count": null,
   "metadata": {
    "collapsed": true
   },
   "outputs": [],
   "source": []
  }
 ],
 "metadata": {
  "kernelspec": {
   "display_name": "Python [default]",
   "language": "python",
   "name": "python3"
  },
  "language_info": {
   "codemirror_mode": {
    "name": "ipython",
    "version": 3
   },
   "file_extension": ".py",
   "mimetype": "text/x-python",
   "name": "python",
   "nbconvert_exporter": "python",
   "pygments_lexer": "ipython3",
   "version": "3.6.2"
  }
 },
 "nbformat": 4,
 "nbformat_minor": 2
}
