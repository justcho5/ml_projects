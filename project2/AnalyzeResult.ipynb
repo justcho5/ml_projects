{
 "cells": [
  {
   "cell_type": "code",
   "execution_count": 1,
   "metadata": {},
   "outputs": [],
   "source": [
    "%matplotlib inline\n",
    "%load_ext autoreload\n",
    "%autoreload 2\n",
    "\n",
    "import pickle\n",
    "import os\n",
    "from tqdm import tqdm_notebook\n",
    "\n",
    "import pandas as pd\n",
    "import numpy as np\n",
    "import seaborn as sns\n",
    "import matplotlib as plt\n",
    "sns.set(style=\"whitegrid\")\n",
    "\n",
    "# this is hack, but who cares, use script as default folder\n",
    "# otherwise the pickle doens't work\n",
    "import sys\n",
    "sys.path.insert(0, 'script')\n",
    "\n",
    "import dataset as d\n",
    "import models as m\n",
    "import submission as s"
   ]
  },
  {
   "cell_type": "markdown",
   "metadata": {},
   "source": [
    "### 1. Run\n",
    "First run the whole dataset and without any optimization. \n",
    "The following Surpise models were used:\n"
   ]
  },
  {
   "cell_type": "code",
   "execution_count": 110,
   "metadata": {},
   "outputs": [
    {
     "name": "stdout",
     "output_type": "stream",
     "text": [
      "SurpriseBaselineOnly.result\r\n",
      "SurpriseCoClustering.result\r\n",
      "SurpriseKNNBaseline.result\r\n",
      "SurpriseKNNBasic.result\r\n",
      "SurpriseKNNWithMeans.result\r\n",
      "SurpriseNMF.result\r\n",
      "SurpriseSlopeOneModel.result\r\n",
      "SurpriseSvdModel.result\r\n",
      "SurpriseSvdPPModel.result\r\n"
     ]
    }
   ],
   "source": [
    "!ls run_1 | cat"
   ]
  },
  {
   "cell_type": "markdown",
   "metadata": {},
   "source": [
    "#### Plot the result"
   ]
  },
  {
   "cell_type": "code",
   "execution_count": 14,
   "metadata": {},
   "outputs": [],
   "source": [
    "def read_mse(folder):\n",
    "    model_to_rmse = []\n",
    "    for file in tqdm_notebook(os.listdir('run_1')):\n",
    "        if '.result' not in file: continue\n",
    "        data = pickle.load(open(folder + \"/\" + file, \"rb\" )) \n",
    "        r = list(map(lambda x: x[0].rmse, data))\n",
    "        n = file.split('.')[0]\n",
    "        model_to_rmse.append(dict(name=n, rmse=r))\n",
    "    return model_to_rmse"
   ]
  },
  {
   "cell_type": "code",
   "execution_count": 17,
   "metadata": {},
   "outputs": [
    {
     "data": {
      "text/plain": [
       "''"
      ]
     },
     "execution_count": 17,
     "metadata": {},
     "output_type": "execute_result"
    }
   ],
   "source": [
    "def plot_rmse(model_to_rmse):\n",
    "    plt.rcParams['figure.figsize'] = (15, 6)\n",
    "    ax = sns.boxplot(y=list(map(lambda x: x['rmse'], model_to_rmse)),\n",
    "                     x=list(map(lambda x: x['name'], model_to_rmse)))\n",
    "    ax.set_xticklabels(labels=list(map(lambda x: x['name'], model_to_rmse)), rotation=90)\n",
    ";"
   ]
  },
  {
   "cell_type": "markdown",
   "metadata": {},
   "source": [
    "Based on the above graph. I picked the following files and submitted: "
   ]
  },
  {
   "cell_type": "code",
   "execution_count": 5,
   "metadata": {},
   "outputs": [
    {
     "name": "stderr",
     "output_type": "stream",
     "text": [
      "100%|██████████| 1176952/1176952 [00:07<00:00, 147323.10it/s]\n",
      "100%|██████████| 1176952/1176952 [00:02<00:00, 434825.48it/s]\n"
     ]
    }
   ],
   "source": [
    "data = pickle.load(open(\"run_1/SurpriseBaselineOnly.result\", \"rb\" )) \n",
    "worst = max(data, key=lambda x: x[0].rmse)[0]\n",
    "s.create_submission_file(model=worst.algo, output_file='run_1/prediction_SurpriseBaselineOnly.csv')"
   ]
  },
  {
   "cell_type": "markdown",
   "metadata": {},
   "source": [
    "### Submission 22513\n",
    "<pre>\n",
    "I took by accident the file with the highest rmse ( 1.2219954859775726 ) and subitted it. \n",
    "Crowdai rmse: 1.127"
   ]
  },
  {
   "cell_type": "code",
   "execution_count": 6,
   "metadata": {},
   "outputs": [
    {
     "name": "stderr",
     "output_type": "stream",
     "text": [
      "100%|██████████| 1176952/1176952 [00:08<00:00, 146462.72it/s]\n",
      "100%|██████████| 1176952/1176952 [00:03<00:00, 384058.66it/s]\n"
     ]
    }
   ],
   "source": [
    "data = pickle.load(open(\"run_1/SurpriseBaselineOnly.result\", \"rb\" )) \n",
    "best = min(data, key=lambda x: x[0].rmse)[0]\n",
    "s.create_submission_file(model=best.algo, output_file='run_1/prediction_SurpriseBaselineOnly_min.csv')"
   ]
  },
  {
   "cell_type": "markdown",
   "metadata": {},
   "source": [
    "### Submission 22515\n",
    "<pre>\n",
    "Local rmse: 0.9956188453679479\n",
    "Crowdai rmse: 1.127\n",
    "File: run_1/prediction_SurpriseBaselineOnly_min.csv\n",
    "\n",
    "=> Both file seem to be the exact same prediction"
   ]
  },
  {
   "cell_type": "code",
   "execution_count": 7,
   "metadata": {},
   "outputs": [
    {
     "name": "stderr",
     "output_type": "stream",
     "text": [
      "100%|██████████| 1176952/1176952 [00:07<00:00, 148536.69it/s]\n",
      "100%|██████████| 1176952/1176952 [00:02<00:00, 444465.92it/s]\n"
     ]
    }
   ],
   "source": [
    "data = pickle.load(open(\"run_1/SurpriseSvdModel.result\", \"rb\" )) \n",
    "best = min(data, key=lambda x: x[0].rmse)[0]\n",
    "s.create_submission_file(model=best.algo, output_file='run_1/prediction_SurpriseSvdModel.csv')"
   ]
  },
  {
   "cell_type": "markdown",
   "metadata": {},
   "source": [
    "### Submission 22517\n",
    "<pre>\n",
    "Local rmse: 0.9975809950987204\n",
    "Crowdai rmse: 1.127\n",
    "File: run_1/prediction_SurpriseSvdModel.csv\n",
    "\n",
    "=> also this model seems to give the same result"
   ]
  },
  {
   "cell_type": "code",
   "execution_count": 13,
   "metadata": {},
   "outputs": [
    {
     "data": {
      "text/plain": [
       "<surprise.prediction_algorithms.baseline_only.BaselineOnly at 0x103baa5c0>"
      ]
     },
     "execution_count": 13,
     "metadata": {},
     "output_type": "execute_result"
    }
   ],
   "source": [
    "worst.algo"
   ]
  },
  {
   "cell_type": "code",
   "execution_count": 17,
   "metadata": {},
   "outputs": [
    {
     "data": {
      "text/plain": [
       "0.02"
      ]
     },
     "execution_count": 17,
     "metadata": {},
     "output_type": "execute_result"
    }
   ],
   "source": [
    "best.algo.reg_bi"
   ]
  },
  {
   "cell_type": "code",
   "execution_count": 29,
   "metadata": {},
   "outputs": [],
   "source": [
    "def create_prediction(result, output):\n",
    "    data = pickle.load(open(result, \"rb\" )) \n",
    "    best = min(data, key=lambda x: x[0].rmse)[0]\n",
    "    predictions = s.create_submission_file(model=best.algo, output_file=output)\n",
    "    return (best, predictions)"
   ]
  },
  {
   "cell_type": "code",
   "execution_count": 31,
   "metadata": {},
   "outputs": [
    {
     "name": "stdout",
     "output_type": "stream",
     "text": [
      "run_1/SurpriseNMF.result\n"
     ]
    },
    {
     "name": "stderr",
     "output_type": "stream",
     "text": [
      "100%|██████████| 1176952/1176952 [00:08<00:00, 140616.22it/s]\n",
      "100%|██████████| 1176952/1176952 [00:02<00:00, 400771.46it/s]\n"
     ]
    },
    {
     "name": "stdout",
     "output_type": "stream",
     "text": [
      "[3.83172996]\n",
      "run_1/SurpriseKNNBasic.result\n"
     ]
    },
    {
     "name": "stderr",
     "output_type": "stream",
     "text": [
      "100%|██████████| 1176952/1176952 [00:08<00:00, 139094.48it/s]\n",
      "100%|██████████| 1176952/1176952 [00:03<00:00, 390834.65it/s]\n"
     ]
    },
    {
     "name": "stdout",
     "output_type": "stream",
     "text": [
      "[3.83172996]\n",
      "run_1/SurpriseKNNWithMeans.result\n"
     ]
    },
    {
     "name": "stderr",
     "output_type": "stream",
     "text": [
      "100%|██████████| 1176952/1176952 [00:08<00:00, 138966.81it/s]\n",
      "100%|██████████| 1176952/1176952 [00:03<00:00, 380263.36it/s]\n"
     ]
    },
    {
     "name": "stdout",
     "output_type": "stream",
     "text": [
      "[3.83172996]\n",
      "run_1/SurpriseSvdModel.result\n"
     ]
    },
    {
     "name": "stderr",
     "output_type": "stream",
     "text": [
      "100%|██████████| 1176952/1176952 [00:08<00:00, 134990.60it/s]\n",
      "100%|██████████| 1176952/1176952 [00:03<00:00, 377740.67it/s]\n"
     ]
    },
    {
     "name": "stdout",
     "output_type": "stream",
     "text": [
      "[3.83172996]\n",
      "run_1/SurpriseBaselineOnly.result\n"
     ]
    },
    {
     "name": "stderr",
     "output_type": "stream",
     "text": [
      "100%|██████████| 1176952/1176952 [00:08<00:00, 146651.46it/s]\n",
      "100%|██████████| 1176952/1176952 [00:02<00:00, 395767.07it/s]\n"
     ]
    },
    {
     "name": "stdout",
     "output_type": "stream",
     "text": [
      "[3.83172996]\n",
      "run_1/SurpriseSlopeOneModel.result\n"
     ]
    },
    {
     "name": "stderr",
     "output_type": "stream",
     "text": [
      "100%|██████████| 1176952/1176952 [00:08<00:00, 142785.10it/s]\n",
      "100%|██████████| 1176952/1176952 [00:03<00:00, 382959.55it/s]\n"
     ]
    },
    {
     "name": "stdout",
     "output_type": "stream",
     "text": [
      "[3.83172996]\n",
      "run_1/SurpriseSvdPPModel.result\n"
     ]
    },
    {
     "name": "stderr",
     "output_type": "stream",
     "text": [
      "100%|██████████| 1176952/1176952 [00:08<00:00, 144759.62it/s]\n",
      "100%|██████████| 1176952/1176952 [00:03<00:00, 375953.34it/s]\n"
     ]
    },
    {
     "name": "stdout",
     "output_type": "stream",
     "text": [
      "[3.83172996]\n",
      "run_1/SurpriseCoClustering.result\n"
     ]
    },
    {
     "name": "stderr",
     "output_type": "stream",
     "text": [
      "100%|██████████| 1176952/1176952 [00:07<00:00, 147978.92it/s]\n",
      "100%|██████████| 1176952/1176952 [00:03<00:00, 375761.18it/s]\n"
     ]
    },
    {
     "name": "stdout",
     "output_type": "stream",
     "text": [
      "[3.83172996]\n",
      "run_1/SurpriseKNNBaseline.result\n"
     ]
    },
    {
     "name": "stderr",
     "output_type": "stream",
     "text": [
      "100%|██████████| 1176952/1176952 [00:11<00:00, 98510.05it/s] \n",
      "100%|██████████| 1176952/1176952 [00:03<00:00, 375735.38it/s]\n"
     ]
    },
    {
     "name": "stdout",
     "output_type": "stream",
     "text": [
      "[3.83172996]\n"
     ]
    }
   ],
   "source": [
    "for f in os.listdir('run_1'):\n",
    "    if '.result' not in f: continue\n",
    "    a = create_prediction(result=\"run_1/\" + f, \n",
    "                      output='run_1/abc.csv')\n",
    "    df_a = pd.DataFrame.from_records(a[1], columns=['userId', 'movieId', 'rating'])\n",
    "    print(f, bdf_a.rating.unique())"
   ]
  },
  {
   "cell_type": "code",
   "execution_count": 34,
   "metadata": {},
   "outputs": [
    {
     "name": "stdout",
     "output_type": "stream",
     "text": [
      "script/result/SurpriseBaselineOnly.result\n"
     ]
    },
    {
     "name": "stderr",
     "output_type": "stream",
     "text": [
      "100%|██████████| 1176952/1176952 [00:07<00:00, 148455.51it/s]\n",
      "100%|██████████| 1176952/1176952 [00:03<00:00, 381508.70it/s]\n"
     ]
    }
   ],
   "source": [
    "a = create_prediction(result=\"script/result/SurpriseBaselineOnly.result\", output='run_1/abc.csv')\n",
    "df_a = pd.DataFrame.from_records(a[1], columns=['userId', 'movieId', 'rating'])"
   ]
  },
  {
   "cell_type": "code",
   "execution_count": 43,
   "metadata": {},
   "outputs": [
    {
     "data": {
      "text/plain": [
       "array([3.83172996])"
      ]
     },
     "execution_count": 43,
     "metadata": {},
     "output_type": "execute_result"
    }
   ],
   "source": [
    "df_a.rating.unique()"
   ]
  },
  {
   "cell_type": "markdown",
   "metadata": {},
   "source": [
    "### Submission 22563\n",
    "<pre>\n",
    "It seems that the KFold split with scikit did not work correctly. \n",
    "I use the surprsie KFold now, which will resulted in the following file.\n",
    "\n",
    "Local rmse: 0.9956040868392116\n",
    "Remote rmse: 1.04"
   ]
  },
  {
   "cell_type": "markdown",
   "metadata": {},
   "source": [
    "### Submission 22574\n",
    "<pre>\n",
    "Local rmse: 1.0019204375735304\n",
    "    {'bsl_options': {'method': 'als', 'reg': 1}}\n",
    "remote rmse: 1.04\n",
    "this is the first run with gridsearch, with these parameters:\n",
    "{'bsl_options': {'method': ['als', 'sgd'], 'reg': [1, 2]}}"
   ]
  },
  {
   "cell_type": "markdown",
   "metadata": {},
   "source": [
    "## 2. Run"
   ]
  },
  {
   "cell_type": "code",
   "execution_count": 8,
   "metadata": {},
   "outputs": [
    {
     "name": "stdout",
     "output_type": "stream",
     "text": [
      "SurpriseBaselineOnly.result\r\n",
      "SurpriseCoClustering.result\r\n",
      "SurpriseKNNBaseline.result\r\n",
      "SurpriseKNNBasic.result\r\n",
      "SurpriseKNNWithMeans.result\r\n",
      "SurpriseNMF.result\r\n",
      "SurpriseSlopeOneModel.result\r\n",
      "SurpriseSvdModel.result\r\n",
      "SurpriseSvdPPModel.result\r\n"
     ]
    }
   ],
   "source": [
    "!ls run_2 | cat"
   ]
  },
  {
   "cell_type": "code",
   "execution_count": 19,
   "metadata": {},
   "outputs": [
    {
     "data": {
      "application/vnd.jupyter.widget-view+json": {
       "model_id": "d39f43d84de24d48a5f54b07b33aa70b",
       "version_major": 2,
       "version_minor": 0
      },
      "text/plain": [
       "HBox(children=(IntProgress(value=0, max=14), HTML(value='')))"
      ]
     },
     "metadata": {},
     "output_type": "display_data"
    },
    {
     "name": "stdout",
     "output_type": "stream",
     "text": [
      "\n"
     ]
    },
    {
     "data": {
      "image/png": "[encoded data removed]",
      "text/plain": [
       "<Figure size 1080x432 with 1 Axes>"
      ]
     },
     "metadata": {
      "needs_background": "light"
     },
     "output_type": "display_data"
    }
   ],
   "source": [
    "run_2 = read_mse('run_2')\n",
    "plot_rmse(run_2)"
   ]
  },
  {
   "cell_type": "markdown",
   "metadata": {},
   "source": [
    "### Run 3 (Grid Search)"
   ]
  },
  {
   "cell_type": "code",
   "execution_count": 113,
   "metadata": {},
   "outputs": [],
   "source": [
    "gs = pickle.load(open('run_3_grid_search/GridSearch.result', 'rb'))\n",
    "\n",
    "results_df = pd.DataFrame.from_dict(gs.cv_results)\n",
    "results_df['reg_u'] = results_df.params.apply(lambda x: x['bsl_options']['reg_u'])\n",
    "results_df['reg_i'] = results_df.params.apply(lambda x: x['bsl_options']['reg_i'])\n",
    "results_df['n_epochs'] = results_df.params.apply(lambda x: x['bsl_options']['n_epochs'])"
   ]
  },
  {
   "cell_type": "code",
   "execution_count": 115,
   "metadata": {},
   "outputs": [
    {
     "data": {
      "image/png": "[encoded data removed]",
      "text/plain": [
       "<Figure size 1080x432 with 1 Axes>"
      ]
     },
     "metadata": {
      "needs_background": "light"
     },
     "output_type": "display_data"
    }
   ],
   "source": [
    "results_df.mean_test_rmse.plot.line();"
   ]
  },
  {
   "cell_type": "code",
   "execution_count": 106,
   "metadata": {},
   "outputs": [
    {
     "data": {
      "text/html": [
       "<div>\n",
       "<style scoped>\n",
       "    .dataframe tbody tr th:only-of-type {\n",
       "        vertical-align: middle;\n",
       "    }\n",
       "\n",
       "    .dataframe tbody tr th {\n",
       "        vertical-align: top;\n",
       "    }\n",
       "\n",
       "    .dataframe thead th {\n",
       "        text-align: right;\n",
       "    }\n",
       "</style>\n",
       "<table border=\"1\" class=\"dataframe\">\n",
       "  <thead>\n",
       "    <tr style=\"text-align: right;\">\n",
       "      <th></th>\n",
       "      <th>mean_test_rmse</th>\n",
       "    </tr>\n",
       "  </thead>\n",
       "  <tbody>\n",
       "    <tr>\n",
       "      <th>count</th>\n",
       "      <td>64.000000</td>\n",
       "    </tr>\n",
       "    <tr>\n",
       "      <th>mean</th>\n",
       "      <td>0.998924</td>\n",
       "    </tr>\n",
       "    <tr>\n",
       "      <th>std</th>\n",
       "      <td>0.000104</td>\n",
       "    </tr>\n",
       "    <tr>\n",
       "      <th>min</th>\n",
       "      <td>0.998754</td>\n",
       "    </tr>\n",
       "    <tr>\n",
       "      <th>25%</th>\n",
       "      <td>0.998845</td>\n",
       "    </tr>\n",
       "    <tr>\n",
       "      <th>50%</th>\n",
       "      <td>0.998914</td>\n",
       "    </tr>\n",
       "    <tr>\n",
       "      <th>75%</th>\n",
       "      <td>0.998999</td>\n",
       "    </tr>\n",
       "    <tr>\n",
       "      <th>max</th>\n",
       "      <td>0.999137</td>\n",
       "    </tr>\n",
       "  </tbody>\n",
       "</table>\n",
       "</div>"
      ],
      "text/plain": [
       "       mean_test_rmse\n",
       "count       64.000000\n",
       "mean         0.998924\n",
       "std          0.000104\n",
       "min          0.998754\n",
       "25%          0.998845\n",
       "50%          0.998914\n",
       "75%          0.998999\n",
       "max          0.999137"
      ]
     },
     "execution_count": 106,
     "metadata": {},
     "output_type": "execute_result"
    }
   ],
   "source": [
    "results_df[['reg_u', 'reg_i', 'n_epochs', 'mean_test_rmse']]\n",
    "results_df.mean_test_rmse.describe().to_frame()"
   ]
  },
  {
   "cell_type": "markdown",
   "metadata": {},
   "source": [
    "The above results shows, that there is only a minor improvement!\n",
    "Let's submit the best to see what rmse we get remotely."
   ]
  },
  {
   "cell_type": "code",
   "execution_count": 119,
   "metadata": {},
   "outputs": [
    {
     "name": "stdout",
     "output_type": "stream",
     "text": [
      "Estimating biases using als...\n"
     ]
    },
    {
     "data": {
      "text/plain": [
       "<surprise.prediction_algorithms.baseline_only.BaselineOnly at 0x1b70d95198>"
      ]
     },
     "execution_count": 119,
     "metadata": {},
     "output_type": "execute_result"
    }
   ],
   "source": [
    "data_input = d.to_surprise_read('data/data_surprise.csv')\n",
    "algo = gs.best_estimator['rmse']\n",
    "algo.fit(data_input.build_full_trainset())"
   ]
  },
  {
   "cell_type": "code",
   "execution_count": 125,
   "metadata": {},
   "outputs": [
    {
     "name": "stderr",
     "output_type": "stream",
     "text": [
      "100%|██████████| 1176952/1176952 [00:06<00:00, 181048.85it/s]\n",
      "100%|██████████| 1176952/1176952 [00:02<00:00, 420591.45it/s]\n"
     ]
    }
   ],
   "source": [
    "x = s.create_submission_file(algo, output_file='run_3_grid_search/submission.csv')"
   ]
  },
  {
   "cell_type": "markdown",
   "metadata": {},
   "source": [
    "#### Submission 22695\n",
    "<pre>\n",
    "{'bsl_options': {\n",
    "    'method': ['als'],\n",
    "    'reg_i': [5, 10, 15, 20],\n",
    "    'reg_u': [5, 10, 15, 20],\n",
    "    'n_epochs': [5, 10, 15, 20]\n",
    "}}\n",
    "\n",
    "local rmse: 0.9987539286509693\n",
    "remote rmse: 1.04"
   ]
  }
 ],
 "metadata": {
  "kernelspec": {
   "display_name": "Python 3",
   "language": "python",
   "name": "python3"
  },
  "language_info": {
   "codemirror_mode": {
    "name": "ipython",
    "version": 3
   },
   "file_extension": ".py",
   "mimetype": "text/x-python",
   "name": "python",
   "nbconvert_exporter": "python",
   "pygments_lexer": "ipython3",
   "version": "3.6.6"
  }
 },
 "nbformat": 4,
 "nbformat_minor": 2
}
