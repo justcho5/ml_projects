{
 "cells": [
  {
   "cell_type": "code",
   "execution_count": 3,
   "metadata": {},
   "outputs": [],
   "source": [
    "%matplotlib inline\n",
    "%load_ext autoreload\n",
    "%autoreload 2\n",
    "\n",
    "import pickle\n",
    "import os\n",
    "from tqdm import tqdm_notebook\n",
    "\n",
    "import pandas as pd\n",
    "import numpy as np\n",
    "import seaborn as sns\n",
    "import matplotlib as plt\n",
    "sns.set(style=\"whitegrid\")\n",
    "\n",
    "# this is hack, but who cares, use script as default folder\n",
    "# otherwise the pickle doens't work\n",
    "import sys\n",
    "sys.path.insert(0, 'script')\n",
    "\n",
    "import dataset as d\n",
    "import models as m\n",
    "import submission as s"
   ]
  },
  {
   "cell_type": "markdown",
   "metadata": {},
   "source": [
    "### 1. Run\n",
    "First run the whole dataset and without any optimization. \n",
    "The following Surpise models were used:\n"
   ]
  },
  {
   "cell_type": "code",
   "execution_count": 110,
   "metadata": {},
   "outputs": [
    {
     "name": "stdout",
     "output_type": "stream",
     "text": [
      "SurpriseBaselineOnly.result\r\n",
      "SurpriseCoClustering.result\r\n",
      "SurpriseKNNBaseline.result\r\n",
      "SurpriseKNNBasic.result\r\n",
      "SurpriseKNNWithMeans.result\r\n",
      "SurpriseNMF.result\r\n",
      "SurpriseSlopeOneModel.result\r\n",
      "SurpriseSvdModel.result\r\n",
      "SurpriseSvdPPModel.result\r\n"
     ]
    }
   ],
   "source": [
    "!ls run_1 | cat"
   ]
  },
  {
   "cell_type": "markdown",
   "metadata": {},
   "source": [
    "#### Plot the result"
   ]
  },
  {
   "cell_type": "code",
   "execution_count": 119,
   "metadata": {},
   "outputs": [
    {
     "data": {
      "application/vnd.jupyter.widget-view+json": {
       "model_id": "9e99488d2d3444b982fe1aed7ec71dde",
       "version_major": 2,
       "version_minor": 0
      },
      "text/plain": [
       "HBox(children=(IntProgress(value=0, max=9), HTML(value='')))"
      ]
     },
     "metadata": {},
     "output_type": "display_data"
    }
   ],
   "source": [
    "model_to_rmse = []\n",
    "for file in tqdm_notebook(os.listdir('run_1')):\n",
    "    data = pickle.load(open(\"run_1/\" + file, \"rb\" )) \n",
    "    r = list(map(lambda x: x[0].rmse, data))\n",
    "    n = file.split('.')[0]\n",
    "    model_to_rmse.append(dict(name=n, rmse=r))"
   ]
  },
  {
   "cell_type": "code",
   "execution_count": 125,
   "metadata": {},
   "outputs": [
    {
     "data": {
      "text/plain": [
       "''"
      ]
     },
     "execution_count": 125,
     "metadata": {},
     "output_type": "execute_result"
    },
    {
     "data": {
      "image/png": "[encoded data removed]",
      "text/plain": [
       "<Figure size 1080x432 with 1 Axes>"
      ]
     },
     "metadata": {},
     "output_type": "display_data"
    }
   ],
   "source": [
    "plt.rcParams['figure.figsize'] = (15, 6)\n",
    "ax = sns.boxplot(y=list(map(lambda x: x['rmse'], model_to_rmse)),\n",
    "                 x=list(map(lambda x: x['name'], model_to_rmse)))\n",
    "ax.set_xticklabels(labels=list(map(lambda x: x['name'], model_to_rmse)), rotation=90)\n",
    ";"
   ]
  },
  {
   "cell_type": "markdown",
   "metadata": {},
   "source": [
    "Based on the above graph. I picked the following files and submitted: "
   ]
  },
  {
   "cell_type": "code",
   "execution_count": 5,
   "metadata": {},
   "outputs": [
    {
     "name": "stderr",
     "output_type": "stream",
     "text": [
      "100%|██████████| 1176952/1176952 [00:07<00:00, 147323.10it/s]\n",
      "100%|██████████| 1176952/1176952 [00:02<00:00, 434825.48it/s]\n"
     ]
    }
   ],
   "source": [
    "data = pickle.load(open(\"run_1/SurpriseBaselineOnly.result\", \"rb\" )) \n",
    "worst = max(data, key=lambda x: x[0].rmse)[0]\n",
    "s.create_submission_file(model=worst.algo, output_file='run_1/prediction_SurpriseBaselineOnly.csv')"
   ]
  },
  {
   "cell_type": "markdown",
   "metadata": {},
   "source": [
    "### Submission 22513\n",
    "<pre>\n",
    "I took by accident the file with the highest rmse ( 1.2219954859775726 ) and subitted it. \n",
    "Crowdai rmse: 1.127\n",
    "File: run_1/prediction_SurpriseBaselineOnly.csv"
   ]
  },
  {
   "cell_type": "code",
   "execution_count": 6,
   "metadata": {},
   "outputs": [
    {
     "name": "stderr",
     "output_type": "stream",
     "text": [
      "100%|██████████| 1176952/1176952 [00:08<00:00, 146462.72it/s]\n",
      "100%|██████████| 1176952/1176952 [00:03<00:00, 384058.66it/s]\n"
     ]
    }
   ],
   "source": [
    "data = pickle.load(open(\"run_1/SurpriseBaselineOnly.result\", \"rb\" )) \n",
    "best = min(data, key=lambda x: x[0].rmse)[0]\n",
    "s.create_submission_file(model=best.algo, output_file='run_1/prediction_SurpriseBaselineOnly_min.csv')"
   ]
  },
  {
   "cell_type": "markdown",
   "metadata": {},
   "source": [
    "### Submission 22515\n",
    "<pre>\n",
    "Local rmse: 0.9956188453679479\n",
    "Crowdai rmse: 1.127\n",
    "File: run_1/prediction_SurpriseBaselineOnly_min.csv\n",
    "\n",
    "=> Both file seem to be the exact same prediction"
   ]
  },
  {
   "cell_type": "code",
   "execution_count": 7,
   "metadata": {},
   "outputs": [
    {
     "name": "stderr",
     "output_type": "stream",
     "text": [
      "100%|██████████| 1176952/1176952 [00:07<00:00, 148536.69it/s]\n",
      "100%|██████████| 1176952/1176952 [00:02<00:00, 444465.92it/s]\n"
     ]
    }
   ],
   "source": [
    "data = pickle.load(open(\"run_1/SurpriseSvdModel.result\", \"rb\" )) \n",
    "best = min(data, key=lambda x: x[0].rmse)[0]\n",
    "s.create_submission_file(model=best.algo, output_file='run_1/prediction_SurpriseSvdModel.csv')"
   ]
  },
  {
   "cell_type": "markdown",
   "metadata": {},
   "source": [
    "### Submission 22517\n",
    "<pre>\n",
    "Local rmse: 0.9975809950987204\n",
    "Crowdai rmse: 1.127\n",
    "File: run_1/prediction_SurpriseSvdModel.csv\n",
    "\n",
    "=> also this model seems to give the same result"
   ]
  },
  {
   "cell_type": "code",
   "execution_count": null,
   "metadata": {},
   "outputs": [],
   "source": []
  },
  {
   "cell_type": "code",
   "execution_count": null,
   "metadata": {},
   "outputs": [],
   "source": []
  }
 ],
 "metadata": {
  "kernelspec": {
   "display_name": "Python 3",
   "language": "python",
   "name": "python3"
  }
 },
 "nbformat": 4,
 "nbformat_minor": 2
}
