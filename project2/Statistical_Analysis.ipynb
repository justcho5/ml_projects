{
 "cells": [
  {
   "cell_type": "code",
   "execution_count": 59,
   "metadata": {},
   "outputs": [],
   "source": [
    "import numpy as np\n",
    "import pandas as pd \n",
    "import matplotlib.pyplot as plt\n",
    "import statistics as stats"
   ]
  },
  {
   "cell_type": "code",
   "execution_count": 116,
   "metadata": {},
   "outputs": [],
   "source": [
    "data = pd.read_csv('data/data_train.csv')\n",
    "\n",
    "data.head()\n",
    "\n",
    "x = data.Id.str.extract(r'r(?P<user>\\d+)_c(?P<movie>\\d+)')\n",
    "data['user'] = x.user\n",
    "data['movie'] = x.movie\n",
    "\n",
    "data = data[['user', 'movie', 'Prediction']]\n",
    "\n",
    "movie = data.groupby('user')['movie'].count().to_frame()\n",
    "median = movie.median().values[0]\n",
    "#less_than_median = movie[movie.]"
   ]
  },
  {
   "cell_type": "code",
   "execution_count": 153,
   "metadata": {},
   "outputs": [],
   "source": [
    "df_few_ratings = movie[movie['movie'] < median]\n",
    "df_left = data.merge(df_few_ratings.reset_index(), left_on='user', right_on='user', how='inner')"
   ]
  },
  {
   "cell_type": "code",
   "execution_count": 155,
   "metadata": {},
   "outputs": [],
   "source": [
    "df_many_ratings = movie[movie['movie'] >= median]\n",
    "df_right = data.merge(df_many_ratings.reset_index(), left_on='user', right_on='user', how='inner')"
   ]
  },
  {
   "cell_type": "code",
   "execution_count": 162,
   "metadata": {},
   "outputs": [],
   "source": [
    "df_left[['user', 'movie_x', 'Prediction']].to_csv('data/lower_surprise.csv', header=False, index=False)\n",
    "df_right[['user', 'movie_x', 'Prediction']].to_csv('data/upper_surprise.csv', header=False, index=False)"
   ]
  },
  {
   "cell_type": "code",
   "execution_count": 49,
   "metadata": {},
   "outputs": [],
   "source": [
    "length = len(M)\n",
    "ranking_count = np.zeros([length,2])\n",
    "\n",
    "for i in range (-1,length-1):\n",
    "    ranking_count[i,0] = np.count_nonzero(M[i,:])\n",
    "    ranking_count[i,1] = i\n",
    "    \n",
    "col = 0\n",
    "ranking_count = ranking_count[np.argsort(ranking_count[:, col])]\n",
    "M_ordered = np.zeros((10000,1000))\n",
    "\n",
    "for j in range (0,length):\n",
    "    M_ordered[j,:] = M[int(ranking_count[j,1]),:]\n"
   ]
  },
  {
   "cell_type": "code",
   "execution_count": null,
   "metadata": {},
   "outputs": [],
   "source": []
  },
  {
   "cell_type": "code",
   "execution_count": null,
   "metadata": {},
   "outputs": [],
   "source": [
    "def order_matrix(M):\n",
    "    length = len(M)\n",
    "    ranking_count = np.zeros([length,2])\n",
    "    for i in range (-1,length-1):\n",
    "        ranking_count[i,0] = np.count_nonzero(M[i,:])\n",
    "        ranking_count[i,1] = i\n",
    "    \n",
    "    col = 0\n",
    "    ranking_count = ranking_count[np.argsort(ranking_count[:, col])]\n",
    "    M_ordered = np.zeros((10000,1000))\n",
    "    \n",
    "    for j in range (0,length):\n",
    "        M_ordered[j,:] = M[int(ranking_count[j,1]),:]\n",
    "        \n",
    "    return(M_ordered)"
   ]
  },
  {
   "cell_type": "code",
   "execution_count": null,
   "metadata": {},
   "outputs": [],
   "source": [
    "def order_matrix_user(M):\n",
    "    \n",
    "    length = len(M)\n",
    "    ranking_count = np.zeros([length,2])\n",
    "    user = np.zeros(length)\n",
    "    for i in range (-1,length-1):\n",
    "        ranking_count[i,0] = np.count_nonzero(M[i,:])\n",
    "        ranking_count[i,1] = i\n",
    "    \n",
    "    col = 0\n",
    "    ranking_count = ranking_count[np.argsort(ranking_count[:, col])]\n",
    "    M_ordered = np.zeros((10000,1000))\n",
    "    \n",
    "    for j in range (0,length):\n",
    "        M_ordered[j,:] = M[int(ranking_count[j,1]),:]\n",
    "     \n",
    "    user = ranking_count[:,1]\n",
    "    return(M_ordered, user)"
   ]
  },
  {
   "cell_type": "code",
   "execution_count": null,
   "metadata": {},
   "outputs": [],
   "source": [
    "def ordered_matrix_to_data_frame(M_ordered, user):\n",
    "    \n",
    "    n_rows = len(M_ordered)\n",
    "    n_columns = len(M_ordered[0])\n",
    "    non_zero = np.count_nonzero(M_ordered)\n",
    "    sep = '_'\n",
    "    cells = [\"\" for x in range(non_zero)]\n",
    "    predictions = [\"\" for x in range(non_zero)]\n",
    "    \n",
    "    counter = 0\n",
    "    for i in range(0,n_columns):\n",
    "        for j in range(0,n_rows):\n",
    "            if M_ordered[j,i] != 0:\n",
    "                cells[counter] = 'r' + str(int(user[j])) + sep + 'c' + str(i+1)\n",
    "                predictions[counter] = int(M_ordered[j,i])\n",
    "                counter = counter + 1\n",
    "    \n",
    "    d = {'Id': cells, 'Prediction': predictions}\n",
    "    df = pd.DataFrame(data=d) \n",
    "    return df"
   ]
  },
  {
   "cell_type": "code",
   "execution_count": null,
   "metadata": {},
   "outputs": [],
   "source": [
    "q = 0.95\n",
    "plt.hist(n_ratings, bins = 100)\n",
    "plt.axvline(stats.median(n_ratings), color = 'r', linestyle = 'dashed')\n",
    "plt.axvline(np.mean(n_ratings), color = 'y', linestyle = 'dashed')\n",
    "plt.axvline(np.quantile(n_ratings, q), color = 'k', linestyle = 'dashed')\n",
    "plt.legend(('Median', 'Mean', str(q) + 'Quantile'))\n",
    "plt.show()"
   ]
  },
  {
   "cell_type": "code",
   "execution_count": 4,
   "metadata": {},
   "outputs": [],
   "source": [
    "def data_frame_to_matrix(data):\n",
    "    #n=2 limits the output to two items\n",
    "    id_splited = data['Id'].str.split('_', n=2, expand = True)\n",
    "    data['User'] = id_splited[0].str.extract('(\\d+)', expand = True)\n",
    "    data['Movie'] = id_splited[1].str.extract('(\\d+)', expand = True)\n",
    "    M = np.zeros((10000,1000))\n",
    "    length = len(data)\n",
    "    for i in range(0, length):\n",
    "        user_id = int(data.iloc[i,2])\n",
    "        movie_id = int(data.iloc[i,3])\n",
    "        rating = data.iloc[i,1]\n",
    "        M[user_id - 1, movie_id -1] = rating\n",
    "    return M"
   ]
  },
  {
   "cell_type": "code",
   "execution_count": 5,
   "metadata": {},
   "outputs": [],
   "source": [
    "M = data_frame_to_matrix(data)"
   ]
  },
  {
   "cell_type": "code",
   "execution_count": null,
   "metadata": {},
   "outputs": [],
   "source": [
    "def matrix_to_data_frame(M):\n",
    "    n_rows = len(M)\n",
    "    n_columns = len(M[0])\n",
    "    non_zero = np.count_nonzero(M)\n",
    "    sep = '_'\n",
    "    cells = [\"\" for x in range(non_zero)]\n",
    "    predictions = [\"\" for x in range(non_zero)]\n",
    "    counter = 0\n",
    "    for i in range(0,n_columns):\n",
    "        for j in range(0,n_rows):\n",
    "            if M[j,i] != 0:\n",
    "                cells[counter] = 'r' + str(j+1) + sep + 'c' + str(i+1)\n",
    "                predictions[counter] = M[j,i]\n",
    "                counter = counter + 1\n",
    "    \n",
    "    d = {'Id': cells, 'Prediction': counter}\n",
    "    df = pd.DataFrame(data=d) \n",
    "    return df"
   ]
  },
  {
   "cell_type": "code",
   "execution_count": 6,
   "metadata": {},
   "outputs": [],
   "source": [
    "def matrix_to_data_frame(M):\n",
    "    n_rows = len(M)\n",
    "    n_columns = len(M[0])\n",
    "    non_zero = np.count_nonzero(M)\n",
    "    sep = '_'\n",
    "    cells = [\"\" for x in range(non_zero)]\n",
    "    predictions = [\"\" for x in range(non_zero)]\n",
    "    counter = 0\n",
    "    for i in range(0,n_columns):\n",
    "        for j in range(0,n_rows):\n",
    "            if M[j,i] != 0:\n",
    "                cells[counter] = 'r' + str(j+1) + sep + 'c' + str(i+1)\n",
    "                predictions[counter] = M[j,i]\n",
    "                counter = counter + 1\n",
    "    \n",
    "    d = {'Id': cells, 'Prediction': counter}\n",
    "    df = pd.DataFrame(data=d) \n",
    "    return df"
   ]
  },
  {
   "cell_type": "code",
   "execution_count": 7,
   "metadata": {},
   "outputs": [
    {
     "data": {
      "text/plain": [
       "array([[0., 0., 0., ..., 0., 0., 0.],\n",
       "       [0., 0., 0., ..., 5., 3., 3.],\n",
       "       [0., 0., 0., ..., 0., 0., 0.],\n",
       "       ...,\n",
       "       [0., 0., 0., ..., 0., 0., 0.],\n",
       "       [0., 0., 0., ..., 0., 0., 0.],\n",
       "       [0., 0., 0., ..., 0., 0., 3.]])"
      ]
     },
     "execution_count": 7,
     "metadata": {},
     "output_type": "execute_result"
    }
   ],
   "source": [
    "M"
   ]
  },
  {
   "cell_type": "code",
   "execution_count": null,
   "metadata": {},
   "outputs": [],
   "source": []
  }
 ],
 "metadata": {
  "kernelspec": {
   "display_name": "Python 3",
   "language": "python",
   "name": "python3"
  },
  "language_info": {
   "codemirror_mode": {
    "name": "ipython",
    "version": 3
   },
   "file_extension": ".py",
   "mimetype": "text/x-python",
   "name": "python",
   "nbconvert_exporter": "python",
   "pygments_lexer": "ipython3",
   "version": "3.6.7"
  }
 },
 "nbformat": 4,
 "nbformat_minor": 2
}
