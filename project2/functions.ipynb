{
 "cells": [
  {
   "cell_type": "code",
   "execution_count": 2,
   "metadata": {},
   "outputs": [],
   "source": [
    "import numpy as np \n",
    "import pandas as pd"
   ]
  },
  {
   "cell_type": "code",
   "execution_count": 3,
   "metadata": {},
   "outputs": [],
   "source": [
    "data = pd.read_csv('data_train.csv')"
   ]
  },
  {
   "cell_type": "code",
   "execution_count": 4,
   "metadata": {},
   "outputs": [],
   "source": [
    "def data_to_matrix(data):\n",
    "    df = pd.DataFrame(data)\n",
    "    a = df['Id'].str.split('_', n=2, expand = True)\n",
    "    df['User'] = a[0].str.extract('(\\d+)', expand = True)\n",
    "    df['Movie'] = a[1].str.extract('(\\d+)', expand = True)\n",
    "\n",
    "    M = np.zeros((10000,1000))\n",
    "    n = len(df)\n",
    "    for i in range(0,n):\n",
    "        u = int(df.iloc[i,2])\n",
    "        m = int(df.iloc[i,3])\n",
    "        p = df.iloc[i,1]\n",
    "        M[u-1,m-1] = p\n",
    "        \n",
    "    return(M)"
   ]
  },
  {
   "cell_type": "code",
   "execution_count": 5,
   "metadata": {},
   "outputs": [],
   "source": [
    "def matrix_to_data(M):\n",
    "    n = len(M)\n",
    "    m = len(M[0])\n",
    "    c = np.count_nonzero(M)\n",
    "    sep = '_'\n",
    "    col_1 = [\"\" for x in range(c)]\n",
    "    col_2 = [\"\" for x in range(c)]\n",
    "    x = 0\n",
    "    for i in range(0,m):\n",
    "        for j in range(0,n):\n",
    "            if M[j,i] != 0:\n",
    "                col_1[x] = 'r' + str(j+1) + sep + 'c' + str(i+1)\n",
    "                col_2[x] = M[j,i]\n",
    "                x=x+1\n",
    "    \n",
    "    d = {'Id': col_1, 'Prediction': col_2}\n",
    "    df = pd.DataFrame(data=d)\n",
    "    \n",
    "    return(df)"
   ]
  },
  {
   "cell_type": "code",
   "execution_count": 9,
   "metadata": {},
   "outputs": [],
   "source": [
    "M = data_to_matrix(data)"
   ]
  },
  {
   "cell_type": "code",
   "execution_count": 11,
   "metadata": {},
   "outputs": [],
   "source": [
    "output = matrix_to_data(M)"
   ]
  }
 ],
 "metadata": {
  "kernelspec": {
   "display_name": "Python 3",
   "language": "python",
   "name": "python3"
  },
  "language_info": {
   "codemirror_mode": {
    "name": "ipython",
    "version": 3
   },
   "file_extension": ".py",
   "mimetype": "text/x-python",
   "name": "python",
   "nbconvert_exporter": "python",
   "pygments_lexer": "ipython3",
   "version": "3.6.4"
  }
 },
 "nbformat": 4,
 "nbformat_minor": 2
}
