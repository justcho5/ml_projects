{
 "cells": [
  {
   "cell_type": "code",
   "execution_count": 13,
   "metadata": {},
   "outputs": [],
   "source": [
    "import numpy as np \n",
    "import pandas as pd"
   ]
  },
  {
   "cell_type": "code",
   "execution_count": 14,
   "metadata": {},
   "outputs": [],
   "source": [
    "data = pd.read_csv('data_train.csv')"
   ]
  },
  {
   "cell_type": "code",
   "execution_count": 16,
   "metadata": {},
   "outputs": [],
   "source": [
    "def data_frame_to_matrix(data):\n",
    "    #n=2 limits the output to two items\n",
    "    id_splited = data['Id'].str.split('_', n=2, expand = True)\n",
    "    data['User'] = id_splited[0].str.extract('(\\d+)', expand = True)\n",
    "    data['Movie'] = id_splited[1].str.extract('(\\d+)', expand = True)\n",
    "    M = np.zeros((10000,1000))\n",
    "    length = len(data)\n",
    "    for i in range(0, length):\n",
    "        user_id = int(data.iloc[i,2])\n",
    "        movie_id = int(data.iloc[i,3])\n",
    "        rating = data.iloc[i,1]\n",
    "        M[user_id - 1, movie_id -1] = rating\n",
    "    return M"
   ]
  },
  {
   "cell_type": "code",
   "execution_count": 17,
   "metadata": {},
   "outputs": [],
   "source": [
    "def matrix_to_data_frame(M):\n",
    "    n_rows = len(M)\n",
    "    n_columns = len(M[0])\n",
    "    non_zero = np.count_nonzero(M)\n",
    "    sep = '_'\n",
    "    cells = [\"\" for x in range(non_zero)]\n",
    "    predictions = [\"\" for x in range(non_zero)]\n",
    "    counter = 0\n",
    "    for i in range(0,n_columns):\n",
    "        for j in range(0,n_rows):\n",
    "            if M[j,i] != 0:\n",
    "                cells[counter] = 'r' + str(j+1) + sep + 'c' + str(i+1)\n",
    "                predictions[counter] = M[j,i]\n",
    "                counter = counter + 1\n",
    "    \n",
    "    d = {'Id': cells, 'Prediction': counter}\n",
    "    df = pd.DataFrame(data=d)\n",
    "    \n",
    "    return df"
   ]
  },
  {
   "cell_type": "code",
   "execution_count": 18,
   "metadata": {},
   "outputs": [],
   "source": [
    "M = data_to_matrix(data)"
   ]
  },
  {
   "cell_type": "code",
   "execution_count": 19,
   "metadata": {},
   "outputs": [],
   "source": [
    "output = matrix_to_data_frame(M)"
   ]
  }
 ],
 "metadata": {
  "kernelspec": {
   "display_name": "Python 3",
   "language": "python",
   "name": "python3"
  },
  "language_info": {
   "codemirror_mode": {
    "name": "ipython",
    "version": 3
   },
   "file_extension": ".py",
   "mimetype": "text/x-python",
   "name": "python",
   "nbconvert_exporter": "python",
   "pygments_lexer": "ipython3",
   "version": "3.6.4"
  }
 },
 "nbformat": 4,
 "nbformat_minor": 2
}
