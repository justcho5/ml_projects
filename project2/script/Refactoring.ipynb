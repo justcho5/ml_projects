{
 "cells": [
  {
   "cell_type": "markdown",
   "metadata": {},
   "source": [
    "### Import everything"
   ]
  },
  {
   "cell_type": "code",
   "execution_count": 28,
   "metadata": {},
   "outputs": [
    {
     "name": "stdout",
     "output_type": "stream",
     "text": [
      "The autoreload extension is already loaded. To reload it, use:\n",
      "  %reload_ext autoreload\n"
     ]
    }
   ],
   "source": [
    "%load_ext autoreload\n",
    "%autoreload 2\n",
    "from run import main\n",
    "import numpy as np\n",
    "import pickle\n",
    "from sklearn.metrics import mean_squared_error"
   ]
  },
  {
   "cell_type": "markdown",
   "metadata": {},
   "source": [
    "### Run everything"
   ]
  },
  {
   "cell_type": "code",
   "execution_count": 2,
   "metadata": {},
   "outputs": [
    {
     "name": "stdout",
     "output_type": "stream",
     "text": [
      "Start script\n"
     ]
    },
    {
     "data": {
      "application/vnd.jupyter.widget-view+json": {
       "model_id": "696c6bebe9df4fdbb9453536d60fd397",
       "version_major": 2,
       "version_minor": 0
      },
      "text/plain": [
       "HBox(children=(IntProgress(value=0, max=10), HTML(value='')))"
      ]
     },
     "metadata": {},
     "output_type": "display_data"
    },
    {
     "name": "stdout",
     "output_type": "stream",
     "text": [
      "Computing the msd similarity matrix...\n",
      "Done computing similarity matrix.\n",
      "Computing the msd similarity matrix...\n",
      "Done computing similarity matrix.\n",
      "Estimating biases using als...\n",
      "Computing the msd similarity matrix...\n",
      "Done computing similarity matrix.\n",
      "Estimating biases using als...\n",
      "Computing the msd similarity matrix...\n",
      "Done computing similarity matrix.\n",
      "Computing the msd similarity matrix...\n",
      "Done computing similarity matrix.\n",
      "Estimating biases using als...\n",
      "Computing the msd similarity matrix...\n",
      "Done computing similarity matrix.\n",
      "Estimating biases using als...\n",
      "Computing the msd similarity matrix...\n",
      "Done computing similarity matrix.\n",
      "Computing the msd similarity matrix...\n",
      "Done computing similarity matrix.\n",
      "Estimating biases using als...\n",
      "Computing the msd similarity matrix...\n",
      "Done computing similarity matrix.\n",
      "Estimating biases using als...\n",
      "Computing the msd similarity matrix...\n",
      "Done computing similarity matrix.\n",
      "Computing the msd similarity matrix...\n",
      "Done computing similarity matrix.\n",
      "Estimating biases using als...\n",
      "Computing the msd similarity matrix...\n",
      "Done computing similarity matrix.\n",
      "Estimating biases using als...\n",
      "Computing the msd similarity matrix...\n",
      "Done computing similarity matrix.\n",
      "Computing the msd similarity matrix...\n",
      "Done computing similarity matrix.\n",
      "Estimating biases using als...\n",
      "Computing the msd similarity matrix...\n",
      "Done computing similarity matrix.\n",
      "Estimating biases using als...\n",
      "Computing the msd similarity matrix...\n",
      "Done computing similarity matrix.\n",
      "Computing the msd similarity matrix...\n",
      "Done computing similarity matrix.\n",
      "Estimating biases using als...\n",
      "Computing the msd similarity matrix...\n",
      "Done computing similarity matrix.\n",
      "Estimating biases using als...\n",
      "Computing the msd similarity matrix...\n",
      "Done computing similarity matrix.\n",
      "Computing the msd similarity matrix...\n",
      "Done computing similarity matrix.\n",
      "Estimating biases using als...\n",
      "Computing the msd similarity matrix...\n",
      "Done computing similarity matrix.\n",
      "Estimating biases using als...\n",
      "Computing the msd similarity matrix...\n",
      "Done computing similarity matrix.\n",
      "Computing the msd similarity matrix...\n",
      "Done computing similarity matrix.\n",
      "Estimating biases using als...\n",
      "Computing the msd similarity matrix...\n",
      "Done computing similarity matrix.\n",
      "Estimating biases using als...\n",
      "Computing the msd similarity matrix...\n",
      "Done computing similarity matrix.\n",
      "Computing the msd similarity matrix...\n",
      "Done computing similarity matrix.\n",
      "Estimating biases using als...\n",
      "Computing the msd similarity matrix...\n",
      "Done computing similarity matrix.\n",
      "Estimating biases using als...\n",
      "Computing the msd similarity matrix...\n",
      "Done computing similarity matrix.\n",
      "Computing the msd similarity matrix...\n",
      "Done computing similarity matrix.\n",
      "Estimating biases using als...\n",
      "Computing the msd similarity matrix...\n",
      "Done computing similarity matrix.\n",
      "Estimating biases using als...\n",
      "\n",
      "Surprise SlopeOne 1.067554217592617\n",
      "Surprise SlopeOne 1.1592506530257558\n",
      "Surprise SlopeOne 1.162012206994113\n",
      "Surprise SlopeOne 1.2753405517297507\n",
      "Surprise SlopeOne 0.9440200710805066\n",
      "Surprise SlopeOne 1.140095994729018\n",
      "Surprise SlopeOne 1.0854123300984297\n",
      "Surprise SlopeOne 1.0129492286006088\n",
      "Surprise SlopeOne 1.1349742462556058\n",
      "Surprise SlopeOne 1.118541603715213\n",
      "Surprise SVD 1.0167342805150545\n",
      "Surprise SVD 1.0125273960757193\n",
      "Surprise SVD 1.11301561681445\n",
      "Surprise SVD 1.209175421706957\n",
      "Surprise SVD 0.9497550497483003\n",
      "Surprise SVD 1.124724900012142\n",
      "Surprise SVD 1.0121998000958106\n",
      "Surprise SVD 0.9563318788535635\n",
      "Surprise SVD 0.9516865563785536\n",
      "Surprise SVD 1.0387703154181729\n",
      "Surprise SlopeOne 1.067554217592617\n",
      "Surprise SlopeOne 1.1592506530257558\n",
      "Surprise SlopeOne 1.162012206994113\n",
      "Surprise SlopeOne 1.2753405517297507\n",
      "Surprise SlopeOne 0.9440200710805066\n",
      "Surprise SlopeOne 1.140095994729018\n",
      "Surprise SlopeOne 1.0854123300984297\n",
      "Surprise SlopeOne 1.0129492286006088\n",
      "Surprise SlopeOne 1.1349742462556058\n",
      "Surprise SlopeOne 1.118541603715213\n",
      "Surprise SVDpp 1.0203155734153195\n",
      "Surprise SVDpp 1.022476792351686\n",
      "Surprise SVDpp 1.1272613002094218\n",
      "Surprise SVDpp 1.1962650977297185\n",
      "Surprise SVDpp 0.9495802122918411\n",
      "Surprise SVDpp 1.1265140933222173\n",
      "Surprise SVDpp 1.0224921517722803\n",
      "Surprise SVDpp 0.9821667582745338\n",
      "Surprise SVDpp 1.0032766718204444\n",
      "Surprise SVDpp 1.0415403264601928\n",
      "NMF 1.1397992577177862\n",
      "NMF 1.1576395716950616\n",
      "NMF 1.1999667690454938\n",
      "NMF 1.245390000695314\n",
      "NMF 0.9513923552854476\n",
      "NMF 1.1227168052759238\n",
      "NMF 1.0947244601947113\n",
      "NMF 1.0247489462481154\n",
      "NMF 1.1407713484508375\n",
      "NMF 1.0956399438580375\n",
      "KNNBasic 1.0196873367442754\n",
      "KNNBasic 1.0290825873885063\n",
      "KNNBasic 1.1275261484300962\n",
      "KNNBasic 1.1879329089029453\n",
      "KNNBasic 0.9515750105916918\n",
      "KNNBasic 1.1237761084911553\n",
      "KNNBasic 1.0141376264190827\n",
      "KNNBasic 0.9804410891705612\n",
      "KNNBasic 0.9849554966611132\n",
      "KNNBasic 1.043480344417631\n",
      "KNNWithMeans 1.062346236841731\n",
      "KNNWithMeans 1.1339399799371122\n",
      "KNNWithMeans 1.148122351486734\n",
      "KNNWithMeans 1.2528491564361453\n",
      "KNNWithMeans 0.9445192891852755\n",
      "KNNWithMeans 1.1320665729587998\n",
      "KNNWithMeans 1.0683021776722308\n",
      "KNNWithMeans 1.0022311229940262\n",
      "KNNWithMeans 1.0840526267068655\n",
      "KNNWithMeans 1.1112259103912343\n",
      "KNNBaseline 1.0222274373963156\n",
      "KNNBaseline 1.0204973078672808\n",
      "KNNBaseline 1.117146812234995\n",
      "KNNBaseline 1.1984095304133076\n",
      "KNNBaseline 0.9476332289368419\n",
      "KNNBaseline 1.1220915469170267\n",
      "KNNBaseline 1.0182346361643737\n",
      "KNNBaseline 0.9771586774970629\n",
      "KNNBaseline 0.9935299095835953\n",
      "KNNBaseline 1.0534256624874683\n",
      "CoClustering 1.074468172359577\n",
      "CoClustering 1.1605482519675638\n",
      "CoClustering 1.1632267883210838\n",
      "CoClustering 1.2818325995728252\n",
      "CoClustering 0.978373367471349\n",
      "CoClustering 1.1360252037401095\n",
      "CoClustering 1.0996668181424285\n",
      "CoClustering 1.0113886651772348\n",
      "CoClustering 1.0581110057891832\n",
      "CoClustering 1.1149634445083096\n",
      "BaselineOnly 1.0169533196000096\n",
      "BaselineOnly 1.0144064230976355\n",
      "BaselineOnly 1.1171090991048624\n",
      "BaselineOnly 1.1943963815876788\n",
      "BaselineOnly 0.9444671636351752\n",
      "BaselineOnly 1.126369003120068\n",
      "BaselineOnly 1.0183667607498437\n",
      "BaselineOnly 0.9678081344719166\n",
      "BaselineOnly 0.9681295608638351\n",
      "BaselineOnly 1.0447844800553352\n",
      "Script ended\n"
     ]
    }
   ],
   "source": [
    "result, data = main()"
   ]
  },
  {
   "cell_type": "markdown",
   "metadata": {},
   "source": [
    "#### Save to pickle"
   ]
  },
  {
   "cell_type": "code",
   "execution_count": 90,
   "metadata": {},
   "outputs": [],
   "source": [
    "def save_to_pickle(data):\n",
    "    pickle.dump( data, open( \"data.p\", \"wb\" ) )"
   ]
  },
  {
   "cell_type": "code",
   "execution_count": 91,
   "metadata": {},
   "outputs": [],
   "source": [
    "save_to_pickle((result, data))"
   ]
  },
  {
   "cell_type": "code",
   "execution_count": 92,
   "metadata": {},
   "outputs": [],
   "source": [
    "first = list(map(lambda x: x[1], result))\n",
    "first_max = min(first, key=lambda x: x.rmse)"
   ]
  },
  {
   "cell_type": "code",
   "execution_count": 93,
   "metadata": {},
   "outputs": [],
   "source": [
    "def find_best_models(results):\n",
    "    min_models = []\n",
    "    for m in range(len(results[0])):\n",
    "        bla = []\n",
    "        for r in results:\n",
    "            bla.append(r[m])\n",
    "        min_model = min(bla, key=lambda x: x.rmse)\n",
    "        min_models.append(min_model)\n",
    "    return min_models"
   ]
  },
  {
   "cell_type": "code",
   "execution_count": 94,
   "metadata": {},
   "outputs": [],
   "source": [
    "best_models = find_best_models(result)"
   ]
  },
  {
   "cell_type": "code",
   "execution_count": 132,
   "metadata": {},
   "outputs": [],
   "source": [
    "models = best_models"
   ]
  },
  {
   "cell_type": "markdown",
   "metadata": {},
   "source": [
    "## Blend 'em together"
   ]
  },
  {
   "cell_type": "code",
   "execution_count": 133,
   "metadata": {},
   "outputs": [],
   "source": [
    "def build_predictions_table(data, models):\n",
    "    blending_data = np.zeros((len(data), len(models)))\n",
    "    for i_d, x in enumerate(data):\n",
    "        for i_m, model in enumerate(models):\n",
    "            pred = model.algo.predict(str(x[0]), str(x[1]))\n",
    "            blending_data[i_d, i_m] = pred.est\n",
    "    return blending_data"
   ]
  },
  {
   "cell_type": "code",
   "execution_count": 134,
   "metadata": {},
   "outputs": [],
   "source": [
    "x = build_predictions_table(data, models)\n",
    "y = list(map(lambda x: x[2], data))"
   ]
  },
  {
   "cell_type": "code",
   "execution_count": 135,
   "metadata": {},
   "outputs": [
    {
     "name": "stdout",
     "output_type": "stream",
     "text": [
      "[[3.45606229 3.45606229 3.45606229 3.45606229 3.45606229 3.45606229\n",
      "  3.45606229 3.45606229 3.45606229 3.45606229]]\n",
      "[4.0]\n"
     ]
    }
   ],
   "source": [
    "print(x[:1])\n",
    "print(y[:1])"
   ]
  },
  {
   "cell_type": "code",
   "execution_count": 136,
   "metadata": {},
   "outputs": [
    {
     "data": {
      "text/plain": [
       "array([-3.02922588e-28, -3.02922588e-28, -3.02922588e-28, -3.02922588e-28,\n",
       "       -3.02922588e-28, -3.02922588e-28, -3.02922588e-28, -3.02922588e-28,\n",
       "       -3.02922588e-28, -3.02922588e-28])"
      ]
     },
     "execution_count": 136,
     "metadata": {},
     "output_type": "execute_result"
    }
   ],
   "source": [
    "from sklearn.linear_model import Ridge\n",
    "clf = Ridge(alpha=1.0)\n",
    "clf.fit(x, y) \n",
    "clf.coef_"
   ]
  },
  {
   "cell_type": "code",
   "execution_count": 137,
   "metadata": {},
   "outputs": [],
   "source": [
    "def blend_them_together(models):\n",
    "    from sklearn.model_selection import cross_validate\n",
    "    from sklearn.linear_model import Ridge\n",
    "    a = Ridge(alpha=1)\n",
    "    cv_results = cross_validate(a, x, y, cv=3,\n",
    "                                scoring=('neg_mean_squared_error'),\n",
    "                                return_train_score=True, return_estimator=True)\n",
    "\n",
    "    test_scores = cv_results['test_score']\n",
    "    estimators = cv_results['estimator']\n",
    "    best = estimators[np.argmax(np.array(test_scores))]\n",
    "    print(best.coef_)\n",
    "    return best"
   ]
  },
  {
   "cell_type": "code",
   "execution_count": 138,
   "metadata": {},
   "outputs": [
    {
     "name": "stdout",
     "output_type": "stream",
     "text": [
      "[-5.75552916e-27 -5.75552916e-27 -5.75552916e-27 -5.75552916e-27\n",
      " -5.75552916e-27 -5.75552916e-27 -5.75552916e-27 -5.75552916e-27\n",
      " -5.75552916e-27 -5.75552916e-27]\n"
     ]
    }
   ],
   "source": [
    "blender_model = blend_them_together(models)"
   ]
  },
  {
   "cell_type": "code",
   "execution_count": 139,
   "metadata": {},
   "outputs": [],
   "source": [
    "def predict_using_blending(models, trainer, x):\n",
    "    pred_sum = 0\n",
    "    input = np.zeros((len(models), ))\n",
    "    for i, m in enumerate(models):\n",
    "        prediction = m.algo.predict(str(x[0]), str(x[1])).est\n",
    "        input[i]  = prediction\n",
    "    return trainer.predict([input])"
   ]
  },
  {
   "cell_type": "code",
   "execution_count": 140,
   "metadata": {},
   "outputs": [],
   "source": [
    "def get_all_predictions(models, blending_model):\n",
    "    blend_predictions = []\n",
    "    for each in data:\n",
    "        blend_pred = predict_using_blending(models, blending_model, each)\n",
    "        blend_pred_round = int(round(blend_pred[0]))\n",
    "        blend_predictions.append(blend_pred_round)\n",
    "    return blend_predictions"
   ]
  },
  {
   "cell_type": "code",
   "execution_count": 141,
   "metadata": {},
   "outputs": [
    {
     "data": {
      "text/plain": [
       "1.1416231003721427"
      ]
     },
     "execution_count": 141,
     "metadata": {},
     "output_type": "execute_result"
    }
   ],
   "source": [
    "blending_pred = get_all_predictions(models, blender_model)\n",
    "np.sqrt(mean_squared_error(blending_pred, y))"
   ]
  }
 ],
 "metadata": {
  "kernelspec": {
   "display_name": "Python 3",
   "language": "python",
   "name": "python3"
  },
  "language_info": {
   "codemirror_mode": {
    "name": "ipython",
    "version": 3
   },
   "file_extension": ".py",
   "mimetype": "text/x-python",
   "name": "python",
   "nbconvert_exporter": "python",
   "pygments_lexer": "ipython3",
   "version": "3.6.6"
  }
 },
 "nbformat": 4,
 "nbformat_minor": 2
}
