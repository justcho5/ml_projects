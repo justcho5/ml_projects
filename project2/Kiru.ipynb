{
 "cells": [
  {
   "cell_type": "code",
   "execution_count": 23,
   "metadata": {},
   "outputs": [],
   "source": [
    "import surprise\n",
    "import numpy as np\n",
    "import pandas as pd\n",
    "\n",
    "from surprise import BaselineOnly\n",
    "from surprise import Dataset\n",
    "from surprise import Reader\n",
    "from surprise import SVD\n",
    "from surprise import SVDpp\n",
    "from surprise import KNNWithMeans\n",
    "from surprise import SlopeOne\n",
    "from surprise.model_selection import cross_validate\n",
    "from tqdm import tqdm_notebook, tqdm\n",
    "from sklearn.linear_model import LinearRegression\n",
    "from sklearn.metrics import mean_squared_error\n",
    "from surprise import accuracy\n",
    "from surprise.model_selection import KFold\n",
    "from multiprocessing import Pool\n",
    "tqdm = tqdm_notebook"
   ]
  },
  {
   "cell_type": "code",
   "execution_count": 24,
   "metadata": {},
   "outputs": [],
   "source": [
    "# - try implicit library"
   ]
  },
  {
   "cell_type": "code",
   "execution_count": 25,
   "metadata": {},
   "outputs": [],
   "source": [
    "file_path = 'data/data_train.csv'\n",
    "\n",
    "# I have to convert the \n",
    "def deal_line(line):\n",
    "    pos, rating = line.split(',')\n",
    "    row, col = pos.split(\"_\")\n",
    "    row = row.replace(\"r\", \"\")\n",
    "    col = col.replace(\"c\", \"\")\n",
    "    return int(row), int(col), float(rating)\n",
    "\n",
    "def read_txt(path):\n",
    "    \"\"\"read text file from path.\"\"\"\n",
    "    with open(path, \"r\") as f:\n",
    "        return f.read().splitlines()\n",
    "    \n",
    "lines = read_txt(file_path)[1:]\n",
    "data = [deal_line(line) for line in lines]\n",
    "\n",
    "#shuffle(data)\n",
    "#data = data[:100_000]\n",
    "\n",
    "with open('data/kiru.csv', 'w') as f:\n",
    "    for item in data:\n",
    "        f.write(\"{},{},{}\\n\".format(item[0], item[1], item[2]))\n",
    "\n",
    "# path to dataset file\n",
    "file_path = 'data/kiru.csv'\n",
    "reader = Reader(line_format='user item rating', sep=',')\n",
    "data = Dataset.load_from_file(file_path, reader=reader)"
   ]
  },
  {
   "cell_type": "code",
   "execution_count": 26,
   "metadata": {},
   "outputs": [],
   "source": [
    "def call_algo(i):\n",
    "    trainset, testset = i\n",
    "    # train and test algorithm.\n",
    "    algo = SlopeOne()\n",
    "    algo.fit(trainset)\n",
    "    predictions = algo.test(testset)\n",
    "    # Compute and print Root Mean Squared Error\n",
    "    rmse = accuracy.rmse(predictions, verbose=True)\n",
    "    return (algo, rmse)\n",
    "        \n",
    "def predict():\n",
    "    with Pool(10) as p:\n",
    "        # define a cross-validation iterator\n",
    "        kf = KFold(n_splits=10)\n",
    "        return p.map(call_algo, kf.split(data))"
   ]
  },
  {
   "cell_type": "code",
   "execution_count": 27,
   "metadata": {},
   "outputs": [
    {
     "name": "stdout",
     "output_type": "stream",
     "text": [
      "RMSE: 1.0002\n",
      "RMSE: 0.9986\n",
      "RMSE: 1.0001\n",
      "RMSE: 1.0007\n",
      "RMSE: 0.9988\n",
      "RMSE: 1.0004\n",
      "RMSE: 0.9988\n",
      "RMSE: 0.9999\n",
      "RMSE: 0.9989\n",
      "RMSE: 0.9987\n",
      "CPU times: user 45.8 s, sys: 9.43 s, total: 55.2 s\n",
      "Wall time: 1min 37s\n"
     ]
    }
   ],
   "source": [
    "%%time\n",
    "predictions = predict()\n",
    "best_model_slope_one = min(predictions, key=lambda b: b[1])"
   ]
  },
  {
   "cell_type": "code",
   "execution_count": 28,
   "metadata": {},
   "outputs": [],
   "source": [
    "def create_predictions(predictor):\n",
    "    lines = read_txt('data/sample_submission.csv')[1:]\n",
    "    data = [deal_line(line) for line in lines]\n",
    "\n",
    "    predictions = []\n",
    "    for i, each in tqdm(enumerate(data)):\n",
    "        pred1 = predictor.predict(str(each[0]), str(each[1])).est\n",
    "        predictions.append((each[2], int(round(pred1))))\n",
    "\n",
    "    return predictions"
   ]
  },
  {
   "cell_type": "code",
   "execution_count": 32,
   "metadata": {},
   "outputs": [
    {
     "data": {
      "application/vnd.jupyter.widget-view+json": {
       "model_id": "0fe4aabe6fcf4716aac42d03c6feec72",
       "version_major": 2,
       "version_minor": 0
      },
      "text/plain": [
       "HBox(children=(IntProgress(value=1, bar_style='info', max=1), HTML(value='')))"
      ]
     },
     "metadata": {},
     "output_type": "display_data"
    },
    {
     "name": "stdout",
     "output_type": "stream",
     "text": [
      "\n"
     ]
    }
   ],
   "source": [
    "predictions = create_predictions(best_model_slope_one[0])"
   ]
  },
  {
   "cell_type": "code",
   "execution_count": 33,
   "metadata": {},
   "outputs": [],
   "source": [
    "from random import shuffle\n",
    "predictor = best_model_slope_one[0]\n",
    "\n",
    "def do_predict(predictor):\n",
    "    lines = read_txt('data/data_train.csv')[1:]\n",
    "    data = [deal_line(line) for line in lines]\n",
    "    shuffle(data)\n",
    "\n",
    "    predictions = []\n",
    "    for i, each in tqdm(enumerate(data), total=len(data)):\n",
    "        pred = predictor.predict(str(each[0]), str(each[1])).est\n",
    "        real = each[2]\n",
    "        # [predictions, real]\n",
    "        predictions.append([int(round(pred)), int(real)])\n",
    "        #if i == 10: break\n",
    "\n",
    "    predictions = np.array(predictions)\n",
    "    return predictions"
   ]
  },
  {
   "cell_type": "code",
   "execution_count": 36,
   "metadata": {},
   "outputs": [
    {
     "data": {
      "application/vnd.jupyter.widget-view+json": {
       "model_id": "a20a2980c1c04c17a074382548a2e6be",
       "version_major": 2,
       "version_minor": 0
      },
      "text/plain": [
       "HBox(children=(IntProgress(value=0, max=1176952), HTML(value='')))"
      ]
     },
     "metadata": {},
     "output_type": "display_data"
    },
    {
     "name": "stdout",
     "output_type": "stream",
     "text": [
      "\n"
     ]
    }
   ],
   "source": [
    "predictions = do_predict(predictor)"
   ]
  },
  {
   "cell_type": "code",
   "execution_count": 37,
   "metadata": {},
   "outputs": [
    {
     "data": {
      "image/png": "[encoded data removed]",
      "text/plain": [
       "<Figure size 432x288 with 1 Axes>"
      ]
     },
     "metadata": {
      "needs_background": "light"
     },
     "output_type": "display_data"
    }
   ],
   "source": [
    "# correct category 3\n",
    "#    predictions\n",
    "#    rating = 5\n",
    "\n",
    "def plot(predictions):\n",
    "    data = np.zeros((5, 5), dtype=int)\n",
    "    for rating in range(1, 6):\n",
    "        correct = len(predictions[predictions[:, 1] == rating])\n",
    "\n",
    "        #np.where(predictions[:, 1] == predictions[:, 0])\n",
    "        #print(correct)\n",
    "        p = []\n",
    "        for i in range(1, 6):\n",
    "            x = len(predictions[(predictions[:, 1] == rating) & (predictions[:, 0] == i)])\n",
    "            data[(rating - 1, i - 1)] = x\n",
    "\n",
    "    data = np.nan_to_num(data/data.sum(axis=1, keepdims=True))\n",
    "\n",
    "    x = pd.DataFrame(data=data, index=range(1, 6), columns=range(1, 6))\n",
    "    x.plot.bar(stacked=True)\n",
    "    \n",
    "plot(predictions)"
   ]
  },
  {
   "cell_type": "code",
   "execution_count": 20,
   "metadata": {},
   "outputs": [],
   "source": [
    "def call_algo_svd(i):\n",
    "    trainset, testset = i\n",
    "    print(\"Run one split\")\n",
    "    # train and test algorithm.\n",
    "    algo = SVDpp()\n",
    "    algo.fit(trainset)\n",
    "    predictions = algo.test(testset)\n",
    "    # Compute and print Root Mean Squared Error\n",
    "    rmse = accuracy.rmse(predictions, verbose=True)\n",
    "    return (algo, rmse)\n",
    "        \n",
    "def predict_svd():\n",
    "    with Pool(10) as p:\n",
    "        # define a cross-validation iterator\n",
    "        kf = KFold(n_splits=10)\n",
    "        return p.map(call_algo_svd, kf.split(data))"
   ]
  },
  {
   "cell_type": "code",
   "execution_count": 21,
   "metadata": {},
   "outputs": [
    {
     "name": "stdout",
     "output_type": "stream",
     "text": [
      "Run one split\n",
      "Run one split\n",
      "Run one split\n",
      "Run one split\n",
      "Run one split\n",
      "Run one split\n",
      "Run one split\n",
      "Run one split\n",
      "Run one split\n",
      "Run one split\n",
      "RMSE: 1.1048\n",
      "RMSE: 1.0910\n",
      "RMSE: 1.1109\n",
      "RMSE: 1.0955\n",
      "RMSE: 1.0983\n",
      "RMSE: 1.1060\n",
      "RMSE: 1.1181\n",
      "RMSE: 1.0977\n",
      "RMSE: 1.1019\n",
      "RMSE: 1.0999\n",
      "CPU times: user 3.84 s, sys: 665 ms, total: 4.5 s\n",
      "Wall time: 1min 18s\n"
     ]
    }
   ],
   "source": [
    "%%time\n",
    "predictions_svd = predict_svd()\n",
    "best_model_svd = min(predictions_svd, key=lambda b: b[1])"
   ]
  },
  {
   "cell_type": "code",
   "execution_count": 19,
   "metadata": {},
   "outputs": [
    {
     "data": {
      "application/vnd.jupyter.widget-view+json": {
       "model_id": "486a04352325415594b466741884ddf4",
       "version_major": 2,
       "version_minor": 0
      },
      "text/plain": [
       "HBox(children=(IntProgress(value=0, max=1176952), HTML(value='')))"
      ]
     },
     "metadata": {},
     "output_type": "display_data"
    },
    {
     "name": "stdout",
     "output_type": "stream",
     "text": [
      "\n"
     ]
    }
   ],
   "source": [
    "x = do_predict(best_model_svd[0])"
   ]
  },
  {
   "cell_type": "markdown",
   "metadata": {},
   "source": [
    "Lets train a linear regression to find the best coefficient"
   ]
  },
  {
   "cell_type": "code",
   "execution_count": null,
   "metadata": {},
   "outputs": [],
   "source": [
    "#plot(x)\n",
    "#plot(predictions)\n",
    "#plot(x)\n",
    "error = np.sqrt(mean_squared_error(x[:, 0], x[:, 1]))\n",
    "error"
   ]
  },
  {
   "cell_type": "code",
   "execution_count": null,
   "metadata": {
    "scrolled": true
   },
   "outputs": [],
   "source": [
    "def combine(first, second):\n",
    "    kf = KFold(n_splits=3)\n",
    "    weights = []\n",
    "    for trainset, testset in tqdm(kf.split(data), desc=\"split\"):\n",
    "        print(\"Do one split\")\n",
    "        input_for_linear = []\n",
    "        for each in tqdm(trainset.all_ratings(), desc=\"Process rating of split\"):\n",
    "            pred1 = first.predict(str(each[0]), str(each[1])).est\n",
    "            pred2 = second.predict(str(each[0]), str(each[1])).est\n",
    "            output = [pred1, pred2]\n",
    "            input_for_linear.append(output)\n",
    "        \n",
    "        y = list(map(lambda x: x[2], trainset.all_ratings()))\n",
    "        eg = LinearRegression().fit(input_for_linear, y)\n",
    "        \n",
    "        predictions = []\n",
    "        c = eg.coef_\n",
    "        for i, b in enumerate(input_for_linear):\n",
    "           # p = b[0] * c[0] + b[1] + c[1]\n",
    "            p = b[0] * 0.5 + b[1] + 0.5\n",
    "            predictions.append(p)\n",
    "            \n",
    "        error = np.sqrt(mean_squared_error(y, predictions))\n",
    "        weights.append((error, c))\n",
    "        \n",
    "    return min(weights, key=lambda b: b[0])"
   ]
  },
  {
   "cell_type": "code",
   "execution_count": null,
   "metadata": {
    "scrolled": true
   },
   "outputs": [],
   "source": [
    "best_weights = combine(best_model_slope_one[0], best_model_svd[0])"
   ]
  },
  {
   "cell_type": "code",
   "execution_count": null,
   "metadata": {
    "scrolled": true
   },
   "outputs": [],
   "source": [
    "print(best_weights)"
   ]
  },
  {
   "cell_type": "code",
   "execution_count": null,
   "metadata": {},
   "outputs": [],
   "source": [
    "print(best_weights)"
   ]
  },
  {
   "cell_type": "code",
   "execution_count": null,
   "metadata": {},
   "outputs": [],
   "source": [
    "def create_submission_file(first, second, w1, w2):\n",
    "    lines = read_txt('data/sample_submission.csv')[1:]\n",
    "    data = [deal_line(line) for line in lines]\n",
    "\n",
    "    predictions = []\n",
    "    for each in tqdm(data):\n",
    "        pred1 = first.predict(str(each[0]), str(each[1])).est\n",
    "        pred2 = second.predict(str(each[0]), str(each[1])).est\n",
    "        predictions.append((each[0], each[1], pred1 * w1 + pred2 * w2 ))\n",
    "\n",
    "    with open('data/our_pred.csv', 'w') as f:\n",
    "        f.write(\"Id,Prediction\\n\")\n",
    "        for item in tqdm(predictions):\n",
    "            f.write(\"r{}_c{},{}\\n\".format(item[0], item[1], int(round(item[2]))))"
   ]
  },
  {
   "cell_type": "code",
   "execution_count": 10,
   "metadata": {},
   "outputs": [],
   "source": []
  },
  {
   "cell_type": "code",
   "execution_count": null,
   "metadata": {},
   "outputs": [],
   "source": [
    "create_submission_file(avd, algo)"
   ]
  },
  {
   "cell_type": "code",
   "execution_count": null,
   "metadata": {},
   "outputs": [],
   "source": [
    "accuracy.rmse(algo, verbose=True)"
   ]
  },
  {
   "cell_type": "markdown",
   "metadata": {},
   "source": [
    "### Blending implementations"
   ]
  },
  {
   "cell_type": "code",
   "execution_count": null,
   "metadata": {},
   "outputs": [],
   "source": []
  }
 ],
 "metadata": {
  "kernelspec": {
   "display_name": "Python 3",
   "language": "python",
   "name": "python3"
  },
  "language_info": {
   "codemirror_mode": {
    "name": "ipython",
    "version": 3
   },
   "file_extension": ".py",
   "mimetype": "text/x-python",
   "name": "python",
   "nbconvert_exporter": "python",
   "pygments_lexer": "ipython3",
   "version": "3.6.6"
  }
 },
 "nbformat": 4,
 "nbformat_minor": 2
}
