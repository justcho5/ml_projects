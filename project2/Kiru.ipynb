{
 "cells": [
  {
   "cell_type": "code",
   "execution_count": 83,
   "metadata": {},
   "outputs": [],
   "source": [
    "import surprise\n",
    "import numpy as np\n",
    "import pandas as pd\n",
    "\n",
    "from surprise import BaselineOnly\n",
    "from surprise import Dataset\n",
    "from surprise import Reader\n",
    "from surprise import SVD\n",
    "from surprise import KNNWithMeans\n",
    "from surprise import SlopeOne\n",
    "from surprise.model_selection import cross_validate\n",
    "from tqdm import tqdm_notebook, tqdm\n",
    "from sklearn.linear_model import LinearRegression\n",
    "from sklearn.metrics import mean_squared_error\n",
    "from surprise import accuracy\n",
    "from surprise.model_selection import KFold\n",
    "from multiprocessing import Pool\n",
    "tqdm = tqdm_notebook"
   ]
  },
  {
   "cell_type": "code",
   "execution_count": 90,
   "metadata": {},
   "outputs": [],
   "source": [
    "# - try implicit library"
   ]
  },
  {
   "cell_type": "code",
   "execution_count": 2,
   "metadata": {},
   "outputs": [],
   "source": [
    "file_path = 'data/data_train.csv'\n",
    "\n",
    "\n",
    "# I have to convert the \n",
    "def deal_line(line):\n",
    "    pos, rating = line.split(',')\n",
    "    row, col = pos.split(\"_\")\n",
    "    row = row.replace(\"r\", \"\")\n",
    "    col = col.replace(\"c\", \"\")\n",
    "    return int(row), int(col), float(rating)\n",
    "\n",
    "def read_txt(path):\n",
    "    \"\"\"read text file from path.\"\"\"\n",
    "    with open(path, \"r\") as f:\n",
    "        return f.read().splitlines()\n",
    "    \n",
    "lines = read_txt(file_path)[1:]\n",
    "data = [deal_line(line) for line in lines]\n",
    "\n",
    "with open('data/kiru.csv', 'w') as f:\n",
    "    for item in data:\n",
    "        f.write(\"{},{},{}\\n\".format(item[0], item[1], item[2]))\n",
    "\n",
    "# path to dataset file\n",
    "file_path = 'data/kiru.csv'\n",
    "reader = Reader(line_format='user item rating', sep=',')\n",
    "data = Dataset.load_from_file(file_path, reader=reader)"
   ]
  },
  {
   "cell_type": "code",
   "execution_count": 9,
   "metadata": {},
   "outputs": [],
   "source": [
    "def call_algo(i):\n",
    "    trainset, testset = i\n",
    "    # train and test algorithm.\n",
    "    algo = SlopeOne()\n",
    "    algo.fit(trainset)\n",
    "    predictions = algo.test(testset)\n",
    "    # Compute and print Root Mean Squared Error\n",
    "    rmse = accuracy.rmse(predictions, verbose=True)\n",
    "    return (algo, rmse)\n",
    "        \n",
    "def predict():\n",
    "    with Pool(10) as p:\n",
    "        # define a cross-validation iterator\n",
    "        kf = KFold(n_splits=10)\n",
    "        return p.map(call_algo, kf.split(data))"
   ]
  },
  {
   "cell_type": "code",
   "execution_count": 11,
   "metadata": {},
   "outputs": [
    {
     "name": "stdout",
     "output_type": "stream",
     "text": [
      "RMSE: 1.0050\n",
      "RMSE: 0.9966\n",
      "RMSE: 0.9987\n",
      "RMSE: 0.9988\n",
      "RMSE: 0.9977\n",
      "RMSE: 1.0016\n",
      "RMSE: 0.9966\n",
      "RMSE: 0.9987\n",
      "RMSE: 1.0019\n",
      "RMSE: 0.9996\n"
     ]
    }
   ],
   "source": [
    "predictions = predict()\n",
    "best_model_slope_one = min(predictions, key=lambda b: b[1])"
   ]
  },
  {
   "cell_type": "code",
   "execution_count": 13,
   "metadata": {},
   "outputs": [],
   "source": [
    "def call_algo_svd(i):\n",
    "    trainset, testset = i\n",
    "    # train and test algorithm.\n",
    "    algo = SVD()\n",
    "    algo.fit(trainset)\n",
    "    predictions = algo.test(testset)\n",
    "    # Compute and print Root Mean Squared Error\n",
    "    rmse = accuracy.rmse(predictions, verbose=True)\n",
    "    return (algo, rmse)\n",
    "        \n",
    "def predict_svd():\n",
    "    with Pool(10) as p:\n",
    "        # define a cross-validation iterator\n",
    "        kf = KFold(n_splits=10)\n",
    "        return p.map(call_algo_svd, kf.split(data))"
   ]
  },
  {
   "cell_type": "code",
   "execution_count": 14,
   "metadata": {},
   "outputs": [
    {
     "name": "stdout",
     "output_type": "stream",
     "text": [
      "RMSE: 1.0244\n",
      "RMSE: 1.0277\n",
      "RMSE: 1.0197\n",
      "RMSE: 1.0239\n",
      "RMSE: 1.0226\n",
      "RMSE: 1.0215\n",
      "RMSE: 1.0263\n",
      "RMSE: 1.0230\n",
      "RMSE: 1.0204\n",
      "RMSE: 1.0209\n"
     ]
    }
   ],
   "source": [
    "predictions_svd = predict_svd()\n",
    "best_model_svd = min(predictions_svd, key=lambda b: b[1])"
   ]
  },
  {
   "cell_type": "code",
   "execution_count": 68,
   "metadata": {},
   "outputs": [
    {
     "name": "stdout",
     "output_type": "stream",
     "text": [
      "RMSE: 1.0257\n"
     ]
    },
    {
     "data": {
      "text/plain": [
       "1.0257002670379434"
      ]
     },
     "execution_count": 68,
     "metadata": {},
     "output_type": "execute_result"
    }
   ],
   "source": [
    "predictions = avd.test(testset)\n",
    "# Compute and print Root Mean Squared Error\n",
    "accuracy.rmse(predictions, verbose=True)"
   ]
  },
  {
   "cell_type": "markdown",
   "metadata": {},
   "source": [
    "Lets train a linear regression to find the best coefficient"
   ]
  },
  {
   "cell_type": "code",
   "execution_count": 88,
   "metadata": {
    "scrolled": true
   },
   "outputs": [
    {
     "data": {
      "application/vnd.jupyter.widget-view+json": {
       "model_id": "887520a8f4bf407c90f0672424e481e4",
       "version_major": 2,
       "version_minor": 0
      },
      "text/plain": [
       "HBox(children=(IntProgress(value=1, bar_style='info', description='split', max=1, style=ProgressStyle(descript…"
      ]
     },
     "metadata": {},
     "output_type": "display_data"
    },
    {
     "name": "stdout",
     "output_type": "stream",
     "text": [
      "Do one split\n"
     ]
    },
    {
     "data": {
      "application/vnd.jupyter.widget-view+json": {
       "model_id": "be77a40918d24f66a4655b2efd774e35",
       "version_major": 2,
       "version_minor": 0
      },
      "text/plain": [
       "HBox(children=(IntProgress(value=1, bar_style='info', description='Process rating of split', max=1, style=Prog…"
      ]
     },
     "metadata": {},
     "output_type": "display_data"
    },
    {
     "name": "stdout",
     "output_type": "stream",
     "text": [
      "Do one split\n"
     ]
    },
    {
     "data": {
      "application/vnd.jupyter.widget-view+json": {
       "model_id": "1a944ed6e86244c58cdf427a48ce0558",
       "version_major": 2,
       "version_minor": 0
      },
      "text/plain": [
       "HBox(children=(IntProgress(value=1, bar_style='info', description='Process rating of split', max=1, style=Prog…"
      ]
     },
     "metadata": {},
     "output_type": "display_data"
    },
    {
     "name": "stdout",
     "output_type": "stream",
     "text": [
      "Do one split\n"
     ]
    },
    {
     "data": {
      "application/vnd.jupyter.widget-view+json": {
       "model_id": "fcdcdcc7b88a44f7b05353c540f87825",
       "version_major": 2,
       "version_minor": 0
      },
      "text/plain": [
       "HBox(children=(IntProgress(value=1, bar_style='info', description='Process rating of split', max=1, style=Prog…"
      ]
     },
     "metadata": {},
     "output_type": "display_data"
    },
    {
     "name": "stdout",
     "output_type": "stream",
     "text": [
      "Do one split\n"
     ]
    },
    {
     "data": {
      "application/vnd.jupyter.widget-view+json": {
       "model_id": "24da2aae46004f7e8c853bb58c6f2f6f",
       "version_major": 2,
       "version_minor": 0
      },
      "text/plain": [
       "HBox(children=(IntProgress(value=1, bar_style='info', description='Process rating of split', max=1, style=Prog…"
      ]
     },
     "metadata": {},
     "output_type": "display_data"
    },
    {
     "name": "stdout",
     "output_type": "stream",
     "text": [
      "Do one split\n"
     ]
    },
    {
     "data": {
      "application/vnd.jupyter.widget-view+json": {
       "model_id": "8716267c11f440ae81d56902dfbad0c7",
       "version_major": 2,
       "version_minor": 0
      },
      "text/plain": [
       "HBox(children=(IntProgress(value=1, bar_style='info', description='Process rating of split', max=1, style=Prog…"
      ]
     },
     "metadata": {},
     "output_type": "display_data"
    },
    {
     "name": "stdout",
     "output_type": "stream",
     "text": [
      "Do one split\n"
     ]
    },
    {
     "data": {
      "application/vnd.jupyter.widget-view+json": {
       "model_id": "ff3db64ff19e41108b1160381cb4b5d5",
       "version_major": 2,
       "version_minor": 0
      },
      "text/plain": [
       "HBox(children=(IntProgress(value=1, bar_style='info', description='Process rating of split', max=1, style=Prog…"
      ]
     },
     "metadata": {},
     "output_type": "display_data"
    },
    {
     "name": "stdout",
     "output_type": "stream",
     "text": [
      "Do one split\n"
     ]
    },
    {
     "data": {
      "application/vnd.jupyter.widget-view+json": {
       "model_id": "31ff2fa4c2be47a3bfaaf100ac70e731",
       "version_major": 2,
       "version_minor": 0
      },
      "text/plain": [
       "HBox(children=(IntProgress(value=1, bar_style='info', description='Process rating of split', max=1, style=Prog…"
      ]
     },
     "metadata": {},
     "output_type": "display_data"
    },
    {
     "name": "stdout",
     "output_type": "stream",
     "text": [
      "Do one split\n"
     ]
    },
    {
     "data": {
      "application/vnd.jupyter.widget-view+json": {
       "model_id": "8ea3cfc3cd074235a4279cc648838ac7",
       "version_major": 2,
       "version_minor": 0
      },
      "text/plain": [
       "HBox(children=(IntProgress(value=1, bar_style='info', description='Process rating of split', max=1, style=Prog…"
      ]
     },
     "metadata": {},
     "output_type": "display_data"
    },
    {
     "name": "stdout",
     "output_type": "stream",
     "text": [
      "Do one split\n"
     ]
    },
    {
     "data": {
      "application/vnd.jupyter.widget-view+json": {
       "model_id": "b9ed1c04d2934049b1deca9a46b02368",
       "version_major": 2,
       "version_minor": 0
      },
      "text/plain": [
       "HBox(children=(IntProgress(value=1, bar_style='info', description='Process rating of split', max=1, style=Prog…"
      ]
     },
     "metadata": {},
     "output_type": "display_data"
    },
    {
     "name": "stdout",
     "output_type": "stream",
     "text": [
      "Do one split\n"
     ]
    },
    {
     "data": {
      "application/vnd.jupyter.widget-view+json": {
       "model_id": "5e99bfe8d99748cfa8584aff4f997e95",
       "version_major": 2,
       "version_minor": 0
      },
      "text/plain": [
       "HBox(children=(IntProgress(value=1, bar_style='info', description='Process rating of split', max=1, style=Prog…"
      ]
     },
     "metadata": {},
     "output_type": "display_data"
    }
   ],
   "source": [
    "def combine(first, second):\n",
    "    kf = KFold(n_splits=10)\n",
    "    weights = []\n",
    "    for trainset, testset in tqdm(kf.split(data), desc=\"split\"):\n",
    "        print(\"Do one split\")\n",
    "        input_for_linear = []\n",
    "        for each in tqdm(trainset.all_ratings(), desc=\"Process rating of split\"):\n",
    "            pred1 = first.predict(str(each[0]), str(each[1])).est\n",
    "            pred2 = second.predict(str(each[0]), str(each[1])).est\n",
    "            output = [pred1, pred2]\n",
    "            input_for_linear.append(output)\n",
    "        \n",
    "        y = list(map(lambda x: x[2], trainset.all_ratings()))\n",
    "        eg = LinearRegression().fit(input_for_linear, y)\n",
    "        \n",
    "        predictions = []\n",
    "        c = eg.coef_\n",
    "        for i, b in enumerate(input_for_linear):\n",
    "           # p = b[0] * c[0] + b[1] + c[1]\n",
    "            p = b[0] * 0.5 + b[1] + 0.5\n",
    "            predictions.append(p)\n",
    "            \n",
    "        error = np.sqrt(mean_squared_error(y, predictions))\n",
    "        weights.append((error, c))\n",
    "        \n",
    "    return min(weights, key=lambda b: b[0])\n",
    "        \n",
    "best_weights = combine(best_model[0], best_model_svd[0])"
   ]
  },
  {
   "cell_type": "code",
   "execution_count": 87,
   "metadata": {
    "scrolled": true
   },
   "outputs": [
    {
     "name": "stdout",
     "output_type": "stream",
     "text": [
      "(1.3056150432848417, array([ 0.00796198, -0.02192079]))\n"
     ]
    }
   ],
   "source": [
    "print(best_weights)"
   ]
  },
  {
   "cell_type": "code",
   "execution_count": 89,
   "metadata": {},
   "outputs": [
    {
     "name": "stdout",
     "output_type": "stream",
     "text": [
      "(2.391156809375227, array([ 0.02076612, -0.02743119]))\n"
     ]
    }
   ],
   "source": [
    "print(best_weights)"
   ]
  },
  {
   "cell_type": "code",
   "execution_count": 77,
   "metadata": {},
   "outputs": [],
   "source": [
    "def create_submission_file(first, second, w1, w2):\n",
    "    lines = read_txt('data/sample_submission.csv')[1:]\n",
    "    data = [deal_line(line) for line in lines]\n",
    "\n",
    "    predictions = []\n",
    "    for each in tqdm(data):\n",
    "        pred1 = first.predict(str(each[0]), str(each[1])).est\n",
    "        pred2 = second.predict(str(each[0]), str(each[1])).est\n",
    "        predictions.append((each[0], each[1], pred1 * w1 + pred2 * w2 ))\n",
    "\n",
    "    with open('data/our_pred.csv', 'w') as f:\n",
    "        f.write(\"Id,Prediction\\n\")\n",
    "        for item in tqdm(predictions):\n",
    "            f.write(\"r{}_c{},{}\\n\".format(item[0], item[1], int(round(item[2]))))"
   ]
  },
  {
   "cell_type": "code",
   "execution_count": 66,
   "metadata": {},
   "outputs": [
    {
     "name": "stderr",
     "output_type": "stream",
     "text": [
      "100%|██████████| 1176952/1176952 [02:43<00:00, 7178.98it/s]\n",
      "100%|██████████| 1176952/1176952 [00:02<00:00, 424605.17it/s]\n"
     ]
    }
   ],
   "source": [
    "create_submission_file(avd, algo)"
   ]
  },
  {
   "cell_type": "code",
   "execution_count": 46,
   "metadata": {},
   "outputs": [
    {
     "ename": "TypeError",
     "evalue": "'SlopeOne' object is not iterable",
     "output_type": "error",
     "traceback": [
      "\u001b[0;31m---------------------------------------------------------------------------\u001b[0m",
      "\u001b[0;31mTypeError\u001b[0m                                 Traceback (most recent call last)",
      "\u001b[0;32m<ipython-input-46-9341a59e7e15>\u001b[0m in \u001b[0;36m<module>\u001b[0;34m()\u001b[0m\n\u001b[0;32m----> 1\u001b[0;31m \u001b[0maccuracy\u001b[0m\u001b[0;34m.\u001b[0m\u001b[0mrmse\u001b[0m\u001b[0;34m(\u001b[0m\u001b[0malgo\u001b[0m\u001b[0;34m,\u001b[0m \u001b[0mverbose\u001b[0m\u001b[0;34m=\u001b[0m\u001b[0;32mTrue\u001b[0m\u001b[0;34m)\u001b[0m\u001b[0;34m\u001b[0m\u001b[0m\n\u001b[0m",
      "\u001b[0;32m~/anaconda3/envs/ada/lib/python3.6/site-packages/surprise/accuracy.py\u001b[0m in \u001b[0;36mrmse\u001b[0;34m(predictions, verbose)\u001b[0m\n\u001b[1;32m     46\u001b[0m \u001b[0;34m\u001b[0m\u001b[0m\n\u001b[1;32m     47\u001b[0m     mse = np.mean([float((true_r - est)**2)\n\u001b[0;32m---> 48\u001b[0;31m                    for (_, _, true_r, est, _) in predictions])\n\u001b[0m\u001b[1;32m     49\u001b[0m     \u001b[0mrmse_\u001b[0m \u001b[0;34m=\u001b[0m \u001b[0mnp\u001b[0m\u001b[0;34m.\u001b[0m\u001b[0msqrt\u001b[0m\u001b[0;34m(\u001b[0m\u001b[0mmse\u001b[0m\u001b[0;34m)\u001b[0m\u001b[0;34m\u001b[0m\u001b[0m\n\u001b[1;32m     50\u001b[0m \u001b[0;34m\u001b[0m\u001b[0m\n",
      "\u001b[0;31mTypeError\u001b[0m: 'SlopeOne' object is not iterable"
     ]
    }
   ],
   "source": [
    "accuracy.rmse(algo, verbose=True)"
   ]
  },
  {
   "cell_type": "code",
   "execution_count": null,
   "metadata": {},
   "outputs": [],
   "source": []
  }
 ],
 "metadata": {
  "kernelspec": {
   "display_name": "Python 3",
   "language": "python",
   "name": "python3"
  },
  "language_info": {
   "codemirror_mode": {
    "name": "ipython",
    "version": 3
   },
   "file_extension": ".py",
   "mimetype": "text/x-python",
   "name": "python",
   "nbconvert_exporter": "python",
   "pygments_lexer": "ipython3",
   "version": "3.6.6"
  }
 },
 "nbformat": 4,
 "nbformat_minor": 2
}
