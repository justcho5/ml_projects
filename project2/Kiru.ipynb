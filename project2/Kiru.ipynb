{
 "cells": [
  {
   "cell_type": "code",
   "execution_count": 41,
   "metadata": {},
   "outputs": [
    {
     "name": "stdout",
     "output_type": "stream",
     "text": [
      "call cross_validate\n"
     ]
    }
   ],
   "source": [
    "import surprise\n",
    "\n",
    "from surprise import BaselineOnly\n",
    "from surprise import Dataset\n",
    "from surprise import Reader\n",
    "from surprise import SVD\n",
    "from surprise import KNNWithMeans\n",
    "from surprise import SlopeOne\n",
    "from surprise.model_selection import cross_validate\n",
    "from tqdm import tqdm_notebook, tqdm\n",
    "\n",
    "file_path = 'data/data_train.csv'\n",
    "tqdm = tqdm_notebook\n",
    "\n",
    "# I have to convert the \n",
    "def deal_line(line):\n",
    "    pos, rating = line.split(',')\n",
    "    row, col = pos.split(\"_\")\n",
    "    row = row.replace(\"r\", \"\")\n",
    "    col = col.replace(\"c\", \"\")\n",
    "    return int(row), int(col), float(rating)\n",
    "\n",
    "def read_txt(path):\n",
    "    \"\"\"read text file from path.\"\"\"\n",
    "    with open(path, \"r\") as f:\n",
    "        return f.read().splitlines()\n",
    "    \n",
    "lines = read_txt(file_path)[1:]\n",
    "data = [deal_line(line) for line in lines]\n",
    "\n",
    "with open('data/kiru.csv', 'w') as f:\n",
    "    for item in data:\n",
    "        f.write(\"{},{},{}\\n\".format(item[0], item[1], item[2]))\n",
    "\n",
    "\n",
    "# path to dataset file\n",
    "file_path = 'data/kiru.csv'\n",
    "reader = Reader(line_format='user item rating', sep=',')\n",
    "data = Dataset.load_from_file(file_path, reader=reader)\n",
    "\n",
    "#svd = SVD()\n",
    "\n",
    "svd = SlopeOne()\n",
    "print(\"call cross_validate\")\n",
    "\n",
    "# We can now use this dataset as we please, e.g. calling cross_validate\n",
    "#abc = cross_validate(svd, data, \n",
    "#                     n_jobs=10, # use all cpu\n",
    "#                     cv=5, verbose=True, \n",
    "#                     measures=['RMSE'])"
   ]
  },
  {
   "cell_type": "code",
   "execution_count": 80,
   "metadata": {},
   "outputs": [],
   "source": [
    "from surprise import SVD\n",
    "from surprise import Dataset\n",
    "from surprise import accuracy\n",
    "from surprise.model_selection import KFold\n",
    "from multiprocessing import Pool\n",
    "\n",
    "def call_algo(i):\n",
    "    trainset, testset = i\n",
    "    # train and test algorithm.\n",
    "    algo = SlopeOne()\n",
    "    algo.fit(trainset)\n",
    "    predictions = algo.test(testset)\n",
    "    # Compute and print Root Mean Squared Error\n",
    "    rmse = accuracy.rmse(predictions, verbose=True)\n",
    "    return (algo, rmse)\n",
    "        \n",
    "def predict():\n",
    "    with Pool(10) as p:\n",
    "        # define a cross-validation iterator\n",
    "        kf = KFold(n_splits=5)\n",
    "        return p.map(call_algo, kf.split(data))"
   ]
  },
  {
   "cell_type": "code",
   "execution_count": null,
   "metadata": {},
   "outputs": [],
   "source": [
    "x = predict()"
   ]
  },
  {
   "cell_type": "code",
   "execution_count": 93,
   "metadata": {
    "scrolled": true
   },
   "outputs": [],
   "source": [
    "best_model = min(x, key=lambda b: b[1])"
   ]
  },
  {
   "cell_type": "code",
   "execution_count": 105,
   "metadata": {},
   "outputs": [],
   "source": [
    "abc = list(map(lambda b: b[1], x))"
   ]
  },
  {
   "cell_type": "code",
   "execution_count": 110,
   "metadata": {},
   "outputs": [
    {
     "data": {
      "text/plain": [
       "<matplotlib.axes._subplots.AxesSubplot at 0x152b6e9b0>"
      ]
     },
     "execution_count": 110,
     "metadata": {},
     "output_type": "execute_result"
    },
    {
     "data": {
      "image/png": "[encoded data removed]",
      "text/plain": [
       "<Figure size 432x288 with 1 Axes>"
      ]
     },
     "metadata": {
      "needs_background": "light"
     },
     "output_type": "display_data"
    }
   ],
   "source": [
    "import pandas as pd\n",
    "pd.DataFrame.from_dict(dict(m=abc)).plot.bar()"
   ]
  },
  {
   "cell_type": "code",
   "execution_count": null,
   "metadata": {},
   "outputs": [],
   "source": [
    "list_of_urls = []\n",
    "for each in tqdm_notebook(p.imap(call_algo, kf.split(data))i):\n",
    "    list_of_urls.extend(each)\n",
    "return list_of_urls"
   ]
  },
  {
   "cell_type": "code",
   "execution_count": 85,
   "metadata": {},
   "outputs": [
    {
     "name": "stdout",
     "output_type": "stream",
     "text": [
      "1.0011215624783198\n",
      "0.9989519324203562\n",
      "1.001439571555036\n",
      "0.9987288645648029\n",
      "1.001114490731689\n"
     ]
    }
   ],
   "source": [
    "for b in x:\n",
    "    print(b[1])"
   ]
  },
  {
   "cell_type": "code",
   "execution_count": 69,
   "metadata": {},
   "outputs": [
    {
     "name": "stdout",
     "output_type": "stream",
     "text": [
      "Evaluating RMSE of algorithm SVD on 5 split(s).\n",
      "\n",
      "                  Fold 1  Fold 2  Fold 3  Fold 4  Fold 5  Mean    Std     \n",
      "RMSE (testset)    1.0286  1.0244  1.0285  1.0289  1.0288  1.0278  0.0017  \n",
      "Fit time          60.49   64.64   65.25   58.99   54.99   60.87   3.79    \n",
      "Test time         2.83    2.38    2.10    2.19    1.98    2.29    0.30    \n"
     ]
    }
   ],
   "source": [
    "# define a cross-validation iterator\n",
    "kf = KFold(n_splits=5)\n",
    "\n",
    "avd = SVD()\n",
    "cv = cross_validate(avd, data, measures=['RMSE'], cv=5, verbose=True, n_jobs=5)\n",
    "\n",
    "#print(\"start\")\n",
    "#for trainset, testset in tqdm_notebook(kf.split(data)):\n",
    "#    # train and test algorithm.\n",
    "#    avd.fit(trainset)\n",
    "#    predictions = avd.test(testset)\n",
    "#    # Compute and print Root Mean Squared Error\n",
    "#    accuracy.rmse(predictions, verbose=True)"
   ]
  },
  {
   "cell_type": "code",
   "execution_count": 73,
   "metadata": {},
   "outputs": [
    {
     "data": {
      "text/plain": [
       "<surprise.prediction_algorithms.matrix_factorization.SVD at 0x152d42e10>"
      ]
     },
     "execution_count": 73,
     "metadata": {},
     "output_type": "execute_result"
    }
   ],
   "source": [
    "avd"
   ]
  },
  {
   "cell_type": "code",
   "execution_count": 68,
   "metadata": {},
   "outputs": [
    {
     "name": "stdout",
     "output_type": "stream",
     "text": [
      "RMSE: 1.0257\n"
     ]
    },
    {
     "data": {
      "text/plain": [
       "1.0257002670379434"
      ]
     },
     "execution_count": 68,
     "metadata": {},
     "output_type": "execute_result"
    }
   ],
   "source": [
    "predictions = avd.test(testset)\n",
    "# Compute and print Root Mean Squared Error\n",
    "accuracy.rmse(predictions, verbose=True)"
   ]
  },
  {
   "cell_type": "code",
   "execution_count": 65,
   "metadata": {},
   "outputs": [],
   "source": [
    "# print(\"end call cross_validate:\")\n",
    "import numpy as np\n",
    "# svd.predict(str(1), str(1))\n",
    "\n",
    "def create_submission_file(first, second):\n",
    "    lines = read_txt('data/sample_submission.csv')[1:]\n",
    "    data = [deal_line(line) for line in lines]\n",
    "\n",
    "    predictions = []\n",
    "    for each in tqdm(data):\n",
    "        pred1 = first.predict(str(each[0]), str(each[1])).est\n",
    "        pred2 = second.predict(str(each[0]), str(each[1])).est\n",
    "        predictions.append((each[0], each[1], np.average(np.array([pred1, pred2]))))\n",
    "\n",
    "    with open('data/our_pred.csv', 'w') as f:\n",
    "        f.write(\"Id,Prediction\\n\")\n",
    "        for item in tqdm(predictions):\n",
    "            f.write(\"r{}_c{},{}\\n\".format(item[0], item[1], int(round(item[2]))))"
   ]
  },
  {
   "cell_type": "code",
   "execution_count": 66,
   "metadata": {},
   "outputs": [
    {
     "name": "stderr",
     "output_type": "stream",
     "text": [
      "100%|██████████| 1176952/1176952 [02:43<00:00, 7178.98it/s]\n",
      "100%|██████████| 1176952/1176952 [00:02<00:00, 424605.17it/s]\n"
     ]
    }
   ],
   "source": [
    "create_submission_file(avd, algo)"
   ]
  },
  {
   "cell_type": "code",
   "execution_count": 46,
   "metadata": {},
   "outputs": [
    {
     "ename": "TypeError",
     "evalue": "'SlopeOne' object is not iterable",
     "output_type": "error",
     "traceback": [
      "\u001b[0;31m---------------------------------------------------------------------------\u001b[0m",
      "\u001b[0;31mTypeError\u001b[0m                                 Traceback (most recent call last)",
      "\u001b[0;32m<ipython-input-46-9341a59e7e15>\u001b[0m in \u001b[0;36m<module>\u001b[0;34m()\u001b[0m\n\u001b[0;32m----> 1\u001b[0;31m \u001b[0maccuracy\u001b[0m\u001b[0;34m.\u001b[0m\u001b[0mrmse\u001b[0m\u001b[0;34m(\u001b[0m\u001b[0malgo\u001b[0m\u001b[0;34m,\u001b[0m \u001b[0mverbose\u001b[0m\u001b[0;34m=\u001b[0m\u001b[0;32mTrue\u001b[0m\u001b[0;34m)\u001b[0m\u001b[0;34m\u001b[0m\u001b[0m\n\u001b[0m",
      "\u001b[0;32m~/anaconda3/envs/ada/lib/python3.6/site-packages/surprise/accuracy.py\u001b[0m in \u001b[0;36mrmse\u001b[0;34m(predictions, verbose)\u001b[0m\n\u001b[1;32m     46\u001b[0m \u001b[0;34m\u001b[0m\u001b[0m\n\u001b[1;32m     47\u001b[0m     mse = np.mean([float((true_r - est)**2)\n\u001b[0;32m---> 48\u001b[0;31m                    for (_, _, true_r, est, _) in predictions])\n\u001b[0m\u001b[1;32m     49\u001b[0m     \u001b[0mrmse_\u001b[0m \u001b[0;34m=\u001b[0m \u001b[0mnp\u001b[0m\u001b[0;34m.\u001b[0m\u001b[0msqrt\u001b[0m\u001b[0;34m(\u001b[0m\u001b[0mmse\u001b[0m\u001b[0;34m)\u001b[0m\u001b[0;34m\u001b[0m\u001b[0m\n\u001b[1;32m     50\u001b[0m \u001b[0;34m\u001b[0m\u001b[0m\n",
      "\u001b[0;31mTypeError\u001b[0m: 'SlopeOne' object is not iterable"
     ]
    }
   ],
   "source": [
    "accuracy.rmse(algo, verbose=True)"
   ]
  },
  {
   "cell_type": "code",
   "execution_count": null,
   "metadata": {},
   "outputs": [],
   "source": []
  }
 ],
 "metadata": {
  "kernelspec": {
   "display_name": "Python 3",
   "language": "python",
   "name": "python3"
  },
  "language_info": {
   "codemirror_mode": {
    "name": "ipython",
    "version": 3
   },
   "file_extension": ".py",
   "mimetype": "text/x-python",
   "name": "python",
   "nbconvert_exporter": "python",
   "pygments_lexer": "ipython3",
   "version": "3.6.6"
  }
 },
 "nbformat": 4,
 "nbformat_minor": 2
}
