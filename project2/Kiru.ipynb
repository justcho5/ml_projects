{
 "cells": [
  {
   "cell_type": "code",
   "execution_count": 1,
   "metadata": {},
   "outputs": [],
   "source": [
    "%matplotlib inline\n",
    "%load_ext autoreload\n",
    "%autoreload 2\n",
    "\n",
    "import surprise\n",
    "import numpy as np\n",
    "import pandas as pd\n",
    "import pickle\n",
    "\n",
    "from surprise import BaselineOnly\n",
    "from surprise import Dataset\n",
    "from surprise import Reader\n",
    "from surprise import SVD\n",
    "from surprise import SVDpp\n",
    "from surprise import KNNWithMeans\n",
    "from surprise import SlopeOne\n",
    "from surprise.model_selection import cross_validate\n",
    "from tqdm import tqdm_notebook, tqdm\n",
    "from sklearn.linear_model import LinearRegression\n",
    "from sklearn.metrics import mean_squared_error\n",
    "from surprise import accuracy\n",
    "from surprise.model_selection import KFold\n",
    "from multiprocessing import Pool\n",
    "tqdm = tqdm_notebook"
   ]
  },
  {
   "cell_type": "code",
   "execution_count": 2,
   "metadata": {},
   "outputs": [],
   "source": [
    "# this is hack, but who cares, use script as default folder\n",
    "# otherwise the pickle doens't work\n",
    "import sys\n",
    "sys.path.insert(0, 'script')\n",
    "\n",
    "import dataset as d\n",
    "import models as m\n",
    "import submission as s"
   ]
  },
  {
   "cell_type": "code",
   "execution_count": 4,
   "metadata": {},
   "outputs": [],
   "source": [
    "# - try implicit library"
   ]
  },
  {
   "cell_type": "code",
   "execution_count": 30,
   "metadata": {},
   "outputs": [],
   "source": [
    "# I have to convert the \n",
    "def deal_line(line):\n",
    "    pos, rating = line.split(',')\n",
    "    row, col = pos.split(\"_\")\n",
    "    row = row.replace(\"r\", \"\")\n",
    "    col = col.replace(\"c\", \"\")\n",
    "    return int(row), int(col), float(rating)\n",
    "\n",
    "def read_txt(path):\n",
    "    \"\"\"read text file from path.\"\"\"\n",
    "    with open(path, \"r\") as f:\n",
    "        return f.read().splitlines()\n",
    "    \n",
    "file_path = 'data/data_train.csv'\n",
    "lines = read_txt(file_path)[1:]\n",
    "data = [deal_line(line) for line in lines]\n",
    "\n",
    "#shuffle(data)\n",
    "#data = data[:100_000]\n",
    "\n",
    "with open('data/kiru.csv', 'w') as f:\n",
    "    for item in data:\n",
    "        f.write(\"{},{},{}\\n\".format(item[0], item[1], item[2]))\n",
    "\n",
    "# path to dataset file\n",
    "file_path = 'data/kiru.csv'\n",
    "reader = Reader(line_format='user item rating', sep=',')\n",
    "data = Dataset.load_from_file(file_path, reader=reader)"
   ]
  },
  {
   "cell_type": "code",
   "execution_count": null,
   "metadata": {},
   "outputs": [],
   "source": [
    "def call_algo(i):\n",
    "    trainset, testset = i\n",
    "    # train and test algorithm.\n",
    "    algo = SlopeOne()\n",
    "    algo.fit(trainset)\n",
    "    predictions = algo.test(testset)\n",
    "    # Compute and print Root Mean Squared Error\n",
    "    rmse = accuracy.rmse(predictions, verbose=True)\n",
    "    return (algo, rmse)\n",
    "        \n",
    "def predict():\n",
    "    with Pool(10) as p:\n",
    "        # define a cross-validation iterator\n",
    "        kf = KFold(n_splits=3)\n",
    "        return p.map(call_algo, kf.split(data))"
   ]
  },
  {
   "cell_type": "code",
   "execution_count": null,
   "metadata": {},
   "outputs": [],
   "source": [
    "%%time\n",
    "predictions = predict()\n",
    "best_model_slope_one = min(predictions, key=lambda b: b[1])"
   ]
  },
  {
   "cell_type": "code",
   "execution_count": null,
   "metadata": {},
   "outputs": [],
   "source": [
    "def create_predictions(predictor):\n",
    "    lines = read_txt('data/sample_submission.csv')[1:]\n",
    "    data = [deal_line(line) for line in lines]\n",
    "\n",
    "    predictions = []\n",
    "    for i, each in tqdm(enumerate(data)):\n",
    "        pred1 = predictor.predict(str(each[0]), str(each[1])).est\n",
    "        predictions.append((each[2], int(round(pred1))))\n",
    "\n",
    "    return predictions"
   ]
  },
  {
   "cell_type": "code",
   "execution_count": null,
   "metadata": {},
   "outputs": [],
   "source": [
    "predictions = create_predictions(best_model_slope_one[0])"
   ]
  },
  {
   "cell_type": "code",
   "execution_count": null,
   "metadata": {},
   "outputs": [],
   "source": [
    "from random import shuffle\n",
    "predictor = best_model_slope_one[0]\n",
    "\n",
    "def do_predict(predictor):\n",
    "    lines = read_txt('data/data_train.csv')[1:]\n",
    "    data = [deal_line(line) for line in lines]\n",
    "    shuffle(data)\n",
    "\n",
    "    predictions = []\n",
    "    for i, each in tqdm(enumerate(data), total=len(data)):\n",
    "        pred = predictor.predict(str(each[0]), str(each[1])).est\n",
    "        real = each[2]\n",
    "        # [predictions, real]\n",
    "        predictions.append([int(round(pred)), int(real)])\n",
    "        #if i == 10: break\n",
    "\n",
    "    predictions = np.array(predictions)\n",
    "    return predictions"
   ]
  },
  {
   "cell_type": "code",
   "execution_count": null,
   "metadata": {},
   "outputs": [],
   "source": [
    "predictions = do_predict(predictor)"
   ]
  },
  {
   "cell_type": "code",
   "execution_count": null,
   "metadata": {},
   "outputs": [],
   "source": [
    "# correct category 3\n",
    "#    predictions\n",
    "#    rating = 5\n",
    "\n",
    "def plot(predictions):\n",
    "    data = np.zeros((5, 5), dtype=int)\n",
    "    for rating in range(1, 6):\n",
    "        correct = len(predictions[predictions[:, 1] == rating])\n",
    "\n",
    "        #np.where(predictions[:, 1] == predictions[:, 0])\n",
    "        #print(correct)\n",
    "        p = []\n",
    "        for i in range(1, 6):\n",
    "            x = len(predictions[(predictions[:, 1] == rating) & (predictions[:, 0] == i)])\n",
    "            data[(rating - 1, i - 1)] = x\n",
    "\n",
    "    data = np.nan_to_num(data/data.sum(axis=1, keepdims=True))\n",
    "\n",
    "    x = pd.DataFrame(data=data, index=range(1, 6), columns=range(1, 6))\n",
    "    x.plot.bar(stacked=True)\n",
    "    \n",
    "plot(predictions)"
   ]
  },
  {
   "cell_type": "code",
   "execution_count": null,
   "metadata": {},
   "outputs": [],
   "source": [
    "def call_algo_svd(i):\n",
    "    trainset, testset = i\n",
    "    print(\"Run one split\")\n",
    "    # train and test algorithm.\n",
    "    algo = SVDpp()\n",
    "    algo.fit(trainset)\n",
    "    predictions = algo.test(testset)\n",
    "    # Compute and print Root Mean Squared Error\n",
    "    rmse = accuracy.rmse(predictions, verbose=True)\n",
    "    return (algo, rmse)\n",
    "        \n",
    "def predict_svd():\n",
    "    with Pool(10) as p:\n",
    "        # define a cross-validation iterator\n",
    "        kf = KFold(n_splits=10)\n",
    "        return p.map(call_algo_svd, kf.split(data))"
   ]
  },
  {
   "cell_type": "code",
   "execution_count": null,
   "metadata": {},
   "outputs": [],
   "source": [
    "%%time\n",
    "predictions_svd = predict_svd()\n",
    "best_model_svd = min(predictions_svd, key=lambda b: b[1])"
   ]
  },
  {
   "cell_type": "code",
   "execution_count": null,
   "metadata": {},
   "outputs": [],
   "source": [
    "x = do_predict(best_model_svd[0])"
   ]
  },
  {
   "cell_type": "markdown",
   "metadata": {},
   "source": [
    "Lets train a linear regression to find the best coefficient"
   ]
  },
  {
   "cell_type": "code",
   "execution_count": null,
   "metadata": {},
   "outputs": [],
   "source": [
    "#plot(x)\n",
    "#plot(predictions)\n",
    "#plot(x)\n",
    "error = np.sqrt(mean_squared_error(x[:, 0], x[:, 1]))\n",
    "error"
   ]
  },
  {
   "cell_type": "code",
   "execution_count": null,
   "metadata": {
    "scrolled": true
   },
   "outputs": [],
   "source": [
    "def combine(first, second):\n",
    "    kf = KFold(n_splits=3)\n",
    "    weights = []\n",
    "    for trainset, testset in tqdm(kf.split(data), desc=\"split\"):\n",
    "        print(\"Do one split\")\n",
    "        input_for_linear = []\n",
    "        for each in tqdm(trainset.all_ratings(), desc=\"Process rating of split\"):\n",
    "            pred1 = first.predict(str(each[0]), str(each[1])).est\n",
    "            pred2 = second.predict(str(each[0]), str(each[1])).est\n",
    "            output = [pred1, pred2]\n",
    "            input_for_linear.append(output)\n",
    "        \n",
    "        y = list(map(lambda x: x[2], trainset.all_ratings()))\n",
    "        eg = LinearRegression().fit(input_for_linear, y)\n",
    "        \n",
    "        predictions = []\n",
    "        c = eg.coef_\n",
    "        for i, b in enumerate(input_for_linear):\n",
    "           # p = b[0] * c[0] + b[1] + c[1]\n",
    "            p = b[0] * 0.5 + b[1] + 0.5\n",
    "            predictions.append(p)\n",
    "            \n",
    "        error = np.sqrt(mean_squared_error(y, predictions))\n",
    "        weights.append((error, c))\n",
    "        \n",
    "    return min(weights, key=lambda b: b[0])"
   ]
  },
  {
   "cell_type": "code",
   "execution_count": null,
   "metadata": {
    "scrolled": true
   },
   "outputs": [],
   "source": [
    "best_weights = combine(best_model_slope_one[0], best_model_svd[0])"
   ]
  },
  {
   "cell_type": "code",
   "execution_count": null,
   "metadata": {
    "scrolled": true
   },
   "outputs": [],
   "source": [
    "print(best_weights)"
   ]
  },
  {
   "cell_type": "code",
   "execution_count": null,
   "metadata": {},
   "outputs": [],
   "source": [
    "print(best_weights)"
   ]
  },
  {
   "cell_type": "code",
   "execution_count": null,
   "metadata": {},
   "outputs": [],
   "source": [
    "def create_submission_file(first, second, w1, w2):\n",
    "    lines = read_txt('data/sample_submission.csv')[1:]\n",
    "    data = [deal_line(line) for line in lines]\n",
    "\n",
    "    predictions = []\n",
    "    for each in tqdm(data):\n",
    "        pred1 = first.predict(str(each[0]), str(each[1])).est\n",
    "        pred2 = second.predict(str(each[0]), str(each[1])).est\n",
    "        predictions.append((each[0], each[1], pred1 * w1 + pred2 * w2 ))\n",
    "\n",
    "    with open('data/our_pred.csv', 'w') as f:\n",
    "        f.write(\"Id,Prediction\\n\")\n",
    "        for item in tqdm(predictions):\n",
    "            f.write(\"r{}_c{},{}\\n\".format(item[0], item[1], int(round(item[2]))))"
   ]
  },
  {
   "cell_type": "code",
   "execution_count": null,
   "metadata": {},
   "outputs": [],
   "source": [
    "create_submission_file(avd, algo)"
   ]
  },
  {
   "cell_type": "code",
   "execution_count": null,
   "metadata": {},
   "outputs": [],
   "source": [
    "accuracy.rmse(algo, verbose=True)"
   ]
  },
  {
   "cell_type": "markdown",
   "metadata": {},
   "source": [
    "### Blending\n",
    "\n",
    "1. Get two separate models and try to combine them and see if the perform good"
   ]
  },
  {
   "cell_type": "code",
   "execution_count": 17,
   "metadata": {},
   "outputs": [
    {
     "name": "stdout",
     "output_type": "stream",
     "text": [
      "Running with models '['SurpriseKNNBasic']' and split 3\n",
      "Split data\n",
      "running CV\n"
     ]
    },
    {
     "name": "stderr",
     "output_type": "stream",
     "text": [
      "\r",
      "CV:   0%|          | 0/3 [00:00<?, ?it/s]"
     ]
    },
    {
     "name": "stdout",
     "output_type": "stream",
     "text": [
      "Fit models\n"
     ]
    },
    {
     "name": "stderr",
     "output_type": "stream",
     "text": [
      "KNNBasic:   0%|          | 0/1 [00:00<?, ?it/s]"
     ]
    },
    {
     "name": "stdout",
     "output_type": "stream",
     "text": [
      "Computing the msd similarity matrix...\n",
      "Fit models\n"
     ]
    },
    {
     "name": "stderr",
     "output_type": "stream",
     "text": [
      "KNNBasic:   0%|          | 0/1 [00:00<?, ?it/s]"
     ]
    },
    {
     "name": "stdout",
     "output_type": "stream",
     "text": [
      "Computing the msd similarity matrix...\n",
      "Fit models\n"
     ]
    },
    {
     "name": "stderr",
     "output_type": "stream",
     "text": [
      "KNNBasic:   0%|          | 0/1 [00:00<?, ?it/s]"
     ]
    },
    {
     "name": "stdout",
     "output_type": "stream",
     "text": [
      "Computing the msd similarity matrix...\n",
      "Done computing similarity matrix.\n",
      "Done computing similarity matrix.\n",
      "Done computing similarity matrix.\n"
     ]
    },
    {
     "name": "stderr",
     "output_type": "stream",
     "text": [
      "KNNBasic: 100%|██████████| 1/1 [16:27<00:00, 987.10s/it]\n"
     ]
    },
    {
     "name": "stdout",
     "output_type": "stream",
     "text": [
      "Do blending\n"
     ]
    },
    {
     "name": "stderr",
     "output_type": "stream",
     "text": [
      "KNNBasic: 100%|██████████| 1/1 [16:26<00:00, 986.46s/it]\n"
     ]
    },
    {
     "name": "stdout",
     "output_type": "stream",
     "text": [
      "Do blending\n"
     ]
    },
    {
     "name": "stderr",
     "output_type": "stream",
     "text": [
      "KNNBasic: 100%|██████████| 1/1 [16:23<00:00, 983.64s/it]\n"
     ]
    },
    {
     "name": "stdout",
     "output_type": "stream",
     "text": [
      "Do blending\n"
     ]
    },
    {
     "name": "stderr",
     "output_type": "stream",
     "text": [
      "100%|██████████| 392317/392317 [05:33<00:00, 1178.13it/s]\n",
      "100%|██████████| 392318/392318 [05:34<00:00, 1172.37it/s]\n",
      "100%|██████████| 392317/392317 [05:35<00:00, 1170.60it/s]\n"
     ]
    },
    {
     "name": "stdout",
     "output_type": "stream",
     "text": [
      "Optimization terminated successfully.\n",
      "         Current function value: 1.030272\n",
      "         Iterations: 2\n",
      "         Function evaluations: 12\n",
      "         Gradient evaluations: 4\n",
      "Best blended rmse:  1.0302717840871183\n",
      "Optimization terminated successfully.\n",
      "         Current function value: 1.031227\n",
      "         Iterations: 2\n",
      "         Function evaluations: 12\n",
      "         Gradient evaluations: 4\n",
      "Best blended rmse:  1.0312273140879833\n",
      "Optimization terminated successfully.\n",
      "         Current function value: 1.032666\n",
      "         Iterations: 2\n",
      "         Function evaluations: 12\n",
      "         Gradient evaluations: 4\n",
      "Best blended rmse:  1.032665689267196\n"
     ]
    },
    {
     "name": "stderr",
     "output_type": "stream",
     "text": [
      "CV: 100%|██████████| 3/3 [22:34<00:00, 451.60s/it] \n"
     ]
    },
    {
     "ename": "OSError",
     "evalue": "[Errno 22] Invalid argument",
     "output_type": "error",
     "traceback": [
      "\u001b[0;31m---------------------------------------------------------------------------\u001b[0m",
      "\u001b[0;31mOSError\u001b[0m                                   Traceback (most recent call last)",
      "\u001b[0;32m<ipython-input-17-005980c6808c>\u001b[0m in \u001b[0;36m<module>\u001b[0;34m()\u001b[0m\n\u001b[1;32m      2\u001b[0m \u001b[0;31m#    models = [\"SurpriseSlopeOneModel\", \"SurpriseSlopeOneModel\"]\u001b[0m\u001b[0;34m\u001b[0m\u001b[0;34m\u001b[0m\u001b[0;34m\u001b[0m\u001b[0m\n\u001b[1;32m      3\u001b[0m     \u001b[0mmodels\u001b[0m \u001b[0;34m=\u001b[0m \u001b[0;34m[\u001b[0m\u001b[0;34m\"SurpriseKNNBasic\"\u001b[0m\u001b[0;34m]\u001b[0m\u001b[0;34m\u001b[0m\u001b[0;34m\u001b[0m\u001b[0m\n\u001b[0;32m----> 4\u001b[0;31m     \u001b[0mresult\u001b[0m \u001b[0;34m=\u001b[0m \u001b[0mm\u001b[0m\u001b[0;34m.\u001b[0m\u001b[0mcross_validates_one_by_one\u001b[0m\u001b[0;34m(\u001b[0m\u001b[0mp\u001b[0m\u001b[0;34m,\u001b[0m \u001b[0mmodels\u001b[0m\u001b[0;34m,\u001b[0m \u001b[0mpath\u001b[0m\u001b[0;34m=\u001b[0m\u001b[0;34m\"data/data_surprise.csv\"\u001b[0m\u001b[0;34m,\u001b[0m \u001b[0msplits\u001b[0m\u001b[0;34m=\u001b[0m\u001b[0;36m3\u001b[0m\u001b[0;34m)\u001b[0m\u001b[0;34m\u001b[0m\u001b[0;34m\u001b[0m\u001b[0m\n\u001b[0m",
      "\u001b[0;32m~/Documents/development/school/epfl/Semester_3/CS-433 Machine Learning Course (ML)/ml_projects/project2/script/models.py\u001b[0m in \u001b[0;36mcross_validates_one_by_one\u001b[0;34m(pool, model_name, path, splits)\u001b[0m\n\u001b[1;32m    332\u001b[0m     \u001b[0;32mif\u001b[0m \u001b[0;32mnot\u001b[0m \u001b[0mos\u001b[0m\u001b[0;34m.\u001b[0m\u001b[0mpath\u001b[0m\u001b[0;34m.\u001b[0m\u001b[0mexists\u001b[0m\u001b[0;34m(\u001b[0m\u001b[0;34m\"result\"\u001b[0m\u001b[0;34m)\u001b[0m\u001b[0;34m:\u001b[0m\u001b[0;34m\u001b[0m\u001b[0;34m\u001b[0m\u001b[0m\n\u001b[1;32m    333\u001b[0m         \u001b[0mos\u001b[0m\u001b[0;34m.\u001b[0m\u001b[0mmakedirs\u001b[0m\u001b[0;34m(\u001b[0m\u001b[0;34m\"result\"\u001b[0m\u001b[0;34m)\u001b[0m\u001b[0;34m\u001b[0m\u001b[0;34m\u001b[0m\u001b[0m\n\u001b[0;32m--> 334\u001b[0;31m     \u001b[0mpickle\u001b[0m\u001b[0;34m.\u001b[0m\u001b[0mdump\u001b[0m\u001b[0;34m(\u001b[0m\u001b[0mresults\u001b[0m\u001b[0;34m,\u001b[0m \u001b[0mopen\u001b[0m\u001b[0;34m(\u001b[0m\u001b[0;34m\"result/out.result\"\u001b[0m\u001b[0;34m,\u001b[0m \u001b[0;34m\"wb\"\u001b[0m\u001b[0;34m)\u001b[0m\u001b[0;34m)\u001b[0m\u001b[0;34m\u001b[0m\u001b[0;34m\u001b[0m\u001b[0m\n\u001b[0m\u001b[1;32m    335\u001b[0m     \u001b[0;32mreturn\u001b[0m \u001b[0mresults\u001b[0m\u001b[0;34m\u001b[0m\u001b[0;34m\u001b[0m\u001b[0m\n\u001b[1;32m    336\u001b[0m \u001b[0;34m\u001b[0m\u001b[0m\n",
      "\u001b[0;31mOSError\u001b[0m: [Errno 22] Invalid argument"
     ]
    }
   ],
   "source": [
    "with Pool(12) as p:\n",
    "#    models = [\"SurpriseSlopeOneModel\", \"SurpriseSlopeOneModel\"]\n",
    "    models = [\"SurpriseKNNBasic\"]\n",
    "    result = m.cross_validates_one_by_one(p, models, path=\"data/data_surprise.csv\", splits=3)"
   ]
  },
  {
   "cell_type": "code",
   "execution_count": 7,
   "metadata": {},
   "outputs": [],
   "source": [
    "from scipy.optimize import minimize"
   ]
  },
  {
   "cell_type": "code",
   "execution_count": 16,
   "metadata": {},
   "outputs": [
    {
     "data": {
      "text/plain": [
       "<surprise.prediction_algorithms.slope_one.SlopeOne at 0x1a305a4dd8>"
      ]
     },
     "execution_count": 16,
     "metadata": {},
     "output_type": "execute_result"
    }
   ],
   "source": [
    "x = result[0][0][0]\n",
    "x.algo"
   ]
  },
  {
   "cell_type": "code",
   "execution_count": 90,
   "metadata": {},
   "outputs": [],
   "source": [
    "data = d.to_surprise_read('data/data_surprise.csv')\n",
    "data.split(10)"
   ]
  },
  {
   "cell_type": "code",
   "execution_count": 95,
   "metadata": {},
   "outputs": [],
   "source": [
    "first = list(data.raw_folds())[0]\n",
    "data_to_predict = first[1][:1000]"
   ]
  },
  {
   "cell_type": "code",
   "execution_count": 122,
   "metadata": {},
   "outputs": [
    {
     "data": {
      "application/vnd.jupyter.widget-view+json": {
       "model_id": "4c814fba731e47b3adc070f80f05ea00",
       "version_major": 2,
       "version_minor": 0
      },
      "text/plain": [
       "HBox(children=(IntProgress(value=0, max=1000), HTML(value='')))"
      ]
     },
     "metadata": {},
     "output_type": "display_data"
    }
   ],
   "source": [
    "# Get all predictions\n",
    "def get_predictions(models, data_to_predict): \n",
    "    result = []\n",
    "    for each_data in tqdm(data_to_predict):\n",
    "        predictions = []\n",
    "        for each_model in models:\n",
    "            p = each_model.algo.predict(each_data[0], each_data[1]).est\n",
    "            predictions.append(p)\n",
    "        result.append(predictions)\n",
    "    return result\n",
    "\n",
    "models = [result[0][0], result[1][0]]\n",
    "model_predictions = get_predictions(models, data_to_predict)"
   ]
  },
  {
   "cell_type": "code",
   "execution_count": 114,
   "metadata": {},
   "outputs": [],
   "source": [
    "real = list(map(lambda x: x[2], data_to_predict))"
   ]
  },
  {
   "cell_type": "code",
   "execution_count": 123,
   "metadata": {},
   "outputs": [],
   "source": [
    "w0 = [1 / len(models)] * len(models)"
   ]
  },
  {
   "cell_type": "code",
   "execution_count": 171,
   "metadata": {},
   "outputs": [],
   "source": [
    "def create_predictions():\n",
    "    preds = []\n",
    "    for i, pred in enumerate(model_predictions):\n",
    "        mix_prediction = 0\n",
    "        for i, w in enumerate(weights):\n",
    "            mix_prediction += weights[i] * pred[i]\n",
    "        preds.append(mix_prediction)\n",
    "    preds = np.array(preds)\n",
    "    preds = preds.clip(1, 5)\n",
    "    \n",
    "def calcualte_mean_square_error(weights, model_predictions):\n",
    "    preds = create_predictions(weights, model_predictions)\n",
    "\n",
    "    mse = mean_squared_error(preds, real)\n",
    "    return np.sqrt(mse)"
   ]
  },
  {
   "cell_type": "code",
   "execution_count": 173,
   "metadata": {},
   "outputs": [
    {
     "name": "stdout",
     "output_type": "stream",
     "text": [
      "Optimization terminated successfully.\n",
      "         Current function value: 0.988783\n",
      "         Iterations: 12\n",
      "         Function evaluations: 60\n",
      "         Gradient evaluations: 15\n"
     ]
    }
   ],
   "source": [
    "result = minimize(fun=calcualte_mean_square_error, x0=w0,\n",
    "                  args = (model_predictions),\n",
    "                  options={'maxiter': 1000, 'disp': True})"
   ]
  },
  {
   "cell_type": "code",
   "execution_count": 183,
   "metadata": {},
   "outputs": [
    {
     "data": {
      "text/plain": [
       "0.9887825093824633"
      ]
     },
     "execution_count": 183,
     "metadata": {},
     "output_type": "execute_result"
    }
   ],
   "source": [
    "result.fun"
   ]
  },
  {
   "cell_type": "code",
   "execution_count": 152,
   "metadata": {},
   "outputs": [],
   "source": [
    "def predict_one(weights, models, one_data):\n",
    "    print(\"ja\")"
   ]
  },
  {
   "cell_type": "code",
   "execution_count": 163,
   "metadata": {},
   "outputs": [
    {
     "data": {
      "application/vnd.jupyter.widget-view+json": {
       "model_id": "cb178743f5ec4028bfb9f688a63b9733",
       "version_major": 2,
       "version_minor": 0
      },
      "text/plain": [
       "HBox(children=(IntProgress(value=0, max=1176952), HTML(value='')))"
      ]
     },
     "metadata": {},
     "output_type": "display_data"
    }
   ],
   "source": [
    "all_predictions = get_predictions(models, data.raw_ratings)"
   ]
  },
  {
   "cell_type": "code",
   "execution_count": 170,
   "metadata": {},
   "outputs": [],
   "source": [
    "predictions = all_predictions @ result.x"
   ]
  },
  {
   "cell_type": "code",
   "execution_count": null,
   "metadata": {
    "scrolled": false
   },
   "outputs": [],
   "source": [
    "kf = KFold(n_splits=10)\n",
    "for train, test in kf.split(data):\n",
    "    print(test.)\n",
    "    adsfas"
   ]
  },
  {
   "cell_type": "markdown",
   "metadata": {},
   "source": [
    "### Predict based on splitting"
   ]
  },
  {
   "cell_type": "code",
   "execution_count": 82,
   "metadata": {},
   "outputs": [],
   "source": [
    "lower_result_file = \"run_9_split_full_without_blending/lower.result\"\n",
    "lower_result = pickle.load(open(lower_result_file, 'rb'))\n",
    "lower_algo = min(list(map(lambda x: x[0], lower_result)), key=lambda x: x[0].rmse)[0]"
   ]
  },
  {
   "cell_type": "code",
   "execution_count": 83,
   "metadata": {},
   "outputs": [],
   "source": [
    "upper_result_file = \"run_9_split_full_without_blending/upper.result\"\n",
    "upper_result = pickle.load(open(upper_result_file, 'rb'))\n",
    "upper_algo = min(list(map(lambda x: x[0], upper_result)), key=lambda x: x[0].rmse)[0]"
   ]
  },
  {
   "cell_type": "code",
   "execution_count": 295,
   "metadata": {},
   "outputs": [],
   "source": [
    "def split_user_movie(pandas_data_frame):\n",
    "    user_movie = pandas_data_frame.Id.str.extract(r'r(?P<user>\\d+)_c(?P<movie>\\d+)')\n",
    "    pandas_data_frame['user'] = user_movie.user\n",
    "    pandas_data_frame['movie'] = user_movie.movie\n",
    "    return pandas_data_frame[['user', 'movie', 'Prediction']]"
   ]
  },
  {
   "cell_type": "code",
   "execution_count": 296,
   "metadata": {},
   "outputs": [],
   "source": [
    "data = pd.read_csv('data/data_train.csv')\n",
    "data = split_user_movie(data)\n",
    "movie = data.groupby('user')['movie'].count().to_frame()\n",
    "median = movie.median().values[0]\n",
    "df_few_ratings = movie[movie['movie'] < median]\n",
    "df_lower = data.merge(df_few_ratings.reset_index(), left_on='user', right_on='user', how='inner')"
   ]
  },
  {
   "cell_type": "code",
   "execution_count": 313,
   "metadata": {},
   "outputs": [],
   "source": [
    "small = data[data.user.astype(int) <= 10]\n",
    "small = small[small.movie.astype(int) <= 10]\n",
    "small.to_csv('data/data_surprise_small.csv', index=False, header=False)"
   ]
  },
  {
   "cell_type": "code",
   "execution_count": 314,
   "metadata": {},
   "outputs": [
    {
     "name": "stdout",
     "output_type": "stream",
     "text": [
      "4956\n"
     ]
    }
   ],
   "source": [
    "print(len(df_lower.user.unique()))"
   ]
  },
  {
   "cell_type": "code",
   "execution_count": 87,
   "metadata": {},
   "outputs": [],
   "source": [
    "df_submission = pd.read_csv('data/sample_submission.csv')\n",
    "df_submission = split_user_movie(df_submission)"
   ]
  },
  {
   "cell_type": "code",
   "execution_count": 88,
   "metadata": {},
   "outputs": [
    {
     "name": "stdout",
     "output_type": "stream",
     "text": [
      "10000\n"
     ]
    }
   ],
   "source": [
    "print(len(df_submission.user.unique()))"
   ]
  },
  {
   "cell_type": "code",
   "execution_count": 89,
   "metadata": {},
   "outputs": [
    {
     "data": {
      "application/vnd.jupyter.widget-view+json": {
       "model_id": "9434a7d1680540f69d08a60d7c1aee22",
       "version_major": 2,
       "version_minor": 0
      },
      "text/plain": [
       "HBox(children=(IntProgress(value=0, max=1176952), HTML(value='')))"
      ]
     },
     "metadata": {},
     "output_type": "display_data"
    }
   ],
   "source": [
    "df_lower_user = set(df_lower.user.values)\n",
    "predictions = []\n",
    "for each in tqdm(df_submission.iterrows(), total=len(df_submission)):\n",
    "    user = each[1].user\n",
    "    movie = each[1].movie\n",
    "    if user in df_lower_user:\n",
    "        prediction = lower_algo.algo.predict(str(user), str(movie)).est\n",
    "    else:\n",
    "        prediction = upper_algo.algo.predict(str(user), str(movie)).est\n",
    "    predictions.append((user, movie, prediction))"
   ]
  },
  {
   "cell_type": "code",
   "execution_count": 92,
   "metadata": {},
   "outputs": [
    {
     "data": {
      "text/plain": [
       "0.9848610866985605"
      ]
     },
     "execution_count": 92,
     "metadata": {},
     "output_type": "execute_result"
    }
   ],
   "source": [
    "np.mean([lower_algo.rmse, upper_algo.rmse])"
   ]
  },
  {
   "cell_type": "code",
   "execution_count": 93,
   "metadata": {},
   "outputs": [
    {
     "name": "stderr",
     "output_type": "stream",
     "text": [
      "100%|██████████| 1176952/1176952 [00:02<00:00, 435800.81it/s]\n"
     ]
    }
   ],
   "source": [
    "x = s.write_predictions_to_file(predictions, \"run_9_split_full_without_blending/submission.csv\")"
   ]
  },
  {
   "cell_type": "code",
   "execution_count": 99,
   "metadata": {},
   "outputs": [],
   "source": [
    "first = list(map(lambda x: x[2], new_predictions))\n",
    "second = list(map(lambda x: x[2], predictions))"
   ]
  },
  {
   "cell_type": "code",
   "execution_count": 132,
   "metadata": {},
   "outputs": [
    {
     "data": {
      "text/plain": [
       "array([3.4244113 , 2.99486374, 3.72778865, ..., 3.40182707, 3.39634278,\n",
       "       3.89578367])"
      ]
     },
     "execution_count": 132,
     "metadata": {},
     "output_type": "execute_result"
    }
   ],
   "source": []
  },
  {
   "cell_type": "code",
   "execution_count": 140,
   "metadata": {},
   "outputs": [
    {
     "data": {
      "text/plain": [
       "<matplotlib.axes._subplots.AxesSubplot at 0x251b1b5ef0>"
      ]
     },
     "execution_count": 140,
     "metadata": {},
     "output_type": "execute_result"
    },
    {
     "data": {
      "image/png": "[encoded data removed]",
      "text/plain": [
       "<Figure size 432x288 with 1 Axes>"
      ]
     },
     "metadata": {
      "needs_background": "light"
     },
     "output_type": "display_data"
    }
   ],
   "source": [
    "pd.DataFrame(data={'unrounded': first, 'rounded': np.round(first)}).plot.scatter(x='unrounded', y='rounded')"
   ]
  },
  {
   "cell_type": "markdown",
   "metadata": {},
   "source": [
    "### Predict with weights"
   ]
  },
  {
   "cell_type": "code",
   "execution_count": 6,
   "metadata": {},
   "outputs": [],
   "source": [
    "file = \"run_10_new_blending_default/all_blending.result\""
   ]
  },
  {
   "cell_type": "code",
   "execution_count": 7,
   "metadata": {},
   "outputs": [],
   "source": [
    "file_loaded = pickle.load(open(file, 'rb'))"
   ]
  },
  {
   "cell_type": "code",
   "execution_count": 8,
   "metadata": {},
   "outputs": [
    {
     "ename": "AttributeError",
     "evalue": "'NoneType' object has no attribute 'fun'",
     "output_type": "error",
     "traceback": [
      "\u001b[0;31m---------------------------------------------------------------------------\u001b[0m",
      "\u001b[0;31mAttributeError\u001b[0m                            Traceback (most recent call last)",
      "\u001b[0;32m<ipython-input-8-ce280869a807>\u001b[0m in \u001b[0;36m<module>\u001b[0;34m()\u001b[0m\n\u001b[0;32m----> 1\u001b[0;31m \u001b[0mx\u001b[0m \u001b[0;34m=\u001b[0m \u001b[0mlist\u001b[0m\u001b[0;34m(\u001b[0m\u001b[0mmap\u001b[0m\u001b[0;34m(\u001b[0m\u001b[0;32mlambda\u001b[0m \u001b[0mx\u001b[0m\u001b[0;34m:\u001b[0m \u001b[0mx\u001b[0m\u001b[0;34m[\u001b[0m\u001b[0;36m1\u001b[0m\u001b[0;34m]\u001b[0m\u001b[0;34m.\u001b[0m\u001b[0mfun\u001b[0m\u001b[0;34m,\u001b[0m \u001b[0mfile_loaded\u001b[0m\u001b[0;34m)\u001b[0m\u001b[0;34m)\u001b[0m\u001b[0;34m\u001b[0m\u001b[0;34m\u001b[0m\u001b[0m\n\u001b[0m",
      "\u001b[0;32m<ipython-input-8-ce280869a807>\u001b[0m in \u001b[0;36m<lambda>\u001b[0;34m(x)\u001b[0m\n\u001b[0;32m----> 1\u001b[0;31m \u001b[0mx\u001b[0m \u001b[0;34m=\u001b[0m \u001b[0mlist\u001b[0m\u001b[0;34m(\u001b[0m\u001b[0mmap\u001b[0m\u001b[0;34m(\u001b[0m\u001b[0;32mlambda\u001b[0m \u001b[0mx\u001b[0m\u001b[0;34m:\u001b[0m \u001b[0mx\u001b[0m\u001b[0;34m[\u001b[0m\u001b[0;36m1\u001b[0m\u001b[0;34m]\u001b[0m\u001b[0;34m.\u001b[0m\u001b[0mfun\u001b[0m\u001b[0;34m,\u001b[0m \u001b[0mfile_loaded\u001b[0m\u001b[0;34m)\u001b[0m\u001b[0;34m)\u001b[0m\u001b[0;34m\u001b[0m\u001b[0;34m\u001b[0m\u001b[0m\n\u001b[0m",
      "\u001b[0;31mAttributeError\u001b[0m: 'NoneType' object has no attribute 'fun'"
     ]
    }
   ],
   "source": [
    "x = list(map(lambda x: x[1].fun, file_loaded))"
   ]
  },
  {
   "cell_type": "code",
   "execution_count": 9,
   "metadata": {},
   "outputs": [
    {
     "data": {
      "text/plain": [
       "[([<models.SurpriseBasedModel at 0x11969e6d8>,\n",
       "   <models.SurpriseBasedModel at 0x1a23d6b940>,\n",
       "   <models.SurpriseBasedModel at 0x1a23d6bb38>,\n",
       "   <models.SurpriseBasedModel at 0x1a23d6bfd0>],\n",
       "  None),\n",
       " ([<models.SurpriseBasedModel at 0x1a31d031d0>,\n",
       "   <models.SurpriseBasedModel at 0x1a3b206c50>,\n",
       "   <models.SurpriseBasedModel at 0x1a3b206cf8>,\n",
       "   <models.SurpriseBasedModel at 0x1a3b206ef0>],\n",
       "  None),\n",
       " ([<models.SurpriseBasedModel at 0x1a48844080>,\n",
       "   <models.SurpriseBasedModel at 0x1a4fb5bba8>,\n",
       "   <models.SurpriseBasedModel at 0x1a4fb5bc50>,\n",
       "   <models.SurpriseBasedModel at 0x1a4fb5be48>],\n",
       "  None),\n",
       " ([<models.SurpriseBasedModel at 0x1a4fb5bf98>,\n",
       "   <models.SurpriseBasedModel at 0x1a604cea90>,\n",
       "   <models.SurpriseBasedModel at 0x1a604ceb38>,\n",
       "   <models.SurpriseBasedModel at 0x1a604ced30>],\n",
       "  None),\n",
       " ([<models.SurpriseBasedModel at 0x1a604cee80>,\n",
       "   <models.SurpriseBasedModel at 0x1aa897a940>,\n",
       "   <models.SurpriseBasedModel at 0x1aa897a9e8>,\n",
       "   <models.SurpriseBasedModel at 0x1aa897abe0>],\n",
       "  None),\n",
       " ([<models.SurpriseBasedModel at 0x1aa897ad30>,\n",
       "   <models.SurpriseBasedModel at 0x1ab92877f0>,\n",
       "   <models.SurpriseBasedModel at 0x1ab9287898>,\n",
       "   <models.SurpriseBasedModel at 0x1ab9287a90>],\n",
       "  None),\n",
       " ([<models.SurpriseBasedModel at 0x1ab9287be0>,\n",
       "   <models.SurpriseBasedModel at 0x1b291a66a0>,\n",
       "   <models.SurpriseBasedModel at 0x1b291a6748>,\n",
       "   <models.SurpriseBasedModel at 0x1b291a6940>],\n",
       "  None),\n",
       " ([<models.SurpriseBasedModel at 0x1b291a6a90>,\n",
       "   <models.SurpriseBasedModel at 0x1b39a75588>,\n",
       "   <models.SurpriseBasedModel at 0x1b39a75630>,\n",
       "   <models.SurpriseBasedModel at 0x1b39a75828>],\n",
       "  None),\n",
       " ([<models.SurpriseBasedModel at 0x1b39a75978>,\n",
       "   <models.SurpriseBasedModel at 0x1bb1a84470>,\n",
       "   <models.SurpriseBasedModel at 0x1bb1a84518>,\n",
       "   <models.SurpriseBasedModel at 0x1bb1a84710>],\n",
       "  None),\n",
       " ([<models.SurpriseBasedModel at 0x1bb1a84860>,\n",
       "   <models.SurpriseBasedModel at 0x1bc2387358>,\n",
       "   <models.SurpriseBasedModel at 0x1bc2387400>,\n",
       "   <models.SurpriseBasedModel at 0x1bc23875f8>],\n",
       "  None),\n",
       " ([<models.SurpriseBasedModel at 0x1bc2387748>,\n",
       "   <models.SurpriseBasedModel at 0x1bd2dcc240>,\n",
       "   <models.SurpriseBasedModel at 0x1bd2dcc2e8>,\n",
       "   <models.SurpriseBasedModel at 0x1bd2dcc4e0>],\n",
       "  None),\n",
       " ([<models.SurpriseBasedModel at 0x1bd2dcc630>,\n",
       "   <models.SurpriseBasedModel at 0x1c727c60f0>,\n",
       "   <models.SurpriseBasedModel at 0x1c727c6198>,\n",
       "   <models.SurpriseBasedModel at 0x1c727c6390>],\n",
       "  None)]"
      ]
     },
     "execution_count": 9,
     "metadata": {},
     "output_type": "execute_result"
    }
   ],
   "source": []
  },
  {
   "cell_type": "code",
   "execution_count": 39,
   "metadata": {},
   "outputs": [],
   "source": [
    "best = file_loaded[0]\n",
    "models = best[0]\n",
    "weights = best[1].x"
   ]
  },
  {
   "cell_type": "code",
   "execution_count": 66,
   "metadata": {},
   "outputs": [
    {
     "data": {
      "text/plain": [
       "['BaselineOnly', 'KNNBasic', 'SVD']"
      ]
     },
     "execution_count": 66,
     "metadata": {},
     "output_type": "execute_result"
    }
   ],
   "source": [
    "list(map(lambda x: x.name, models))"
   ]
  },
  {
   "cell_type": "code",
   "execution_count": 40,
   "metadata": {},
   "outputs": [
    {
     "data": {
      "application/vnd.jupyter.widget-view+json": {
       "model_id": "3fad55a44fdd4ff5af16fb0145267ebb",
       "version_major": 2,
       "version_minor": 0
      },
      "text/plain": [
       "HBox(children=(IntProgress(value=0, max=1176952), HTML(value='')))"
      ]
     },
     "metadata": {},
     "output_type": "display_data"
    },
    {
     "name": "stdout",
     "output_type": "stream",
     "text": [
      "\n"
     ]
    }
   ],
   "source": [
    "predictions = []\n",
    "for each in tqdm(df_submission.iterrows(), total=len(df_submission)):\n",
    "    user = each[1].user\n",
    "    movie = each[1].movie\n",
    "    \n",
    "    mix_prediction = 0\n",
    "    for i, w in enumerate(models):\n",
    "        pred = w.algo.predict(user, movie).est\n",
    "        mix_prediction += weights[i] * pred\n",
    "    predictions.append(mix_prediction)"
   ]
  },
  {
   "cell_type": "code",
   "execution_count": 55,
   "metadata": {
    "scrolled": true
   },
   "outputs": [],
   "source": [
    "clipped_predictions = np.clip(predictions, 1, 5)"
   ]
  },
  {
   "cell_type": "code",
   "execution_count": 58,
   "metadata": {},
   "outputs": [
    {
     "data": {
      "application/vnd.jupyter.widget-view+json": {
       "model_id": "308da7c6e3f944a38664fb345b86cd02",
       "version_major": 2,
       "version_minor": 0
      },
      "text/plain": [
       "HBox(children=(IntProgress(value=0, max=1176952), HTML(value='')))"
      ]
     },
     "metadata": {},
     "output_type": "display_data"
    }
   ],
   "source": [
    "new_predictions = []\n",
    "\n",
    "for i, each in enumerate(tqdm(df_submission.iterrows(), total=len(df_submission))):\n",
    "    one = (each[1].user, each[1].movie, clipped_predictions[i])\n",
    "    new_predictions.append(one)"
   ]
  },
  {
   "cell_type": "code",
   "execution_count": 61,
   "metadata": {
    "scrolled": false
   },
   "outputs": [
    {
     "name": "stderr",
     "output_type": "stream",
     "text": [
      "100%|██████████| 1176952/1176952 [00:02<00:00, 435910.26it/s]\n"
     ]
    }
   ],
   "source": [
    "x = s.write_predictions_to_file(new_predictions, \"run_8_blending_part_submission/submission.csv\")"
   ]
  },
  {
   "cell_type": "code",
   "execution_count": 198,
   "metadata": {},
   "outputs": [
    {
     "data": {
      "text/html": [
       "<div>\n",
       "<style scoped>\n",
       "    .dataframe tbody tr th:only-of-type {\n",
       "        vertical-align: middle;\n",
       "    }\n",
       "\n",
       "    .dataframe tbody tr th {\n",
       "        vertical-align: top;\n",
       "    }\n",
       "\n",
       "    .dataframe thead th {\n",
       "        text-align: right;\n",
       "    }\n",
       "</style>\n",
       "<table border=\"1\" class=\"dataframe\">\n",
       "  <thead>\n",
       "    <tr style=\"text-align: right;\">\n",
       "      <th></th>\n",
       "      <th>user</th>\n",
       "      <th>movie</th>\n",
       "      <th>Prediction</th>\n",
       "    </tr>\n",
       "  </thead>\n",
       "  <tbody>\n",
       "    <tr>\n",
       "      <th>0</th>\n",
       "      <td>44</td>\n",
       "      <td>1</td>\n",
       "      <td>4</td>\n",
       "    </tr>\n",
       "    <tr>\n",
       "      <th>1</th>\n",
       "      <td>61</td>\n",
       "      <td>1</td>\n",
       "      <td>3</td>\n",
       "    </tr>\n",
       "    <tr>\n",
       "      <th>2</th>\n",
       "      <td>67</td>\n",
       "      <td>1</td>\n",
       "      <td>4</td>\n",
       "    </tr>\n",
       "    <tr>\n",
       "      <th>3</th>\n",
       "      <td>72</td>\n",
       "      <td>1</td>\n",
       "      <td>3</td>\n",
       "    </tr>\n",
       "    <tr>\n",
       "      <th>4</th>\n",
       "      <td>86</td>\n",
       "      <td>1</td>\n",
       "      <td>5</td>\n",
       "    </tr>\n",
       "    <tr>\n",
       "      <th>5</th>\n",
       "      <td>90</td>\n",
       "      <td>1</td>\n",
       "      <td>4</td>\n",
       "    </tr>\n",
       "    <tr>\n",
       "      <th>6</th>\n",
       "      <td>108</td>\n",
       "      <td>1</td>\n",
       "      <td>3</td>\n",
       "    </tr>\n",
       "    <tr>\n",
       "      <th>7</th>\n",
       "      <td>114</td>\n",
       "      <td>1</td>\n",
       "      <td>3</td>\n",
       "    </tr>\n",
       "    <tr>\n",
       "      <th>8</th>\n",
       "      <td>120</td>\n",
       "      <td>1</td>\n",
       "      <td>2</td>\n",
       "    </tr>\n",
       "    <tr>\n",
       "      <th>9</th>\n",
       "      <td>135</td>\n",
       "      <td>1</td>\n",
       "      <td>5</td>\n",
       "    </tr>\n",
       "    <tr>\n",
       "      <th>10</th>\n",
       "      <td>152</td>\n",
       "      <td>1</td>\n",
       "      <td>4</td>\n",
       "    </tr>\n",
       "    <tr>\n",
       "      <th>11</th>\n",
       "      <td>165</td>\n",
       "      <td>1</td>\n",
       "      <td>3</td>\n",
       "    </tr>\n",
       "    <tr>\n",
       "      <th>12</th>\n",
       "      <td>182</td>\n",
       "      <td>1</td>\n",
       "      <td>3</td>\n",
       "    </tr>\n",
       "    <tr>\n",
       "      <th>13</th>\n",
       "      <td>310</td>\n",
       "      <td>1</td>\n",
       "      <td>3</td>\n",
       "    </tr>\n",
       "    <tr>\n",
       "      <th>14</th>\n",
       "      <td>318</td>\n",
       "      <td>1</td>\n",
       "      <td>1</td>\n",
       "    </tr>\n",
       "    <tr>\n",
       "      <th>15</th>\n",
       "      <td>333</td>\n",
       "      <td>1</td>\n",
       "      <td>3</td>\n",
       "    </tr>\n",
       "    <tr>\n",
       "      <th>16</th>\n",
       "      <td>355</td>\n",
       "      <td>1</td>\n",
       "      <td>2</td>\n",
       "    </tr>\n",
       "    <tr>\n",
       "      <th>17</th>\n",
       "      <td>390</td>\n",
       "      <td>1</td>\n",
       "      <td>4</td>\n",
       "    </tr>\n",
       "    <tr>\n",
       "      <th>18</th>\n",
       "      <td>401</td>\n",
       "      <td>1</td>\n",
       "      <td>4</td>\n",
       "    </tr>\n",
       "    <tr>\n",
       "      <th>19</th>\n",
       "      <td>410</td>\n",
       "      <td>1</td>\n",
       "      <td>2</td>\n",
       "    </tr>\n",
       "    <tr>\n",
       "      <th>20</th>\n",
       "      <td>418</td>\n",
       "      <td>1</td>\n",
       "      <td>3</td>\n",
       "    </tr>\n",
       "    <tr>\n",
       "      <th>21</th>\n",
       "      <td>457</td>\n",
       "      <td>1</td>\n",
       "      <td>2</td>\n",
       "    </tr>\n",
       "    <tr>\n",
       "      <th>22</th>\n",
       "      <td>470</td>\n",
       "      <td>1</td>\n",
       "      <td>4</td>\n",
       "    </tr>\n",
       "    <tr>\n",
       "      <th>23</th>\n",
       "      <td>497</td>\n",
       "      <td>1</td>\n",
       "      <td>3</td>\n",
       "    </tr>\n",
       "    <tr>\n",
       "      <th>24</th>\n",
       "      <td>516</td>\n",
       "      <td>1</td>\n",
       "      <td>3</td>\n",
       "    </tr>\n",
       "    <tr>\n",
       "      <th>25</th>\n",
       "      <td>566</td>\n",
       "      <td>1</td>\n",
       "      <td>3</td>\n",
       "    </tr>\n",
       "    <tr>\n",
       "      <th>26</th>\n",
       "      <td>595</td>\n",
       "      <td>1</td>\n",
       "      <td>2</td>\n",
       "    </tr>\n",
       "    <tr>\n",
       "      <th>27</th>\n",
       "      <td>670</td>\n",
       "      <td>1</td>\n",
       "      <td>3</td>\n",
       "    </tr>\n",
       "    <tr>\n",
       "      <th>28</th>\n",
       "      <td>673</td>\n",
       "      <td>1</td>\n",
       "      <td>4</td>\n",
       "    </tr>\n",
       "    <tr>\n",
       "      <th>29</th>\n",
       "      <td>708</td>\n",
       "      <td>1</td>\n",
       "      <td>1</td>\n",
       "    </tr>\n",
       "    <tr>\n",
       "      <th>...</th>\n",
       "      <td>...</td>\n",
       "      <td>...</td>\n",
       "      <td>...</td>\n",
       "    </tr>\n",
       "    <tr>\n",
       "      <th>1176922</th>\n",
       "      <td>9846</td>\n",
       "      <td>1000</td>\n",
       "      <td>3</td>\n",
       "    </tr>\n",
       "    <tr>\n",
       "      <th>1176923</th>\n",
       "      <td>9855</td>\n",
       "      <td>1000</td>\n",
       "      <td>4</td>\n",
       "    </tr>\n",
       "    <tr>\n",
       "      <th>1176924</th>\n",
       "      <td>9867</td>\n",
       "      <td>1000</td>\n",
       "      <td>3</td>\n",
       "    </tr>\n",
       "    <tr>\n",
       "      <th>1176925</th>\n",
       "      <td>9874</td>\n",
       "      <td>1000</td>\n",
       "      <td>5</td>\n",
       "    </tr>\n",
       "    <tr>\n",
       "      <th>1176926</th>\n",
       "      <td>9875</td>\n",
       "      <td>1000</td>\n",
       "      <td>3</td>\n",
       "    </tr>\n",
       "    <tr>\n",
       "      <th>1176927</th>\n",
       "      <td>9884</td>\n",
       "      <td>1000</td>\n",
       "      <td>2</td>\n",
       "    </tr>\n",
       "    <tr>\n",
       "      <th>1176928</th>\n",
       "      <td>9890</td>\n",
       "      <td>1000</td>\n",
       "      <td>5</td>\n",
       "    </tr>\n",
       "    <tr>\n",
       "      <th>1176929</th>\n",
       "      <td>9904</td>\n",
       "      <td>1000</td>\n",
       "      <td>5</td>\n",
       "    </tr>\n",
       "    <tr>\n",
       "      <th>1176930</th>\n",
       "      <td>9909</td>\n",
       "      <td>1000</td>\n",
       "      <td>4</td>\n",
       "    </tr>\n",
       "    <tr>\n",
       "      <th>1176931</th>\n",
       "      <td>9913</td>\n",
       "      <td>1000</td>\n",
       "      <td>2</td>\n",
       "    </tr>\n",
       "    <tr>\n",
       "      <th>1176932</th>\n",
       "      <td>9922</td>\n",
       "      <td>1000</td>\n",
       "      <td>3</td>\n",
       "    </tr>\n",
       "    <tr>\n",
       "      <th>1176933</th>\n",
       "      <td>9925</td>\n",
       "      <td>1000</td>\n",
       "      <td>3</td>\n",
       "    </tr>\n",
       "    <tr>\n",
       "      <th>1176934</th>\n",
       "      <td>9929</td>\n",
       "      <td>1000</td>\n",
       "      <td>4</td>\n",
       "    </tr>\n",
       "    <tr>\n",
       "      <th>1176935</th>\n",
       "      <td>9936</td>\n",
       "      <td>1000</td>\n",
       "      <td>2</td>\n",
       "    </tr>\n",
       "    <tr>\n",
       "      <th>1176936</th>\n",
       "      <td>9944</td>\n",
       "      <td>1000</td>\n",
       "      <td>4</td>\n",
       "    </tr>\n",
       "    <tr>\n",
       "      <th>1176937</th>\n",
       "      <td>9945</td>\n",
       "      <td>1000</td>\n",
       "      <td>5</td>\n",
       "    </tr>\n",
       "    <tr>\n",
       "      <th>1176938</th>\n",
       "      <td>9949</td>\n",
       "      <td>1000</td>\n",
       "      <td>4</td>\n",
       "    </tr>\n",
       "    <tr>\n",
       "      <th>1176939</th>\n",
       "      <td>9957</td>\n",
       "      <td>1000</td>\n",
       "      <td>3</td>\n",
       "    </tr>\n",
       "    <tr>\n",
       "      <th>1176940</th>\n",
       "      <td>9958</td>\n",
       "      <td>1000</td>\n",
       "      <td>4</td>\n",
       "    </tr>\n",
       "    <tr>\n",
       "      <th>1176941</th>\n",
       "      <td>9960</td>\n",
       "      <td>1000</td>\n",
       "      <td>3</td>\n",
       "    </tr>\n",
       "    <tr>\n",
       "      <th>1176942</th>\n",
       "      <td>9961</td>\n",
       "      <td>1000</td>\n",
       "      <td>4</td>\n",
       "    </tr>\n",
       "    <tr>\n",
       "      <th>1176943</th>\n",
       "      <td>9964</td>\n",
       "      <td>1000</td>\n",
       "      <td>3</td>\n",
       "    </tr>\n",
       "    <tr>\n",
       "      <th>1176944</th>\n",
       "      <td>9968</td>\n",
       "      <td>1000</td>\n",
       "      <td>5</td>\n",
       "    </tr>\n",
       "    <tr>\n",
       "      <th>1176945</th>\n",
       "      <td>9970</td>\n",
       "      <td>1000</td>\n",
       "      <td>5</td>\n",
       "    </tr>\n",
       "    <tr>\n",
       "      <th>1176946</th>\n",
       "      <td>9976</td>\n",
       "      <td>1000</td>\n",
       "      <td>5</td>\n",
       "    </tr>\n",
       "    <tr>\n",
       "      <th>1176947</th>\n",
       "      <td>9990</td>\n",
       "      <td>1000</td>\n",
       "      <td>4</td>\n",
       "    </tr>\n",
       "    <tr>\n",
       "      <th>1176948</th>\n",
       "      <td>9992</td>\n",
       "      <td>1000</td>\n",
       "      <td>5</td>\n",
       "    </tr>\n",
       "    <tr>\n",
       "      <th>1176949</th>\n",
       "      <td>9994</td>\n",
       "      <td>1000</td>\n",
       "      <td>3</td>\n",
       "    </tr>\n",
       "    <tr>\n",
       "      <th>1176950</th>\n",
       "      <td>9997</td>\n",
       "      <td>1000</td>\n",
       "      <td>4</td>\n",
       "    </tr>\n",
       "    <tr>\n",
       "      <th>1176951</th>\n",
       "      <td>10000</td>\n",
       "      <td>1000</td>\n",
       "      <td>3</td>\n",
       "    </tr>\n",
       "  </tbody>\n",
       "</table>\n",
       "<p>1176952 rows × 3 columns</p>\n",
       "</div>"
      ],
      "text/plain": [
       "          user movie  Prediction\n",
       "0           44     1           4\n",
       "1           61     1           3\n",
       "2           67     1           4\n",
       "3           72     1           3\n",
       "4           86     1           5\n",
       "5           90     1           4\n",
       "6          108     1           3\n",
       "7          114     1           3\n",
       "8          120     1           2\n",
       "9          135     1           5\n",
       "10         152     1           4\n",
       "11         165     1           3\n",
       "12         182     1           3\n",
       "13         310     1           3\n",
       "14         318     1           1\n",
       "15         333     1           3\n",
       "16         355     1           2\n",
       "17         390     1           4\n",
       "18         401     1           4\n",
       "19         410     1           2\n",
       "20         418     1           3\n",
       "21         457     1           2\n",
       "22         470     1           4\n",
       "23         497     1           3\n",
       "24         516     1           3\n",
       "25         566     1           3\n",
       "26         595     1           2\n",
       "27         670     1           3\n",
       "28         673     1           4\n",
       "29         708     1           1\n",
       "...        ...   ...         ...\n",
       "1176922   9846  1000           3\n",
       "1176923   9855  1000           4\n",
       "1176924   9867  1000           3\n",
       "1176925   9874  1000           5\n",
       "1176926   9875  1000           3\n",
       "1176927   9884  1000           2\n",
       "1176928   9890  1000           5\n",
       "1176929   9904  1000           5\n",
       "1176930   9909  1000           4\n",
       "1176931   9913  1000           2\n",
       "1176932   9922  1000           3\n",
       "1176933   9925  1000           3\n",
       "1176934   9929  1000           4\n",
       "1176935   9936  1000           2\n",
       "1176936   9944  1000           4\n",
       "1176937   9945  1000           5\n",
       "1176938   9949  1000           4\n",
       "1176939   9957  1000           3\n",
       "1176940   9958  1000           4\n",
       "1176941   9960  1000           3\n",
       "1176942   9961  1000           4\n",
       "1176943   9964  1000           3\n",
       "1176944   9968  1000           5\n",
       "1176945   9970  1000           5\n",
       "1176946   9976  1000           5\n",
       "1176947   9990  1000           4\n",
       "1176948   9992  1000           5\n",
       "1176949   9994  1000           3\n",
       "1176950   9997  1000           4\n",
       "1176951  10000  1000           3\n",
       "\n",
       "[1176952 rows x 3 columns]"
      ]
     },
     "execution_count": 198,
     "metadata": {},
     "output_type": "execute_result"
    }
   ],
   "source": [
    "data"
   ]
  },
  {
   "cell_type": "code",
   "execution_count": 269,
   "metadata": {},
   "outputs": [],
   "source": [
    "kf = KFold(n_splits = 3)\n",
    "splits = list(kf.split(data))\n",
    "trainset, testset = splits[0]"
   ]
  },
  {
   "cell_type": "code",
   "execution_count": 270,
   "metadata": {},
   "outputs": [],
   "source": [
    "df_train = pd.DataFrame.from_records(trainset.all_ratings(), columns=['user', 'movie', 'rating'])\n",
    "df_train.user = df_train.user + 1\n",
    "df_movie_to_rating = df_train.groupby('user')['movie'].mean()"
   ]
  },
  {
   "cell_type": "code",
   "execution_count": 245,
   "metadata": {},
   "outputs": [
    {
     "data": {
      "application/vnd.jupyter.widget-view+json": {
       "model_id": "5f634cc2d72344e4884d3d16ac3b701e",
       "version_major": 2,
       "version_minor": 0
      },
      "text/plain": [
       "HBox(children=(IntProgress(value=0, max=392318), HTML(value='')))"
      ]
     },
     "metadata": {},
     "output_type": "display_data"
    },
    {
     "name": "stdout",
     "output_type": "stream",
     "text": [
      "\n"
     ]
    }
   ],
   "source": [
    "predictions = []\n",
    "true_rating = []\n",
    "for each in tqdm(testset):\n",
    "    movie = each[1] \n",
    "    rating = each[2]\n",
    "    predictions.append(df_movie_to_rating.loc[int(movie)])\n",
    "    true_rating.append(rating)"
   ]
  },
  {
   "cell_type": "code",
   "execution_count": 234,
   "metadata": {},
   "outputs": [
    {
     "data": {
      "text/plain": [
       "1.1564015343845808"
      ]
     },
     "execution_count": 234,
     "metadata": {},
     "output_type": "execute_result"
    }
   ],
   "source": [
    "np.sqrt(mean_squared_error(predictions, true_rating))"
   ]
  },
  {
   "cell_type": "code",
   "execution_count": 271,
   "metadata": {},
   "outputs": [],
   "source": [
    "def to_matrix(data_from_surprse):\n",
    "    df_train = pd.DataFrame.from_records(trainset.all_ratings(), columns=['user', 'movie', 'rating'])\n",
    "    df_train.user.max()\n",
    "\n",
    "    m = np.zeros((df_train.user.max(), df_train.movie.max()))\n",
    "    for each in df_train.iterrows():\n",
    "        user_id = int(each[1].user)\n",
    "        movie_id = int(each[1].movie)\n",
    "        m[user_id - 1, movie_id - 1] = each[1].rating\n",
    "    return m"
   ]
  },
  {
   "cell_type": "code",
   "execution_count": 272,
   "metadata": {},
   "outputs": [
    {
     "data": {
      "text/plain": [
       "array([[3., 0., 0., ..., 0., 0., 0.],\n",
       "       [0., 5., 2., ..., 0., 0., 0.],\n",
       "       [0., 0., 4., ..., 0., 0., 0.],\n",
       "       ...,\n",
       "       [0., 0., 0., ..., 0., 0., 0.],\n",
       "       [0., 0., 0., ..., 0., 0., 0.],\n",
       "       [0., 0., 0., ..., 0., 0., 5.]])"
      ]
     },
     "execution_count": 272,
     "metadata": {},
     "output_type": "execute_result"
    }
   ],
   "source": [
    "to_matrix(trainset.all_ratings())"
   ]
  },
  {
   "cell_type": "code",
   "execution_count": 273,
   "metadata": {},
   "outputs": [
    {
     "data": {
      "text/plain": [
       "array([[3., 0., 0., ..., 0., 0., 0.],\n",
       "       [0., 5., 2., ..., 0., 0., 0.],\n",
       "       [0., 0., 4., ..., 0., 0., 0.],\n",
       "       ...,\n",
       "       [0., 0., 0., ..., 0., 0., 0.],\n",
       "       [0., 0., 0., ..., 0., 0., 0.],\n",
       "       [0., 0., 0., ..., 0., 0., 5.]])"
      ]
     },
     "execution_count": 273,
     "metadata": {},
     "output_type": "execute_result"
    }
   ],
   "source": [
    "to_matrix(testset)"
   ]
  },
  {
   "cell_type": "code",
   "execution_count": 288,
   "metadata": {},
   "outputs": [],
   "source": [
    "def statistics(data):\n",
    "    row = set([int(line[0]) for line in data])\n",
    "    col = set([int(line[1]) for line in data])\n",
    "    return min(row), max(row), min(col), max(col)"
   ]
  },
  {
   "cell_type": "code",
   "execution_count": 289,
   "metadata": {},
   "outputs": [
    {
     "data": {
      "text/plain": [
       "(1, 10000, 1, 1000)"
      ]
     },
     "execution_count": 289,
     "metadata": {},
     "output_type": "execute_result"
    }
   ],
   "source": [
    "statistics(testset)"
   ]
  },
  {
   "cell_type": "code",
   "execution_count": 292,
   "metadata": {},
   "outputs": [],
   "source": [
    "import scipy.sparse as sp\n",
    "min_row, max_row, min_col, max_col = statistics(testset)\n",
    "ratings = sp.lil_matrix((max_row, max_col))\n",
    "for row, col, rating in testset:\n",
    "    ratings[int(row) - 1, int(col) - 1] = int(rating)"
   ]
  },
  {
   "cell_type": "code",
   "execution_count": 4,
   "metadata": {},
   "outputs": [],
   "source": [
    "### Pearson"
   ]
  },
  {
   "cell_type": "code",
   "execution_count": 42,
   "metadata": {},
   "outputs": [],
   "source": [
    "predictions = pickle.load(open('run_14/new_solo_model.predictions', 'rb'))"
   ]
  },
  {
   "cell_type": "code",
   "execution_count": 11,
   "metadata": {},
   "outputs": [],
   "source": [
    "matrixFactor = pickle.load(open('run_14/MatrixFactor', 'rb'))"
   ]
  },
  {
   "cell_type": "code",
   "execution_count": 27,
   "metadata": {},
   "outputs": [],
   "source": [
    "factor = min(matrixFactor, key=lambda x: x[0][0].rmse)[0][0]"
   ]
  },
  {
   "cell_type": "code",
   "execution_count": 47,
   "metadata": {},
   "outputs": [],
   "source": [
    "def create_predictions(predictor):\n",
    "    lines = read_txt('data/sample_submission.csv')[1:]\n",
    "    data = [deal_line(line) for line in lines]\n",
    "\n",
    "    predictions = []\n",
    "    for i, each in tqdm(enumerate(data)):\n",
    "        pred1 = predictor.predict(each[0], each[1])\n",
    "        predictions.append(int(round(pred1)))\n",
    "\n",
    "    return predictions"
   ]
  },
  {
   "cell_type": "code",
   "execution_count": 48,
   "metadata": {},
   "outputs": [
    {
     "data": {
      "application/vnd.jupyter.widget-view+json": {
       "model_id": "4d03baf3d1da4fbfb3fa4612e16c0898",
       "version_major": 2,
       "version_minor": 0
      },
      "text/plain": [
       "HBox(children=(IntProgress(value=1, bar_style='info', max=1), HTML(value='')))"
      ]
     },
     "metadata": {},
     "output_type": "display_data"
    },
    {
     "name": "stdout",
     "output_type": "stream",
     "text": [
      "\n"
     ]
    }
   ],
   "source": [
    "predictions_matrix_factor = create_predictions(factor)"
   ]
  },
  {
   "cell_type": "code",
   "execution_count": 49,
   "metadata": {},
   "outputs": [],
   "source": [
    "predictions.append(predictions_matrix_factor)"
   ]
  },
  {
   "cell_type": "code",
   "execution_count": 55,
   "metadata": {},
   "outputs": [],
   "source": [
    "pd.DataFrame(np.corrcoef(predictions)).to_csv('person.csv')"
   ]
  },
  {
   "cell_type": "code",
   "execution_count": null,
   "metadata": {},
   "outputs": [],
   "source": []
  }
 ],
 "metadata": {
  "kernelspec": {
   "display_name": "Python 3",
   "language": "python",
   "name": "python3"
  },
  "language_info": {
   "codemirror_mode": {
    "name": "ipython",
    "version": 3
   },
   "file_extension": ".py",
   "mimetype": "text/x-python",
   "name": "python",
   "nbconvert_exporter": "python",
   "pygments_lexer": "ipython3",
   "version": "3.6.7"
  }
 },
 "nbformat": 4,
 "nbformat_minor": 2
}
